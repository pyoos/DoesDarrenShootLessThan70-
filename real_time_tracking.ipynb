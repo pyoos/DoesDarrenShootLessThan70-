{
 "cells": [
  {
   "cell_type": "code",
   "execution_count": 1,
   "id": "a1a609f8",
   "metadata": {},
   "outputs": [
    {
     "name": "stdout",
     "output_type": "stream",
     "text": [
      "Requirement already satisfied: opencv-python in /Users/paulyoo/anaconda3/lib/python3.11/site-packages (4.8.0.76)\r\n",
      "Requirement already satisfied: numpy>=1.21.2 in /Users/paulyoo/anaconda3/lib/python3.11/site-packages (from opencv-python) (1.24.3)\r\n"
     ]
    }
   ],
   "source": [
    "!pip install opencv-python\n",
    "!pip3 install ultralytics\n",
    "!pip3 install lapx\n",
    "!pip3 install yt-dlp\n",
    "!pip3 install roboflow"
   ]
  },
  {
   "cell_type": "markdown",
   "id": "bc0f72e4",
   "metadata": {},
   "source": [
    "# Real Time Video Capture Using Webcam"
   ]
  },
  {
   "cell_type": "code",
   "execution_count": 2,
   "id": "378035d2",
   "metadata": {},
   "outputs": [],
   "source": [
    "import cv2\n",
    "\n",
    "\n",
    "# real time video capture using webcam\n",
    "# press (q) to exit\n",
    "\n",
    "cap = cv2.VideoCapture(0)\n",
    "cap.set(3, 640)\n",
    "cap.set(4, 480)\n",
    "\n",
    "while True:\n",
    "    ret, img= cap.read()\n",
    "    cv2.imshow('Webcam', img)\n",
    "\n",
    "    if cv2.waitKey(1) == ord('q'):\n",
    "        break\n",
    "\n",
    "        \n",
    "        \n",
    "cap.release()\n",
    "cv2.destroyAllWindows()\n",
    "for i in range (1,5):\n",
    "    cv2.waitKey(1)\n",
    "# this part above is necessary to remove window, just destroyAllWindows() breaks\n",
    "\n"
   ]
  },
  {
   "cell_type": "markdown",
   "id": "dbafbee6",
   "metadata": {},
   "source": [
    "# Yolov8 Implementation"
   ]
  },
  {
   "cell_type": "code",
   "execution_count": null,
   "id": "596d372f",
   "metadata": {},
   "outputs": [],
   "source": [
    "from ultralytics import YOLO\n",
    "from roboflow import Roboflow\n",
    "rf = Roboflow(api_key='XXXX')\n",
    "project = rf.workspace(\"basketball-j7q33\").project(\"basketball-labeling\")\n",
    "\n",
    "# dataset = project.version(4).download(\"yolov8\") # creates new folder with the dataset information\n",
    "model = project.version(4).model\n",
    "\n",
    "#Classification\tDetection\tSegmentation\tKind\n",
    "#yolov8n-cls.pt\tyolov8n.pt\tyolov8n-seg.pt\tNano\n",
    "#yolov8s-cls.pt\tyolov8s.pt\tyolov8s-seg.pt\tSmall\n",
    "#yolov8m-cls.pt\tyolov8m.pt\tyolov8m-seg.pt\tMedium\n",
    "#yolov8l-cls.pt\tyolov8l.pt\tyolov8l-seg.pt\tLarge\n",
    "#yolov8x-cls.pt\tyolov8x.pt\tyolov8x-seg.pt\tHuge\n",
    "\n",
    "model = YOLO(\"yolov8m.pt\")\n",
    "\n",
    "#train\n",
    "#predict\n",
    "#export\n",
    "\n",
    "\n"
   ]
  },
  {
   "cell_type": "code",
   "execution_count": 3,
   "id": "975a1333",
   "metadata": {
    "scrolled": true
   },
   "outputs": [
    {
     "name": "stdout",
     "output_type": "stream",
     "text": [
      "Requirement already satisfied: roboflow in /Users/paulyoo/anaconda3/lib/python3.11/site-packages (1.1.7)\n",
      "Requirement already satisfied: certifi==2022.12.7 in /Users/paulyoo/anaconda3/lib/python3.11/site-packages (from roboflow) (2022.12.7)\n",
      "Requirement already satisfied: chardet==4.0.0 in /Users/paulyoo/anaconda3/lib/python3.11/site-packages (from roboflow) (4.0.0)\n",
      "Requirement already satisfied: cycler==0.10.0 in /Users/paulyoo/anaconda3/lib/python3.11/site-packages (from roboflow) (0.10.0)\n",
      "Requirement already satisfied: idna==2.10 in /Users/paulyoo/anaconda3/lib/python3.11/site-packages (from roboflow) (2.10)\n",
      "Requirement already satisfied: kiwisolver>=1.3.1 in /Users/paulyoo/anaconda3/lib/python3.11/site-packages (from roboflow) (1.4.4)\n",
      "Requirement already satisfied: matplotlib in /Users/paulyoo/anaconda3/lib/python3.11/site-packages (from roboflow) (3.7.1)\n",
      "Requirement already satisfied: numpy>=1.18.5 in /Users/paulyoo/anaconda3/lib/python3.11/site-packages (from roboflow) (1.24.3)\n",
      "Requirement already satisfied: opencv-python-headless==4.8.0.74 in /Users/paulyoo/anaconda3/lib/python3.11/site-packages (from roboflow) (4.8.0.74)\n",
      "Requirement already satisfied: Pillow>=7.1.2 in /Users/paulyoo/anaconda3/lib/python3.11/site-packages (from roboflow) (9.4.0)\n",
      "Requirement already satisfied: pyparsing==2.4.7 in /Users/paulyoo/anaconda3/lib/python3.11/site-packages (from roboflow) (2.4.7)\n",
      "Requirement already satisfied: python-dateutil in /Users/paulyoo/anaconda3/lib/python3.11/site-packages (from roboflow) (2.8.2)\n",
      "Requirement already satisfied: python-dotenv in /Users/paulyoo/anaconda3/lib/python3.11/site-packages (from roboflow) (1.0.0)\n",
      "Requirement already satisfied: requests in /Users/paulyoo/anaconda3/lib/python3.11/site-packages (from roboflow) (2.31.0)\n",
      "Requirement already satisfied: six in /Users/paulyoo/anaconda3/lib/python3.11/site-packages (from roboflow) (1.16.0)\n",
      "Requirement already satisfied: supervision in /Users/paulyoo/anaconda3/lib/python3.11/site-packages (from roboflow) (0.16.0)\n",
      "Requirement already satisfied: urllib3>=1.26.6 in /Users/paulyoo/anaconda3/lib/python3.11/site-packages (from roboflow) (1.26.16)\n",
      "Requirement already satisfied: tqdm>=4.41.0 in /Users/paulyoo/anaconda3/lib/python3.11/site-packages (from roboflow) (4.65.0)\n",
      "Requirement already satisfied: PyYAML>=5.3.1 in /Users/paulyoo/anaconda3/lib/python3.11/site-packages (from roboflow) (6.0)\n",
      "Requirement already satisfied: requests-toolbelt in /Users/paulyoo/anaconda3/lib/python3.11/site-packages (from roboflow) (1.0.0)\n",
      "Requirement already satisfied: contourpy>=1.0.1 in /Users/paulyoo/anaconda3/lib/python3.11/site-packages (from matplotlib->roboflow) (1.0.5)\n",
      "Requirement already satisfied: fonttools>=4.22.0 in /Users/paulyoo/anaconda3/lib/python3.11/site-packages (from matplotlib->roboflow) (4.25.0)\n",
      "Requirement already satisfied: packaging>=20.0 in /Users/paulyoo/anaconda3/lib/python3.11/site-packages (from matplotlib->roboflow) (23.0)\n",
      "Requirement already satisfied: charset-normalizer<4,>=2 in /Users/paulyoo/anaconda3/lib/python3.11/site-packages (from requests->roboflow) (2.0.4)\n",
      "Requirement already satisfied: scipy<2.0.0,>=1.9.0 in /Users/paulyoo/anaconda3/lib/python3.11/site-packages (from supervision->roboflow) (1.10.1)\n",
      "loading Roboflow workspace...\n",
      "loading Roboflow project...\n",
      "Dependency ultralytics==8.0.134 is required but found version=8.0.207, to fix: `pip install ultralytics==8.0.134`\n"
     ]
    },
    {
     "name": "stderr",
     "output_type": "stream",
     "text": [
      "Downloading Dataset Version Zip in Player_detect-1 to yolov8::   1%| | 5519/5594\n"
     ]
    },
    {
     "ename": "KeyboardInterrupt",
     "evalue": "",
     "output_type": "error",
     "traceback": [
      "\u001b[0;31m---------------------------------------------------------------------------\u001b[0m",
      "\u001b[0;31mKeyboardInterrupt\u001b[0m                         Traceback (most recent call last)",
      "Cell \u001b[0;32mIn[3], line 7\u001b[0m\n\u001b[1;32m      5\u001b[0m rf \u001b[38;5;241m=\u001b[39m Roboflow(api_key\u001b[38;5;241m=\u001b[39m\u001b[38;5;124m\"\u001b[39m\u001b[38;5;124mZ9OB663c6EEIGr5a6cZ7\u001b[39m\u001b[38;5;124m\"\u001b[39m)\n\u001b[1;32m      6\u001b[0m project \u001b[38;5;241m=\u001b[39m rf\u001b[38;5;241m.\u001b[39mworkspace(\u001b[38;5;124m\"\u001b[39m\u001b[38;5;124mtest-datset\u001b[39m\u001b[38;5;124m\"\u001b[39m)\u001b[38;5;241m.\u001b[39mproject(\u001b[38;5;124m\"\u001b[39m\u001b[38;5;124mplayer_detect-0spfb\u001b[39m\u001b[38;5;124m\"\u001b[39m)\n\u001b[0;32m----> 7\u001b[0m dataset \u001b[38;5;241m=\u001b[39m project\u001b[38;5;241m.\u001b[39mversion(\u001b[38;5;241m1\u001b[39m)\u001b[38;5;241m.\u001b[39mdownload(\u001b[38;5;124m\"\u001b[39m\u001b[38;5;124myolov8\u001b[39m\u001b[38;5;124m\"\u001b[39m)\n",
      "File \u001b[0;32m~/anaconda3/lib/python3.11/site-packages/roboflow/core/version.py:236\u001b[0m, in \u001b[0;36mVersion.download\u001b[0;34m(self, model_format, location, overwrite)\u001b[0m\n\u001b[1;32m    233\u001b[0m         \u001b[38;5;28;01mexcept\u001b[39;00m json\u001b[38;5;241m.\u001b[39mJSONDecodeError:\n\u001b[1;32m    234\u001b[0m             response\u001b[38;5;241m.\u001b[39mraise_for_status()\n\u001b[0;32m--> 236\u001b[0m \u001b[38;5;28mself\u001b[39m\u001b[38;5;241m.\u001b[39m__download_zip(link, location, model_format)\n\u001b[1;32m    237\u001b[0m \u001b[38;5;28mself\u001b[39m\u001b[38;5;241m.\u001b[39m__extract_zip(location, model_format)\n\u001b[1;32m    238\u001b[0m \u001b[38;5;28mself\u001b[39m\u001b[38;5;241m.\u001b[39m__reformat_yaml(location, model_format)\n",
      "File \u001b[0;32m~/anaconda3/lib/python3.11/site-packages/roboflow/core/version.py:664\u001b[0m, in \u001b[0;36mVersion.__download_zip\u001b[0;34m(self, link, location, format)\u001b[0m\n\u001b[1;32m    662\u001b[0m \u001b[38;5;28;01mwith\u001b[39;00m \u001b[38;5;28mopen\u001b[39m(location \u001b[38;5;241m+\u001b[39m \u001b[38;5;124m\"\u001b[39m\u001b[38;5;124m/roboflow.zip\u001b[39m\u001b[38;5;124m\"\u001b[39m, \u001b[38;5;124m\"\u001b[39m\u001b[38;5;124mwb\u001b[39m\u001b[38;5;124m\"\u001b[39m) \u001b[38;5;28;01mas\u001b[39;00m f:\n\u001b[1;32m    663\u001b[0m     total_length \u001b[38;5;241m=\u001b[39m \u001b[38;5;28mint\u001b[39m(response\u001b[38;5;241m.\u001b[39mheaders\u001b[38;5;241m.\u001b[39mget(\u001b[38;5;124m\"\u001b[39m\u001b[38;5;124mcontent-length\u001b[39m\u001b[38;5;124m\"\u001b[39m))\n\u001b[0;32m--> 664\u001b[0m     \u001b[38;5;28;01mfor\u001b[39;00m chunk \u001b[38;5;129;01min\u001b[39;00m tqdm(\n\u001b[1;32m    665\u001b[0m         response\u001b[38;5;241m.\u001b[39miter_content(chunk_size\u001b[38;5;241m=\u001b[39m\u001b[38;5;241m1024\u001b[39m),\n\u001b[1;32m    666\u001b[0m         desc\u001b[38;5;241m=\u001b[39m\u001b[38;5;124mf\u001b[39m\u001b[38;5;124m\"\u001b[39m\u001b[38;5;124mDownloading Dataset Version Zip in \u001b[39m\u001b[38;5;132;01m{\u001b[39;00mlocation\u001b[38;5;132;01m}\u001b[39;00m\u001b[38;5;124m to \u001b[39m\u001b[38;5;132;01m{\u001b[39;00m\u001b[38;5;28mformat\u001b[39m\u001b[38;5;132;01m}\u001b[39;00m\u001b[38;5;124m:\u001b[39m\u001b[38;5;124m\"\u001b[39m,\n\u001b[1;32m    667\u001b[0m         total\u001b[38;5;241m=\u001b[39m\u001b[38;5;28mint\u001b[39m(total_length \u001b[38;5;241m/\u001b[39m \u001b[38;5;241m1024\u001b[39m) \u001b[38;5;241m+\u001b[39m \u001b[38;5;241m1\u001b[39m,\n\u001b[1;32m    668\u001b[0m     ):\n\u001b[1;32m    669\u001b[0m         \u001b[38;5;28;01mif\u001b[39;00m chunk:\n\u001b[1;32m    670\u001b[0m             f\u001b[38;5;241m.\u001b[39mwrite(chunk)\n",
      "File \u001b[0;32m~/anaconda3/lib/python3.11/site-packages/tqdm/std.py:1178\u001b[0m, in \u001b[0;36mtqdm.__iter__\u001b[0;34m(self)\u001b[0m\n\u001b[1;32m   1175\u001b[0m time \u001b[38;5;241m=\u001b[39m \u001b[38;5;28mself\u001b[39m\u001b[38;5;241m.\u001b[39m_time\n\u001b[1;32m   1177\u001b[0m \u001b[38;5;28;01mtry\u001b[39;00m:\n\u001b[0;32m-> 1178\u001b[0m     \u001b[38;5;28;01mfor\u001b[39;00m obj \u001b[38;5;129;01min\u001b[39;00m iterable:\n\u001b[1;32m   1179\u001b[0m         \u001b[38;5;28;01myield\u001b[39;00m obj\n\u001b[1;32m   1180\u001b[0m         \u001b[38;5;66;03m# Update and possibly print the progressbar.\u001b[39;00m\n\u001b[1;32m   1181\u001b[0m         \u001b[38;5;66;03m# Note: does not call self.update(1) for speed optimisation.\u001b[39;00m\n",
      "File \u001b[0;32m~/anaconda3/lib/python3.11/site-packages/requests/models.py:816\u001b[0m, in \u001b[0;36mResponse.iter_content.<locals>.generate\u001b[0;34m()\u001b[0m\n\u001b[1;32m    814\u001b[0m \u001b[38;5;28;01mif\u001b[39;00m \u001b[38;5;28mhasattr\u001b[39m(\u001b[38;5;28mself\u001b[39m\u001b[38;5;241m.\u001b[39mraw, \u001b[38;5;124m\"\u001b[39m\u001b[38;5;124mstream\u001b[39m\u001b[38;5;124m\"\u001b[39m):\n\u001b[1;32m    815\u001b[0m     \u001b[38;5;28;01mtry\u001b[39;00m:\n\u001b[0;32m--> 816\u001b[0m         \u001b[38;5;28;01myield from\u001b[39;00m \u001b[38;5;28mself\u001b[39m\u001b[38;5;241m.\u001b[39mraw\u001b[38;5;241m.\u001b[39mstream(chunk_size, decode_content\u001b[38;5;241m=\u001b[39m\u001b[38;5;28;01mTrue\u001b[39;00m)\n\u001b[1;32m    817\u001b[0m     \u001b[38;5;28;01mexcept\u001b[39;00m ProtocolError \u001b[38;5;28;01mas\u001b[39;00m e:\n\u001b[1;32m    818\u001b[0m         \u001b[38;5;28;01mraise\u001b[39;00m ChunkedEncodingError(e)\n",
      "File \u001b[0;32m~/anaconda3/lib/python3.11/site-packages/urllib3/response.py:628\u001b[0m, in \u001b[0;36mHTTPResponse.stream\u001b[0;34m(self, amt, decode_content)\u001b[0m\n\u001b[1;32m    626\u001b[0m \u001b[38;5;28;01melse\u001b[39;00m:\n\u001b[1;32m    627\u001b[0m     \u001b[38;5;28;01mwhile\u001b[39;00m \u001b[38;5;129;01mnot\u001b[39;00m is_fp_closed(\u001b[38;5;28mself\u001b[39m\u001b[38;5;241m.\u001b[39m_fp):\n\u001b[0;32m--> 628\u001b[0m         data \u001b[38;5;241m=\u001b[39m \u001b[38;5;28mself\u001b[39m\u001b[38;5;241m.\u001b[39mread(amt\u001b[38;5;241m=\u001b[39mamt, decode_content\u001b[38;5;241m=\u001b[39mdecode_content)\n\u001b[1;32m    630\u001b[0m         \u001b[38;5;28;01mif\u001b[39;00m data:\n\u001b[1;32m    631\u001b[0m             \u001b[38;5;28;01myield\u001b[39;00m data\n",
      "File \u001b[0;32m~/anaconda3/lib/python3.11/site-packages/urllib3/response.py:566\u001b[0m, in \u001b[0;36mHTTPResponse.read\u001b[0;34m(self, amt, decode_content, cache_content)\u001b[0m\n\u001b[1;32m    563\u001b[0m flush_decoder \u001b[38;5;241m=\u001b[39m \u001b[38;5;28;01mFalse\u001b[39;00m\n\u001b[1;32m    564\u001b[0m fp_closed \u001b[38;5;241m=\u001b[39m \u001b[38;5;28mgetattr\u001b[39m(\u001b[38;5;28mself\u001b[39m\u001b[38;5;241m.\u001b[39m_fp, \u001b[38;5;124m\"\u001b[39m\u001b[38;5;124mclosed\u001b[39m\u001b[38;5;124m\"\u001b[39m, \u001b[38;5;28;01mFalse\u001b[39;00m)\n\u001b[0;32m--> 566\u001b[0m \u001b[38;5;28;01mwith\u001b[39;00m \u001b[38;5;28mself\u001b[39m\u001b[38;5;241m.\u001b[39m_error_catcher():\n\u001b[1;32m    567\u001b[0m     data \u001b[38;5;241m=\u001b[39m \u001b[38;5;28mself\u001b[39m\u001b[38;5;241m.\u001b[39m_fp_read(amt) \u001b[38;5;28;01mif\u001b[39;00m \u001b[38;5;129;01mnot\u001b[39;00m fp_closed \u001b[38;5;28;01melse\u001b[39;00m \u001b[38;5;124mb\u001b[39m\u001b[38;5;124m\"\u001b[39m\u001b[38;5;124m\"\u001b[39m\n\u001b[1;32m    568\u001b[0m     \u001b[38;5;28;01mif\u001b[39;00m amt \u001b[38;5;129;01mis\u001b[39;00m \u001b[38;5;28;01mNone\u001b[39;00m:\n",
      "\u001b[0;31mKeyboardInterrupt\u001b[0m: "
     ]
    }
   ],
   "source": [
    "!pip install roboflow\n",
    "\n",
    "# download dataset from roboflow\n",
    "from roboflow import Roboflow\n",
    "rf = Roboflow(api_key=\"XXXX\")\n",
    "project = rf.workspace(\"test-datset\").project(\"player_detect-0spfb\")\n",
    "dataset = project.version(1).download(\"yolov8\")\n",
    "\n"
   ]
  },
  {
   "cell_type": "code",
   "execution_count": 1,
   "id": "7f8f54cb",
   "metadata": {
    "scrolled": false
   },
   "outputs": [
    {
     "name": "stdout",
     "output_type": "stream",
     "text": [
      "New https://pypi.org/project/ultralytics/8.0.208 available 😃 Update with 'pip install -U ultralytics'\n",
      "Ultralytics YOLOv8.0.207 🚀 Python-3.11.4 torch-2.1.0 CPU (Apple M1 Pro)\n",
      "\u001b[34m\u001b[1mengine/trainer: \u001b[0mtask=detect, mode=train, model=yolov8n.pt, data=/Users/paulyoo/Desktop/Coding/Python/DoesDarrenShootLessThan70-/Player_detect-1/data.yaml, epochs=25, patience=50, batch=-1, imgsz=640, save=True, save_period=-1, cache=False, device=None, workers=8, project=None, name=train17, exist_ok=False, pretrained=True, optimizer=auto, verbose=True, seed=0, deterministic=True, single_cls=False, rect=False, cos_lr=False, close_mosaic=10, resume=False, amp=True, fraction=1.0, profile=False, freeze=None, overlap_mask=True, mask_ratio=4, dropout=0.0, val=True, split=val, save_json=False, save_hybrid=False, conf=None, iou=0.7, max_det=300, half=False, dnn=False, plots=True, source=None, show=False, save_txt=False, save_conf=False, save_crop=False, show_labels=True, show_conf=True, vid_stride=1, stream_buffer=False, line_width=None, visualize=False, augment=False, agnostic_nms=False, classes=None, retina_masks=False, boxes=True, format=torchscript, keras=False, optimize=False, int8=False, dynamic=False, simplify=False, opset=None, workspace=4, nms=False, lr0=0.01, lrf=0.01, momentum=0.937, weight_decay=0.0005, warmup_epochs=3.0, warmup_momentum=0.8, warmup_bias_lr=0.1, box=7.5, cls=0.5, dfl=1.5, pose=12.0, kobj=1.0, label_smoothing=0.0, nbs=64, hsv_h=0.015, hsv_s=0.7, hsv_v=0.4, degrees=0.0, translate=0.1, scale=0.5, shear=0.0, perspective=0.0, flipud=0.0, fliplr=0.5, mosaic=1.0, mixup=0.0, copy_paste=0.0, cfg=None, tracker=botsort.yaml, save_dir=/Users/paulyoo/runs/detect/train17\n",
      "Overriding model.yaml nc=80 with nc=6\n",
      "\n",
      "                   from  n    params  module                                       arguments                     \n",
      "  0                  -1  1       464  ultralytics.nn.modules.conv.Conv             [3, 16, 3, 2]                 \n",
      "  1                  -1  1      4672  ultralytics.nn.modules.conv.Conv             [16, 32, 3, 2]                \n",
      "  2                  -1  1      7360  ultralytics.nn.modules.block.C2f             [32, 32, 1, True]             \n",
      "  3                  -1  1     18560  ultralytics.nn.modules.conv.Conv             [32, 64, 3, 2]                \n",
      "  4                  -1  2     49664  ultralytics.nn.modules.block.C2f             [64, 64, 2, True]             \n",
      "  5                  -1  1     73984  ultralytics.nn.modules.conv.Conv             [64, 128, 3, 2]               \n",
      "  6                  -1  2    197632  ultralytics.nn.modules.block.C2f             [128, 128, 2, True]           \n",
      "  7                  -1  1    295424  ultralytics.nn.modules.conv.Conv             [128, 256, 3, 2]              \n",
      "  8                  -1  1    460288  ultralytics.nn.modules.block.C2f             [256, 256, 1, True]           \n",
      "  9                  -1  1    164608  ultralytics.nn.modules.block.SPPF            [256, 256, 5]                 \n",
      " 10                  -1  1         0  torch.nn.modules.upsampling.Upsample         [None, 2, 'nearest']          \n",
      " 11             [-1, 6]  1         0  ultralytics.nn.modules.conv.Concat           [1]                           \n",
      " 12                  -1  1    148224  ultralytics.nn.modules.block.C2f             [384, 128, 1]                 \n",
      " 13                  -1  1         0  torch.nn.modules.upsampling.Upsample         [None, 2, 'nearest']          \n",
      " 14             [-1, 4]  1         0  ultralytics.nn.modules.conv.Concat           [1]                           \n",
      " 15                  -1  1     37248  ultralytics.nn.modules.block.C2f             [192, 64, 1]                  \n",
      " 16                  -1  1     36992  ultralytics.nn.modules.conv.Conv             [64, 64, 3, 2]                \n",
      " 17            [-1, 12]  1         0  ultralytics.nn.modules.conv.Concat           [1]                           \n",
      " 18                  -1  1    123648  ultralytics.nn.modules.block.C2f             [192, 128, 1]                 \n",
      " 19                  -1  1    147712  ultralytics.nn.modules.conv.Conv             [128, 128, 3, 2]              \n",
      " 20             [-1, 9]  1         0  ultralytics.nn.modules.conv.Concat           [1]                           \n",
      " 21                  -1  1    493056  ultralytics.nn.modules.block.C2f             [384, 256, 1]                 \n",
      " 22        [15, 18, 21]  1    752482  ultralytics.nn.modules.head.Detect           [6, [64, 128, 256]]           \n",
      "[W NNPACK.cpp:64] Could not initialize NNPACK! Reason: Unsupported hardware.\n",
      "Model summary: 225 layers, 3012018 parameters, 3012002 gradients, 8.2 GFLOPs\n",
      "\n",
      "Transferred 319/355 items from pretrained weights\n",
      "Freezing layer 'model.22.dfl.conv.weight'\n",
      "\u001b[34m\u001b[1mAutoBatch: \u001b[0mComputing optimal batch size for imgsz=640\n",
      "\u001b[34m\u001b[1mAutoBatch: \u001b[0mCUDA not detected, using default CPU batch-size 16\n",
      "\u001b[34m\u001b[1mtrain: \u001b[0mScanning /Users/paulyoo/Desktop/Coding/Python/DoesDarrenShootLessThan70-/\u001b[0m\n",
      "WARNING ⚠️ Box and segment counts should be equal, but got len(segments) = 152, len(boxes) = 33891. To resolve this only boxes will be used and all segments will be removed. To avoid this please supply either a detect or segment dataset, not a detect-segment mixed dataset.\n",
      "\u001b[34m\u001b[1mval: \u001b[0mScanning /Users/paulyoo/Desktop/Coding/Python/DoesDarrenShootLessThan70-/Pl\u001b[0m\n",
      "WARNING ⚠️ Box and segment counts should be equal, but got len(segments) = 15, len(boxes) = 3345. To resolve this only boxes will be used and all segments will be removed. To avoid this please supply either a detect or segment dataset, not a detect-segment mixed dataset.\n",
      "Plotting labels to /Users/paulyoo/runs/detect/train17/labels.jpg... \n",
      "\u001b[34m\u001b[1moptimizer:\u001b[0m 'optimizer=auto' found, ignoring 'lr0=0.01' and 'momentum=0.937' and determining best 'optimizer', 'lr0' and 'momentum' automatically... \n",
      "\u001b[34m\u001b[1moptimizer:\u001b[0m AdamW(lr=0.001, momentum=0.9) with parameter groups 57 weight(decay=0.0), 64 weight(decay=0.0005), 63 bias(decay=0.0)\n",
      "Image sizes 640 train, 640 val\n",
      "Using 0 dataloader workers\n",
      "Logging results to \u001b[1m/Users/paulyoo/runs/detect/train17\u001b[0m\n",
      "Starting training for 25 epochs...\n",
      "\n",
      "      Epoch    GPU_mem   box_loss   cls_loss   dfl_loss  Instances       Size\n",
      "       1/25         0G       1.34       1.84      1.362        104        640: 1\n",
      "                 Class     Images  Instances      Box(P          R      mAP50  m\n",
      "                   all        827       3345      0.884      0.482      0.635      0.392\n",
      "\n",
      "      Epoch    GPU_mem   box_loss   cls_loss   dfl_loss  Instances       Size\n",
      "       2/25         0G      1.278      1.291      1.328         73        640: 1\n",
      "                 Class     Images  Instances      Box(P          R      mAP50  m\n",
      "                   all        827       3345       0.89      0.624      0.773      0.499\n",
      "\n",
      "      Epoch    GPU_mem   box_loss   cls_loss   dfl_loss  Instances       Size\n",
      "       3/25         0G      1.269       1.17      1.328         64        640: 1\n",
      "                 Class     Images  Instances      Box(P          R      mAP50  m\n",
      "                   all        827       3345      0.798      0.618      0.711      0.408\n",
      "\n",
      "      Epoch    GPU_mem   box_loss   cls_loss   dfl_loss  Instances       Size\n",
      "       4/25         0G       1.25      1.103      1.312         89        640: 1\n",
      "                 Class     Images  Instances      Box(P          R      mAP50  m\n",
      "                   all        827       3345      0.875      0.765      0.839      0.563\n",
      "\n",
      "      Epoch    GPU_mem   box_loss   cls_loss   dfl_loss  Instances       Size\n",
      "       5/25         0G      1.211      1.043      1.294        102        640: 1\n",
      "                 Class     Images  Instances      Box(P          R      mAP50  m\n",
      "                   all        827       3345        0.8      0.805      0.866       0.58\n",
      "\n",
      "      Epoch    GPU_mem   box_loss   cls_loss   dfl_loss  Instances       Size\n",
      "       6/25         0G      1.172     0.9886      1.271         99        640: 1\n",
      "                 Class     Images  Instances      Box(P          R      mAP50  m\n",
      "                   all        827       3345      0.873      0.777      0.866      0.607\n",
      "\n",
      "      Epoch    GPU_mem   box_loss   cls_loss   dfl_loss  Instances       Size\n",
      "       7/25         0G      1.157     0.9449      1.256         76        640: 1\n",
      "                 Class     Images  Instances      Box(P          R      mAP50  m\n",
      "                   all        827       3345      0.807      0.811      0.872      0.613\n",
      "\n",
      "      Epoch    GPU_mem   box_loss   cls_loss   dfl_loss  Instances       Size\n",
      "       8/25         0G      1.124     0.9115      1.237         75        640: 1\n",
      "                 Class     Images  Instances      Box(P          R      mAP50  m\n",
      "                   all        827       3345       0.84      0.808      0.903      0.642\n",
      "\n",
      "      Epoch    GPU_mem   box_loss   cls_loss   dfl_loss  Instances       Size\n",
      "       9/25         0G      1.101     0.8772      1.222         64        640: 1\n",
      "                 Class     Images  Instances      Box(P          R      mAP50  m\n",
      "                   all        827       3345      0.814      0.843      0.894      0.641\n",
      "\n",
      "      Epoch    GPU_mem   box_loss   cls_loss   dfl_loss  Instances       Size\n",
      "      10/25         0G      1.083     0.8505      1.211         72        640: 1\n",
      "                 Class     Images  Instances      Box(P          R      mAP50  m\n",
      "                   all        827       3345      0.848      0.842      0.898      0.639\n",
      "\n",
      "      Epoch    GPU_mem   box_loss   cls_loss   dfl_loss  Instances       Size\n",
      "      11/25         0G      1.063     0.8259      1.205         79        640: 1\n",
      "                 Class     Images  Instances      Box(P          R      mAP50  m\n",
      "                   all        827       3345      0.842      0.884      0.911      0.666\n",
      "\n",
      "      Epoch    GPU_mem   box_loss   cls_loss   dfl_loss  Instances       Size\n",
      "      12/25         0G      1.046     0.8061      1.191         85        640: 1\n",
      "                 Class     Images  Instances      Box(P          R      mAP50  m\n",
      "                   all        827       3345      0.836      0.896      0.927      0.687\n",
      "\n",
      "      Epoch    GPU_mem   box_loss   cls_loss   dfl_loss  Instances       Size\n",
      "      13/25         0G      1.029     0.7846      1.178         58        640: 1\n",
      "                 Class     Images  Instances      Box(P          R      mAP50  m\n",
      "                   all        827       3345       0.88      0.843      0.921      0.692\n",
      "\n",
      "      Epoch    GPU_mem   box_loss   cls_loss   dfl_loss  Instances       Size\n",
      "      14/25         0G      1.017     0.7686      1.173         75        640: 1\n",
      "                 Class     Images  Instances      Box(P          R      mAP50  m\n",
      "                   all        827       3345      0.847      0.912      0.929      0.691\n",
      "\n",
      "      Epoch    GPU_mem   box_loss   cls_loss   dfl_loss  Instances       Size\n",
      "      15/25         0G     0.9943     0.7501      1.159         60        640: 1\n",
      "                 Class     Images  Instances      Box(P          R      mAP50  m\n",
      "                   all        827       3345      0.864      0.873      0.931      0.702\n",
      "Closing dataloader mosaic\n",
      "\n",
      "      Epoch    GPU_mem   box_loss   cls_loss   dfl_loss  Instances       Size\n",
      "      16/25         0G      0.936     0.6042      1.117         35        640: 1\n",
      "                 Class     Images  Instances      Box(P          R      mAP50  m\n",
      "                   all        827       3345      0.863      0.905      0.929      0.705\n",
      "\n",
      "      Epoch    GPU_mem   box_loss   cls_loss   dfl_loss  Instances       Size\n",
      "      17/25         0G     0.9066     0.5831      1.103         47        640: 1\n",
      "                 Class     Images  Instances      Box(P          R      mAP50  m\n",
      "                   all        827       3345      0.887      0.887      0.931      0.711\n",
      "\n",
      "      Epoch    GPU_mem   box_loss   cls_loss   dfl_loss  Instances       Size\n",
      "      18/25         0G     0.8896       0.56      1.094         43        640: 1\n",
      "                 Class     Images  Instances      Box(P          R      mAP50  m\n",
      "                   all        827       3345      0.852      0.907      0.927      0.714\n",
      "\n",
      "      Epoch    GPU_mem   box_loss   cls_loss   dfl_loss  Instances       Size\n",
      "      19/25         0G     0.8691     0.5473      1.084         52        640: 1\n",
      "                 Class     Images  Instances      Box(P          R      mAP50  m\n",
      "                   all        827       3345      0.839      0.896      0.926      0.717\n",
      "\n",
      "      Epoch    GPU_mem   box_loss   cls_loss   dfl_loss  Instances       Size\n",
      "      20/25         0G     0.8509     0.5294      1.073         31        640: 1\n",
      "                 Class     Images  Instances      Box(P          R      mAP50  m\n",
      "                   all        827       3345      0.878      0.897      0.931       0.73\n",
      "\n",
      "      Epoch    GPU_mem   box_loss   cls_loss   dfl_loss  Instances       Size\n",
      "      21/25         0G      0.831     0.5131       1.06         44        640: 1\n",
      "                 Class     Images  Instances      Box(P          R      mAP50  m\n",
      "                   all        827       3345      0.864      0.891      0.935      0.737\n",
      "\n",
      "      Epoch    GPU_mem   box_loss   cls_loss   dfl_loss  Instances       Size\n",
      "      22/25         0G      0.814     0.5005       1.05         29        640: 1\n",
      "                 Class     Images  Instances      Box(P          R      mAP50  m\n",
      "                   all        827       3345      0.867      0.904      0.946      0.741\n",
      "\n",
      "      Epoch    GPU_mem   box_loss   cls_loss   dfl_loss  Instances       Size\n",
      "      23/25         0G     0.7962     0.4865      1.046         51        640: 1\n",
      "                 Class     Images  Instances      Box(P          R      mAP50  m\n",
      "                   all        827       3345      0.879       0.91      0.941      0.746\n",
      "\n",
      "      Epoch    GPU_mem   box_loss   cls_loss   dfl_loss  Instances       Size\n",
      "      24/25         0G     0.7834      0.475      1.033         54        640: 1\n",
      "                 Class     Images  Instances      Box(P          R      mAP50  m\n",
      "                   all        827       3345      0.873      0.902      0.934      0.736\n",
      "\n",
      "      Epoch    GPU_mem   box_loss   cls_loss   dfl_loss  Instances       Size\n",
      "      25/25         0G     0.7679      0.463      1.026         35        640: 1\n",
      "                 Class     Images  Instances      Box(P          R      mAP50  m\n",
      "                   all        827       3345       0.87      0.909      0.933      0.741\n",
      "\n",
      "25 epochs completed in 102.469 hours.\n",
      "Optimizer stripped from /Users/paulyoo/runs/detect/train17/weights/last.pt, 6.3MB\n",
      "Optimizer stripped from /Users/paulyoo/runs/detect/train17/weights/best.pt, 6.2MB\n",
      "\n",
      "Validating /Users/paulyoo/runs/detect/train17/weights/best.pt...\n",
      "Ultralytics YOLOv8.0.207 🚀 Python-3.11.4 torch-2.1.0 CPU (Apple M1 Pro)\n",
      "Model summary (fused): 168 layers, 3006818 parameters, 0 gradients, 8.1 GFLOPs\n",
      "                 Class     Images  Instances      Box(P          R      mAP50  m\n",
      "                   all        827       3345      0.879      0.909      0.941      0.746\n",
      "     Basketball-courts        827         15      0.894      0.933      0.966      0.894\n",
      "                  ball        827        802      0.908      0.887      0.926      0.698\n",
      "                  made        827         48      0.932       0.85      0.918      0.698\n",
      "                person        827       1771      0.842       0.92      0.941      0.698\n",
      "                   rim        827        543      0.966      0.967       0.99      0.816\n",
      "                 shoot        827        166      0.731      0.899      0.902      0.675\n",
      "Speed: 2.1ms preprocess, 260.2ms inference, 0.0ms loss, 0.4ms postprocess per image\n",
      "Results saved to \u001b[1m/Users/paulyoo/runs/detect/train17\u001b[0m\n",
      "💡 Learn more at https://docs.ultralytics.com/modes/train\n"
     ]
    }
   ],
   "source": [
    "# train model on custom dataset\n",
    "# notes: need to try different model sizes (ref above for model sizing chart)\n",
    "\n",
    "\n",
    "!yolo task=detect mode=train model=yolov8n.pt data=/Users/paulyoo/Desktop/Coding/Python/DoesDarrenShootLessThan70-/Player_detect-1/data.yaml batch=-1 epochs=25 imgsz=640"
   ]
  },
  {
   "cell_type": "markdown",
   "id": "4dcbc9a2",
   "metadata": {},
   "source": [
    "# Yolov8 Class Implementation into Real Time Video Capture"
   ]
  },
  {
   "cell_type": "code",
   "execution_count": 4,
   "id": "0b722845",
   "metadata": {},
   "outputs": [
    {
     "name": "stderr",
     "output_type": "stream",
     "text": [
      "\n",
      "0: 480x640 1 person, 405.4ms\n",
      "Speed: 12.3ms preprocess, 405.4ms inference, 20.6ms postprocess per image at shape (1, 3, 480, 640)\n"
     ]
    },
    {
     "name": "stdout",
     "output_type": "stream",
     "text": [
      "Confidence ---> 0.78\n",
      "Class name --> motorbike\n"
     ]
    },
    {
     "name": "stderr",
     "output_type": "stream",
     "text": [
      "\n",
      "0: 480x640 (no detections), 210.1ms\n",
      "Speed: 3.9ms preprocess, 210.1ms inference, 0.5ms postprocess per image at shape (1, 3, 480, 640)\n",
      "\n",
      "0: 480x640 1 person, 188.3ms\n",
      "Speed: 0.9ms preprocess, 188.3ms inference, 2.0ms postprocess per image at shape (1, 3, 480, 640)\n",
      "\n"
     ]
    },
    {
     "name": "stdout",
     "output_type": "stream",
     "text": [
      "Confidence ---> 0.55\n",
      "Class name --> motorbike\n"
     ]
    },
    {
     "name": "stderr",
     "output_type": "stream",
     "text": [
      "0: 480x640 (no detections), 196.6ms\n",
      "Speed: 0.9ms preprocess, 196.6ms inference, 0.5ms postprocess per image at shape (1, 3, 480, 640)\n",
      "\n",
      "0: 480x640 1 person, 198.6ms\n",
      "Speed: 1.0ms preprocess, 198.6ms inference, 0.7ms postprocess per image at shape (1, 3, 480, 640)\n",
      "\n"
     ]
    },
    {
     "name": "stdout",
     "output_type": "stream",
     "text": [
      "Confidence ---> 0.55\n",
      "Class name --> motorbike\n"
     ]
    },
    {
     "name": "stderr",
     "output_type": "stream",
     "text": [
      "0: 480x640 2 persons, 199.7ms\n",
      "Speed: 0.9ms preprocess, 199.7ms inference, 0.7ms postprocess per image at shape (1, 3, 480, 640)\n",
      "\n"
     ]
    },
    {
     "name": "stdout",
     "output_type": "stream",
     "text": [
      "Confidence ---> 0.59\n",
      "Class name --> motorbike\n",
      "Confidence ---> 0.27\n",
      "Class name --> motorbike\n"
     ]
    },
    {
     "name": "stderr",
     "output_type": "stream",
     "text": [
      "0: 480x640 2 persons, 188.3ms\n",
      "Speed: 0.9ms preprocess, 188.3ms inference, 0.7ms postprocess per image at shape (1, 3, 480, 640)\n",
      "\n"
     ]
    },
    {
     "name": "stdout",
     "output_type": "stream",
     "text": [
      "Confidence ---> 0.63\n",
      "Class name --> motorbike\n",
      "Confidence ---> 0.35\n",
      "Class name --> motorbike\n"
     ]
    },
    {
     "name": "stderr",
     "output_type": "stream",
     "text": [
      "0: 480x640 2 persons, 202.0ms\n",
      "Speed: 1.0ms preprocess, 202.0ms inference, 0.6ms postprocess per image at shape (1, 3, 480, 640)\n",
      "\n"
     ]
    },
    {
     "name": "stdout",
     "output_type": "stream",
     "text": [
      "Confidence ---> 0.55\n",
      "Class name --> motorbike\n",
      "Confidence ---> 0.42\n",
      "Class name --> motorbike\n"
     ]
    },
    {
     "name": "stderr",
     "output_type": "stream",
     "text": [
      "0: 480x640 2 persons, 180.3ms\n",
      "Speed: 1.0ms preprocess, 180.3ms inference, 0.7ms postprocess per image at shape (1, 3, 480, 640)\n",
      "\n"
     ]
    },
    {
     "name": "stdout",
     "output_type": "stream",
     "text": [
      "Confidence ---> 0.57\n",
      "Class name --> motorbike\n",
      "Confidence ---> 0.3\n",
      "Class name --> motorbike\n"
     ]
    },
    {
     "name": "stderr",
     "output_type": "stream",
     "text": [
      "0: 480x640 2 persons, 185.8ms\n",
      "Speed: 0.9ms preprocess, 185.8ms inference, 0.6ms postprocess per image at shape (1, 3, 480, 640)\n",
      "\n"
     ]
    },
    {
     "name": "stdout",
     "output_type": "stream",
     "text": [
      "Confidence ---> 0.54\n",
      "Class name --> motorbike\n",
      "Confidence ---> 0.46\n",
      "Class name --> motorbike\n"
     ]
    },
    {
     "name": "stderr",
     "output_type": "stream",
     "text": [
      "0: 480x640 1 person, 183.5ms\n",
      "Speed: 0.9ms preprocess, 183.5ms inference, 0.7ms postprocess per image at shape (1, 3, 480, 640)\n",
      "\n"
     ]
    },
    {
     "name": "stdout",
     "output_type": "stream",
     "text": [
      "Confidence ---> 0.54\n",
      "Class name --> motorbike\n"
     ]
    },
    {
     "name": "stderr",
     "output_type": "stream",
     "text": [
      "0: 480x640 2 persons, 181.5ms\n",
      "Speed: 0.9ms preprocess, 181.5ms inference, 0.7ms postprocess per image at shape (1, 3, 480, 640)\n",
      "\n"
     ]
    },
    {
     "name": "stdout",
     "output_type": "stream",
     "text": [
      "Confidence ---> 0.57\n",
      "Class name --> motorbike\n",
      "Confidence ---> 0.44\n",
      "Class name --> motorbike\n"
     ]
    },
    {
     "name": "stderr",
     "output_type": "stream",
     "text": [
      "0: 480x640 2 persons, 179.1ms\n",
      "Speed: 0.9ms preprocess, 179.1ms inference, 0.7ms postprocess per image at shape (1, 3, 480, 640)\n",
      "\n"
     ]
    },
    {
     "name": "stdout",
     "output_type": "stream",
     "text": [
      "Confidence ---> 0.67\n",
      "Class name --> motorbike\n",
      "Confidence ---> 0.42\n",
      "Class name --> motorbike\n"
     ]
    },
    {
     "name": "stderr",
     "output_type": "stream",
     "text": [
      "0: 480x640 2 persons, 192.3ms\n",
      "Speed: 0.9ms preprocess, 192.3ms inference, 0.8ms postprocess per image at shape (1, 3, 480, 640)\n",
      "\n"
     ]
    },
    {
     "name": "stdout",
     "output_type": "stream",
     "text": [
      "Confidence ---> 0.6\n",
      "Class name --> motorbike\n",
      "Confidence ---> 0.45\n",
      "Class name --> motorbike\n"
     ]
    },
    {
     "name": "stderr",
     "output_type": "stream",
     "text": [
      "0: 480x640 2 persons, 181.1ms\n",
      "Speed: 1.0ms preprocess, 181.1ms inference, 0.7ms postprocess per image at shape (1, 3, 480, 640)\n",
      "\n"
     ]
    },
    {
     "name": "stdout",
     "output_type": "stream",
     "text": [
      "Confidence ---> 0.52\n",
      "Class name --> motorbike\n",
      "Confidence ---> 0.41\n",
      "Class name --> motorbike\n"
     ]
    },
    {
     "name": "stderr",
     "output_type": "stream",
     "text": [
      "0: 480x640 2 persons, 179.2ms\n",
      "Speed: 0.9ms preprocess, 179.2ms inference, 0.7ms postprocess per image at shape (1, 3, 480, 640)\n",
      "\n"
     ]
    },
    {
     "name": "stdout",
     "output_type": "stream",
     "text": [
      "Confidence ---> 0.69\n",
      "Class name --> motorbike\n",
      "Confidence ---> 0.4\n",
      "Class name --> motorbike\n"
     ]
    },
    {
     "name": "stderr",
     "output_type": "stream",
     "text": [
      "0: 480x640 2 persons, 176.9ms\n",
      "Speed: 0.9ms preprocess, 176.9ms inference, 0.7ms postprocess per image at shape (1, 3, 480, 640)\n",
      "\n"
     ]
    },
    {
     "name": "stdout",
     "output_type": "stream",
     "text": [
      "Confidence ---> 0.62\n",
      "Class name --> motorbike\n",
      "Confidence ---> 0.39\n",
      "Class name --> motorbike\n"
     ]
    },
    {
     "name": "stderr",
     "output_type": "stream",
     "text": [
      "0: 480x640 2 persons, 184.4ms\n",
      "Speed: 1.0ms preprocess, 184.4ms inference, 0.7ms postprocess per image at shape (1, 3, 480, 640)\n",
      "\n"
     ]
    },
    {
     "name": "stdout",
     "output_type": "stream",
     "text": [
      "Confidence ---> 0.64\n",
      "Class name --> motorbike\n",
      "Confidence ---> 0.33\n",
      "Class name --> motorbike\n"
     ]
    },
    {
     "name": "stderr",
     "output_type": "stream",
     "text": [
      "0: 480x640 2 persons, 182.9ms\n",
      "Speed: 0.9ms preprocess, 182.9ms inference, 0.8ms postprocess per image at shape (1, 3, 480, 640)\n",
      "\n"
     ]
    },
    {
     "name": "stdout",
     "output_type": "stream",
     "text": [
      "Confidence ---> 0.68\n",
      "Class name --> motorbike\n",
      "Confidence ---> 0.38\n",
      "Class name --> motorbike\n"
     ]
    },
    {
     "name": "stderr",
     "output_type": "stream",
     "text": [
      "0: 480x640 2 persons, 183.7ms\n",
      "Speed: 0.8ms preprocess, 183.7ms inference, 0.9ms postprocess per image at shape (1, 3, 480, 640)\n",
      "\n"
     ]
    },
    {
     "name": "stdout",
     "output_type": "stream",
     "text": [
      "Confidence ---> 0.55\n",
      "Class name --> motorbike\n",
      "Confidence ---> 0.35\n",
      "Class name --> motorbike\n"
     ]
    },
    {
     "name": "stderr",
     "output_type": "stream",
     "text": [
      "0: 480x640 1 person, 184.4ms\n",
      "Speed: 0.9ms preprocess, 184.4ms inference, 0.7ms postprocess per image at shape (1, 3, 480, 640)\n",
      "\n"
     ]
    },
    {
     "name": "stdout",
     "output_type": "stream",
     "text": [
      "Confidence ---> 0.54\n",
      "Class name --> motorbike\n"
     ]
    },
    {
     "name": "stderr",
     "output_type": "stream",
     "text": [
      "0: 480x640 1 person, 183.5ms\n",
      "Speed: 1.0ms preprocess, 183.5ms inference, 0.8ms postprocess per image at shape (1, 3, 480, 640)\n",
      "\n"
     ]
    },
    {
     "name": "stdout",
     "output_type": "stream",
     "text": [
      "Confidence ---> 0.72\n",
      "Class name --> motorbike\n"
     ]
    },
    {
     "name": "stderr",
     "output_type": "stream",
     "text": [
      "0: 480x640 1 person, 185.7ms\n",
      "Speed: 0.9ms preprocess, 185.7ms inference, 0.7ms postprocess per image at shape (1, 3, 480, 640)\n",
      "\n"
     ]
    },
    {
     "name": "stdout",
     "output_type": "stream",
     "text": [
      "Confidence ---> 0.67\n",
      "Class name --> motorbike\n"
     ]
    },
    {
     "name": "stderr",
     "output_type": "stream",
     "text": [
      "0: 480x640 1 person, 186.3ms\n",
      "Speed: 0.9ms preprocess, 186.3ms inference, 0.7ms postprocess per image at shape (1, 3, 480, 640)\n",
      "\n"
     ]
    },
    {
     "name": "stdout",
     "output_type": "stream",
     "text": [
      "Confidence ---> 0.73\n",
      "Class name --> motorbike\n"
     ]
    },
    {
     "name": "stderr",
     "output_type": "stream",
     "text": [
      "0: 480x640 2 persons, 185.4ms\n",
      "Speed: 0.9ms preprocess, 185.4ms inference, 0.8ms postprocess per image at shape (1, 3, 480, 640)\n",
      "\n"
     ]
    },
    {
     "name": "stdout",
     "output_type": "stream",
     "text": [
      "Confidence ---> 0.68\n",
      "Class name --> motorbike\n",
      "Confidence ---> 0.51\n",
      "Class name --> motorbike\n"
     ]
    },
    {
     "name": "stderr",
     "output_type": "stream",
     "text": [
      "0: 480x640 1 person, 177.6ms\n",
      "Speed: 1.0ms preprocess, 177.6ms inference, 0.6ms postprocess per image at shape (1, 3, 480, 640)\n",
      "\n"
     ]
    },
    {
     "name": "stdout",
     "output_type": "stream",
     "text": [
      "Confidence ---> 0.75\n",
      "Class name --> motorbike\n"
     ]
    },
    {
     "name": "stderr",
     "output_type": "stream",
     "text": [
      "0: 480x640 1 person, 181.6ms\n",
      "Speed: 1.0ms preprocess, 181.6ms inference, 0.7ms postprocess per image at shape (1, 3, 480, 640)\n",
      "\n"
     ]
    },
    {
     "name": "stdout",
     "output_type": "stream",
     "text": [
      "Confidence ---> 0.71\n",
      "Class name --> motorbike\n"
     ]
    },
    {
     "name": "stderr",
     "output_type": "stream",
     "text": [
      "0: 480x640 1 person, 178.2ms\n",
      "Speed: 0.9ms preprocess, 178.2ms inference, 0.6ms postprocess per image at shape (1, 3, 480, 640)\n",
      "\n"
     ]
    },
    {
     "name": "stdout",
     "output_type": "stream",
     "text": [
      "Confidence ---> 0.73\n",
      "Class name --> motorbike\n",
      "Confidence ---> 0.71\n",
      "Class name --> motorbike\n"
     ]
    },
    {
     "name": "stderr",
     "output_type": "stream",
     "text": [
      "0: 480x640 1 person, 180.4ms\n",
      "Speed: 0.9ms preprocess, 180.4ms inference, 0.8ms postprocess per image at shape (1, 3, 480, 640)\n",
      "\n",
      "0: 480x640 1 person, 183.7ms\n",
      "Speed: 0.9ms preprocess, 183.7ms inference, 0.6ms postprocess per image at shape (1, 3, 480, 640)\n",
      "\n"
     ]
    },
    {
     "name": "stdout",
     "output_type": "stream",
     "text": [
      "Confidence ---> 0.73\n",
      "Class name --> motorbike\n"
     ]
    },
    {
     "name": "stderr",
     "output_type": "stream",
     "text": [
      "0: 480x640 1 person, 181.9ms\n",
      "Speed: 0.9ms preprocess, 181.9ms inference, 1.9ms postprocess per image at shape (1, 3, 480, 640)\n",
      "\n"
     ]
    },
    {
     "name": "stdout",
     "output_type": "stream",
     "text": [
      "Confidence ---> 0.69\n",
      "Class name --> motorbike\n"
     ]
    },
    {
     "name": "stderr",
     "output_type": "stream",
     "text": [
      "0: 480x640 1 person, 181.4ms\n",
      "Speed: 0.9ms preprocess, 181.4ms inference, 0.6ms postprocess per image at shape (1, 3, 480, 640)\n",
      "\n"
     ]
    },
    {
     "name": "stdout",
     "output_type": "stream",
     "text": [
      "Confidence ---> 0.71\n",
      "Class name --> motorbike\n"
     ]
    },
    {
     "name": "stderr",
     "output_type": "stream",
     "text": [
      "0: 480x640 1 person, 182.9ms\n",
      "Speed: 1.0ms preprocess, 182.9ms inference, 0.7ms postprocess per image at shape (1, 3, 480, 640)\n",
      "\n"
     ]
    },
    {
     "name": "stdout",
     "output_type": "stream",
     "text": [
      "Confidence ---> 0.72\n",
      "Class name --> motorbike\n"
     ]
    },
    {
     "name": "stderr",
     "output_type": "stream",
     "text": [
      "0: 480x640 1 person, 184.5ms\n",
      "Speed: 0.9ms preprocess, 184.5ms inference, 0.7ms postprocess per image at shape (1, 3, 480, 640)\n",
      "\n"
     ]
    },
    {
     "name": "stdout",
     "output_type": "stream",
     "text": [
      "Confidence ---> 0.71\n",
      "Class name --> motorbike\n"
     ]
    },
    {
     "name": "stderr",
     "output_type": "stream",
     "text": [
      "0: 480x640 1 person, 179.0ms\n",
      "Speed: 0.9ms preprocess, 179.0ms inference, 0.8ms postprocess per image at shape (1, 3, 480, 640)\n",
      "\n"
     ]
    },
    {
     "name": "stdout",
     "output_type": "stream",
     "text": [
      "Confidence ---> 0.63\n",
      "Class name --> motorbike\n"
     ]
    },
    {
     "name": "stderr",
     "output_type": "stream",
     "text": [
      "0: 480x640 1 person, 181.2ms\n",
      "Speed: 0.9ms preprocess, 181.2ms inference, 0.8ms postprocess per image at shape (1, 3, 480, 640)\n",
      "\n"
     ]
    },
    {
     "name": "stdout",
     "output_type": "stream",
     "text": [
      "Confidence ---> 0.7\n",
      "Class name --> motorbike\n"
     ]
    },
    {
     "name": "stderr",
     "output_type": "stream",
     "text": [
      "0: 480x640 1 person, 185.7ms\n",
      "Speed: 1.0ms preprocess, 185.7ms inference, 0.7ms postprocess per image at shape (1, 3, 480, 640)\n",
      "\n"
     ]
    },
    {
     "name": "stdout",
     "output_type": "stream",
     "text": [
      "Confidence ---> 0.67\n",
      "Class name --> motorbike\n"
     ]
    },
    {
     "name": "stderr",
     "output_type": "stream",
     "text": [
      "0: 480x640 1 person, 180.9ms\n",
      "Speed: 1.0ms preprocess, 180.9ms inference, 0.6ms postprocess per image at shape (1, 3, 480, 640)\n",
      "\n"
     ]
    },
    {
     "name": "stdout",
     "output_type": "stream",
     "text": [
      "Confidence ---> 0.65\n",
      "Class name --> motorbike\n"
     ]
    },
    {
     "name": "stderr",
     "output_type": "stream",
     "text": [
      "0: 480x640 1 person, 198.9ms\n",
      "Speed: 1.0ms preprocess, 198.9ms inference, 0.8ms postprocess per image at shape (1, 3, 480, 640)\n",
      "\n"
     ]
    },
    {
     "name": "stdout",
     "output_type": "stream",
     "text": [
      "Confidence ---> 0.67\n",
      "Class name --> motorbike\n"
     ]
    },
    {
     "name": "stderr",
     "output_type": "stream",
     "text": [
      "0: 480x640 1 person, 227.4ms\n",
      "Speed: 0.9ms preprocess, 227.4ms inference, 0.8ms postprocess per image at shape (1, 3, 480, 640)\n",
      "\n"
     ]
    },
    {
     "name": "stdout",
     "output_type": "stream",
     "text": [
      "Confidence ---> 0.7\n",
      "Class name --> motorbike\n"
     ]
    },
    {
     "name": "stderr",
     "output_type": "stream",
     "text": [
      "0: 480x640 2 persons, 178.9ms\n",
      "Speed: 1.2ms preprocess, 178.9ms inference, 0.7ms postprocess per image at shape (1, 3, 480, 640)\n",
      "\n"
     ]
    },
    {
     "name": "stdout",
     "output_type": "stream",
     "text": [
      "Confidence ---> 0.65\n",
      "Class name --> motorbike\n",
      "Confidence ---> 0.52\n",
      "Class name --> motorbike\n"
     ]
    },
    {
     "name": "stderr",
     "output_type": "stream",
     "text": [
      "0: 480x640 1 person, 185.7ms\n",
      "Speed: 0.9ms preprocess, 185.7ms inference, 0.8ms postprocess per image at shape (1, 3, 480, 640)\n",
      "\n"
     ]
    },
    {
     "name": "stdout",
     "output_type": "stream",
     "text": [
      "Confidence ---> 0.69\n",
      "Class name --> motorbike\n"
     ]
    },
    {
     "name": "stderr",
     "output_type": "stream",
     "text": [
      "0: 480x640 1 person, 188.1ms\n",
      "Speed: 1.0ms preprocess, 188.1ms inference, 0.8ms postprocess per image at shape (1, 3, 480, 640)\n",
      "\n"
     ]
    },
    {
     "name": "stdout",
     "output_type": "stream",
     "text": [
      "Confidence ---> 0.71\n",
      "Class name --> motorbike\n"
     ]
    },
    {
     "name": "stderr",
     "output_type": "stream",
     "text": [
      "0: 480x640 2 persons, 182.2ms\n",
      "Speed: 1.0ms preprocess, 182.2ms inference, 0.7ms postprocess per image at shape (1, 3, 480, 640)\n",
      "\n"
     ]
    },
    {
     "name": "stdout",
     "output_type": "stream",
     "text": [
      "Confidence ---> 0.72\n",
      "Class name --> motorbike\n",
      "Confidence ---> 0.29\n",
      "Class name --> motorbike\n"
     ]
    },
    {
     "name": "stderr",
     "output_type": "stream",
     "text": [
      "0: 480x640 2 persons, 180.1ms\n",
      "Speed: 1.0ms preprocess, 180.1ms inference, 0.6ms postprocess per image at shape (1, 3, 480, 640)\n",
      "\n"
     ]
    },
    {
     "name": "stdout",
     "output_type": "stream",
     "text": [
      "Confidence ---> 0.73\n",
      "Class name --> motorbike\n",
      "Confidence ---> 0.46\n",
      "Class name --> motorbike\n"
     ]
    },
    {
     "name": "stderr",
     "output_type": "stream",
     "text": [
      "0: 480x640 1 person, 189.9ms\n",
      "Speed: 1.0ms preprocess, 189.9ms inference, 0.7ms postprocess per image at shape (1, 3, 480, 640)\n",
      "\n"
     ]
    },
    {
     "name": "stdout",
     "output_type": "stream",
     "text": [
      "Confidence ---> 0.59\n",
      "Class name --> motorbike\n"
     ]
    },
    {
     "name": "stderr",
     "output_type": "stream",
     "text": [
      "0: 480x640 1 person, 183.5ms\n",
      "Speed: 0.9ms preprocess, 183.5ms inference, 1.0ms postprocess per image at shape (1, 3, 480, 640)\n",
      "\n"
     ]
    },
    {
     "name": "stdout",
     "output_type": "stream",
     "text": [
      "Confidence ---> 0.62\n",
      "Class name --> motorbike\n"
     ]
    },
    {
     "name": "stderr",
     "output_type": "stream",
     "text": [
      "0: 480x640 1 person, 182.4ms\n",
      "Speed: 0.9ms preprocess, 182.4ms inference, 0.6ms postprocess per image at shape (1, 3, 480, 640)\n",
      "\n"
     ]
    },
    {
     "name": "stdout",
     "output_type": "stream",
     "text": [
      "Confidence ---> 0.65\n",
      "Class name --> motorbike\n"
     ]
    },
    {
     "name": "stderr",
     "output_type": "stream",
     "text": [
      "0: 480x640 2 persons, 187.7ms\n",
      "Speed: 0.9ms preprocess, 187.7ms inference, 0.8ms postprocess per image at shape (1, 3, 480, 640)\n",
      "\n"
     ]
    },
    {
     "name": "stdout",
     "output_type": "stream",
     "text": [
      "Confidence ---> 0.78\n",
      "Class name --> motorbike\n",
      "Confidence ---> 0.33\n",
      "Class name --> motorbike\n"
     ]
    },
    {
     "name": "stderr",
     "output_type": "stream",
     "text": [
      "0: 480x640 1 person, 183.9ms\n",
      "Speed: 1.0ms preprocess, 183.9ms inference, 0.8ms postprocess per image at shape (1, 3, 480, 640)\n",
      "\n"
     ]
    },
    {
     "name": "stdout",
     "output_type": "stream",
     "text": [
      "Confidence ---> 0.77\n",
      "Class name --> motorbike\n"
     ]
    },
    {
     "name": "stderr",
     "output_type": "stream",
     "text": [
      "0: 480x640 2 persons, 190.4ms\n",
      "Speed: 0.9ms preprocess, 190.4ms inference, 0.7ms postprocess per image at shape (1, 3, 480, 640)\n",
      "\n"
     ]
    },
    {
     "name": "stdout",
     "output_type": "stream",
     "text": [
      "Confidence ---> 0.7\n",
      "Class name --> motorbike\n",
      "Confidence ---> 0.57\n",
      "Class name --> motorbike\n"
     ]
    },
    {
     "name": "stderr",
     "output_type": "stream",
     "text": [
      "0: 480x640 2 persons, 187.5ms\n",
      "Speed: 0.9ms preprocess, 187.5ms inference, 0.7ms postprocess per image at shape (1, 3, 480, 640)\n",
      "\n"
     ]
    },
    {
     "name": "stdout",
     "output_type": "stream",
     "text": [
      "Confidence ---> 0.73\n",
      "Class name --> motorbike\n",
      "Confidence ---> 0.45\n",
      "Class name --> motorbike\n"
     ]
    },
    {
     "name": "stderr",
     "output_type": "stream",
     "text": [
      "0: 480x640 1 person, 183.0ms\n",
      "Speed: 1.0ms preprocess, 183.0ms inference, 0.6ms postprocess per image at shape (1, 3, 480, 640)\n",
      "\n"
     ]
    },
    {
     "name": "stdout",
     "output_type": "stream",
     "text": [
      "Confidence ---> 0.69\n",
      "Class name --> motorbike\n"
     ]
    },
    {
     "name": "stderr",
     "output_type": "stream",
     "text": [
      "0: 480x640 2 persons, 195.1ms\n",
      "Speed: 1.0ms preprocess, 195.1ms inference, 0.7ms postprocess per image at shape (1, 3, 480, 640)\n",
      "\n"
     ]
    },
    {
     "name": "stdout",
     "output_type": "stream",
     "text": [
      "Confidence ---> 0.79\n",
      "Class name --> motorbike\n",
      "Confidence ---> 0.69\n",
      "Class name --> motorbike\n"
     ]
    },
    {
     "name": "stderr",
     "output_type": "stream",
     "text": [
      "0: 480x640 1 person, 185.6ms\n",
      "Speed: 1.0ms preprocess, 185.6ms inference, 0.6ms postprocess per image at shape (1, 3, 480, 640)\n",
      "\n"
     ]
    },
    {
     "name": "stdout",
     "output_type": "stream",
     "text": [
      "Confidence ---> 0.8\n",
      "Class name --> motorbike\n"
     ]
    },
    {
     "name": "stderr",
     "output_type": "stream",
     "text": [
      "0: 480x640 1 person, 182.5ms\n",
      "Speed: 1.0ms preprocess, 182.5ms inference, 0.7ms postprocess per image at shape (1, 3, 480, 640)\n",
      "\n"
     ]
    },
    {
     "name": "stdout",
     "output_type": "stream",
     "text": [
      "Confidence ---> 0.8\n",
      "Class name --> motorbike\n"
     ]
    },
    {
     "name": "stderr",
     "output_type": "stream",
     "text": [
      "0: 480x640 1 person, 183.7ms\n",
      "Speed: 0.9ms preprocess, 183.7ms inference, 0.7ms postprocess per image at shape (1, 3, 480, 640)\n",
      "\n"
     ]
    },
    {
     "name": "stdout",
     "output_type": "stream",
     "text": [
      "Confidence ---> 0.79\n",
      "Class name --> motorbike\n"
     ]
    },
    {
     "name": "stderr",
     "output_type": "stream",
     "text": [
      "0: 480x640 1 person, 183.1ms\n",
      "Speed: 0.9ms preprocess, 183.1ms inference, 0.7ms postprocess per image at shape (1, 3, 480, 640)\n",
      "\n"
     ]
    },
    {
     "name": "stdout",
     "output_type": "stream",
     "text": [
      "Confidence ---> 0.74\n",
      "Class name --> motorbike\n"
     ]
    },
    {
     "name": "stderr",
     "output_type": "stream",
     "text": [
      "0: 480x640 1 person, 191.7ms\n",
      "Speed: 0.9ms preprocess, 191.7ms inference, 0.8ms postprocess per image at shape (1, 3, 480, 640)\n",
      "\n"
     ]
    },
    {
     "name": "stdout",
     "output_type": "stream",
     "text": [
      "Confidence ---> 0.78\n",
      "Class name --> motorbike\n"
     ]
    },
    {
     "name": "stderr",
     "output_type": "stream",
     "text": [
      "0: 480x640 1 person, 182.7ms\n",
      "Speed: 0.9ms preprocess, 182.7ms inference, 0.6ms postprocess per image at shape (1, 3, 480, 640)\n",
      "\n"
     ]
    },
    {
     "name": "stdout",
     "output_type": "stream",
     "text": [
      "Confidence ---> 0.8\n",
      "Class name --> motorbike\n"
     ]
    },
    {
     "name": "stderr",
     "output_type": "stream",
     "text": [
      "0: 480x640 1 person, 182.7ms\n",
      "Speed: 0.9ms preprocess, 182.7ms inference, 0.8ms postprocess per image at shape (1, 3, 480, 640)\n",
      "\n"
     ]
    },
    {
     "name": "stdout",
     "output_type": "stream",
     "text": [
      "Confidence ---> 0.82\n",
      "Class name --> motorbike\n"
     ]
    },
    {
     "name": "stderr",
     "output_type": "stream",
     "text": [
      "0: 480x640 1 person, 183.9ms\n",
      "Speed: 0.8ms preprocess, 183.9ms inference, 0.7ms postprocess per image at shape (1, 3, 480, 640)\n",
      "\n"
     ]
    },
    {
     "name": "stdout",
     "output_type": "stream",
     "text": [
      "Confidence ---> 0.83\n",
      "Class name --> motorbike\n"
     ]
    },
    {
     "name": "stderr",
     "output_type": "stream",
     "text": [
      "0: 480x640 1 person, 184.2ms\n",
      "Speed: 1.1ms preprocess, 184.2ms inference, 0.7ms postprocess per image at shape (1, 3, 480, 640)\n",
      "\n"
     ]
    },
    {
     "name": "stdout",
     "output_type": "stream",
     "text": [
      "Confidence ---> 0.83\n",
      "Class name --> motorbike\n"
     ]
    },
    {
     "name": "stderr",
     "output_type": "stream",
     "text": [
      "0: 480x640 1 person, 181.8ms\n",
      "Speed: 0.9ms preprocess, 181.8ms inference, 0.7ms postprocess per image at shape (1, 3, 480, 640)\n",
      "\n"
     ]
    },
    {
     "name": "stdout",
     "output_type": "stream",
     "text": [
      "Confidence ---> 0.83\n",
      "Class name --> motorbike\n",
      "Confidence ---> 0.84\n",
      "Class name --> motorbike\n"
     ]
    },
    {
     "name": "stderr",
     "output_type": "stream",
     "text": [
      "0: 480x640 1 person, 182.5ms\n",
      "Speed: 1.1ms preprocess, 182.5ms inference, 0.7ms postprocess per image at shape (1, 3, 480, 640)\n",
      "\n",
      "0: 480x640 1 person, 183.8ms\n",
      "Speed: 0.9ms preprocess, 183.8ms inference, 0.6ms postprocess per image at shape (1, 3, 480, 640)\n",
      "\n"
     ]
    },
    {
     "name": "stdout",
     "output_type": "stream",
     "text": [
      "Confidence ---> 0.83\n",
      "Class name --> motorbike\n"
     ]
    },
    {
     "name": "stderr",
     "output_type": "stream",
     "text": [
      "0: 480x640 1 person, 183.3ms\n",
      "Speed: 1.0ms preprocess, 183.3ms inference, 0.8ms postprocess per image at shape (1, 3, 480, 640)\n",
      "\n"
     ]
    },
    {
     "name": "stdout",
     "output_type": "stream",
     "text": [
      "Confidence ---> 0.79\n",
      "Class name --> motorbike\n"
     ]
    },
    {
     "name": "stderr",
     "output_type": "stream",
     "text": [
      "0: 480x640 2 persons, 184.7ms\n",
      "Speed: 0.9ms preprocess, 184.7ms inference, 0.8ms postprocess per image at shape (1, 3, 480, 640)\n",
      "\n"
     ]
    },
    {
     "name": "stdout",
     "output_type": "stream",
     "text": [
      "Confidence ---> 0.8\n",
      "Class name --> motorbike\n",
      "Confidence ---> 0.44\n",
      "Class name --> motorbike\n"
     ]
    },
    {
     "name": "stderr",
     "output_type": "stream",
     "text": [
      "0: 480x640 1 person, 183.3ms\n",
      "Speed: 1.0ms preprocess, 183.3ms inference, 0.7ms postprocess per image at shape (1, 3, 480, 640)\n",
      "\n"
     ]
    },
    {
     "name": "stdout",
     "output_type": "stream",
     "text": [
      "Confidence ---> 0.81\n",
      "Class name --> motorbike\n"
     ]
    },
    {
     "name": "stderr",
     "output_type": "stream",
     "text": [
      "0: 480x640 1 person, 182.6ms\n",
      "Speed: 0.9ms preprocess, 182.6ms inference, 0.7ms postprocess per image at shape (1, 3, 480, 640)\n",
      "\n"
     ]
    },
    {
     "name": "stdout",
     "output_type": "stream",
     "text": [
      "Confidence ---> 0.82\n",
      "Class name --> motorbike\n"
     ]
    },
    {
     "name": "stderr",
     "output_type": "stream",
     "text": [
      "0: 480x640 1 person, 183.9ms\n",
      "Speed: 1.0ms preprocess, 183.9ms inference, 0.7ms postprocess per image at shape (1, 3, 480, 640)\n",
      "\n"
     ]
    },
    {
     "name": "stdout",
     "output_type": "stream",
     "text": [
      "Confidence ---> 0.81\n",
      "Class name --> motorbike\n"
     ]
    },
    {
     "name": "stderr",
     "output_type": "stream",
     "text": [
      "0: 480x640 1 person, 183.6ms\n",
      "Speed: 0.9ms preprocess, 183.6ms inference, 0.7ms postprocess per image at shape (1, 3, 480, 640)\n",
      "\n"
     ]
    },
    {
     "name": "stdout",
     "output_type": "stream",
     "text": [
      "Confidence ---> 0.79\n",
      "Class name --> motorbike\n"
     ]
    },
    {
     "name": "stderr",
     "output_type": "stream",
     "text": [
      "0: 480x640 1 person, 182.9ms\n",
      "Speed: 0.9ms preprocess, 182.9ms inference, 1.2ms postprocess per image at shape (1, 3, 480, 640)\n",
      "\n"
     ]
    },
    {
     "name": "stdout",
     "output_type": "stream",
     "text": [
      "Confidence ---> 0.8\n",
      "Class name --> motorbike\n"
     ]
    },
    {
     "name": "stderr",
     "output_type": "stream",
     "text": [
      "0: 480x640 2 persons, 187.1ms\n",
      "Speed: 1.0ms preprocess, 187.1ms inference, 0.8ms postprocess per image at shape (1, 3, 480, 640)\n",
      "\n"
     ]
    },
    {
     "name": "stdout",
     "output_type": "stream",
     "text": [
      "Confidence ---> 0.8\n",
      "Class name --> motorbike\n",
      "Confidence ---> 0.41\n",
      "Class name --> motorbike\n"
     ]
    },
    {
     "name": "stderr",
     "output_type": "stream",
     "text": [
      "0: 480x640 1 person, 183.2ms\n",
      "Speed: 0.9ms preprocess, 183.2ms inference, 0.6ms postprocess per image at shape (1, 3, 480, 640)\n",
      "\n"
     ]
    },
    {
     "name": "stdout",
     "output_type": "stream",
     "text": [
      "Confidence ---> 0.79\n",
      "Class name --> motorbike\n"
     ]
    },
    {
     "name": "stderr",
     "output_type": "stream",
     "text": [
      "0: 480x640 1 person, 177.8ms\n",
      "Speed: 0.9ms preprocess, 177.8ms inference, 0.7ms postprocess per image at shape (1, 3, 480, 640)\n",
      "\n",
      "0: 480x640 2 persons, 176.9ms\n"
     ]
    },
    {
     "name": "stdout",
     "output_type": "stream",
     "text": [
      "Confidence ---> 0.8\n",
      "Class name --> motorbike\n",
      "Confidence ---> 0.79\n",
      "Class name --> motorbike\n",
      "Confidence ---> 0.42\n",
      "Class name --> motorbike\n"
     ]
    },
    {
     "name": "stderr",
     "output_type": "stream",
     "text": [
      "Speed: 0.9ms preprocess, 176.9ms inference, 0.8ms postprocess per image at shape (1, 3, 480, 640)\n",
      "\n",
      "0: 480x640 1 person, 176.5ms\n",
      "Speed: 0.9ms preprocess, 176.5ms inference, 0.7ms postprocess per image at shape (1, 3, 480, 640)\n",
      "\n",
      "0: 480x640 1 person, 176.5ms\n",
      "Speed: 0.9ms preprocess, 176.5ms inference, 0.6ms postprocess per image at shape (1, 3, 480, 640)\n"
     ]
    },
    {
     "name": "stdout",
     "output_type": "stream",
     "text": [
      "Confidence ---> 0.79\n",
      "Class name --> motorbike\n",
      "Confidence ---> 0.79\n",
      "Class name --> motorbike\n"
     ]
    },
    {
     "name": "stderr",
     "output_type": "stream",
     "text": [
      "\n",
      "0: 480x640 2 persons, 181.3ms\n",
      "Speed: 0.8ms preprocess, 181.3ms inference, 0.7ms postprocess per image at shape (1, 3, 480, 640)\n",
      "\n",
      "0: 480x640 1 person, 176.9ms\n",
      "Speed: 0.9ms preprocess, 176.9ms inference, 0.7ms postprocess per image at shape (1, 3, 480, 640)\n"
     ]
    },
    {
     "name": "stdout",
     "output_type": "stream",
     "text": [
      "Confidence ---> 0.77\n",
      "Class name --> motorbike\n",
      "Confidence ---> 0.63\n",
      "Class name --> motorbike\n",
      "Confidence ---> 0.72\n",
      "Class name --> motorbike\n"
     ]
    },
    {
     "name": "stderr",
     "output_type": "stream",
     "text": [
      "\n",
      "0: 480x640 1 person, 177.3ms\n",
      "Speed: 0.9ms preprocess, 177.3ms inference, 0.6ms postprocess per image at shape (1, 3, 480, 640)\n",
      "\n",
      "0: 480x640 1 person, 176.8ms\n"
     ]
    },
    {
     "name": "stdout",
     "output_type": "stream",
     "text": [
      "Confidence ---> 0.74\n",
      "Class name --> motorbike\n",
      "Confidence ---> 0.73\n",
      "Class name --> motorbike\n"
     ]
    },
    {
     "name": "stderr",
     "output_type": "stream",
     "text": [
      "Speed: 1.0ms preprocess, 176.8ms inference, 0.7ms postprocess per image at shape (1, 3, 480, 640)\n",
      "\n",
      "0: 480x640 2 persons, 176.7ms\n",
      "Speed: 0.9ms preprocess, 176.7ms inference, 0.8ms postprocess per image at shape (1, 3, 480, 640)\n",
      "\n",
      "0: 480x640 2 persons, 176.7ms\n"
     ]
    },
    {
     "name": "stdout",
     "output_type": "stream",
     "text": [
      "Confidence ---> 0.74\n",
      "Class name --> motorbike\n",
      "Confidence ---> 0.57\n",
      "Class name --> motorbike\n",
      "Confidence ---> 0.76\n",
      "Class name --> motorbike\n",
      "Confidence ---> 0.63\n",
      "Class name --> motorbike\n"
     ]
    },
    {
     "name": "stderr",
     "output_type": "stream",
     "text": [
      "Speed: 0.9ms preprocess, 176.7ms inference, 0.6ms postprocess per image at shape (1, 3, 480, 640)\n",
      "\n",
      "0: 480x640 2 persons, 177.0ms\n",
      "Speed: 0.9ms preprocess, 177.0ms inference, 0.6ms postprocess per image at shape (1, 3, 480, 640)\n",
      "\n"
     ]
    },
    {
     "name": "stdout",
     "output_type": "stream",
     "text": [
      "Confidence ---> 0.77\n",
      "Class name --> motorbike\n",
      "Confidence ---> 0.45\n",
      "Class name --> motorbike\n"
     ]
    },
    {
     "name": "stderr",
     "output_type": "stream",
     "text": [
      "0: 480x640 1 person, 180.2ms\n",
      "Speed: 0.9ms preprocess, 180.2ms inference, 1.1ms postprocess per image at shape (1, 3, 480, 640)\n",
      "\n"
     ]
    },
    {
     "name": "stdout",
     "output_type": "stream",
     "text": [
      "Confidence ---> 0.66\n",
      "Class name --> motorbike\n"
     ]
    },
    {
     "name": "stderr",
     "output_type": "stream",
     "text": [
      "0: 480x640 2 persons, 176.7ms\n",
      "Speed: 1.0ms preprocess, 176.7ms inference, 0.7ms postprocess per image at shape (1, 3, 480, 640)\n",
      "\n"
     ]
    },
    {
     "name": "stdout",
     "output_type": "stream",
     "text": [
      "Confidence ---> 0.65\n",
      "Class name --> motorbike\n",
      "Confidence ---> 0.49\n",
      "Class name --> motorbike\n"
     ]
    },
    {
     "name": "stderr",
     "output_type": "stream",
     "text": [
      "0: 480x640 2 persons, 193.1ms\n",
      "Speed: 1.0ms preprocess, 193.1ms inference, 1.1ms postprocess per image at shape (1, 3, 480, 640)\n",
      "\n"
     ]
    },
    {
     "name": "stdout",
     "output_type": "stream",
     "text": [
      "Confidence ---> 0.75\n",
      "Class name --> motorbike\n",
      "Confidence ---> 0.67\n",
      "Class name --> motorbike\n"
     ]
    },
    {
     "name": "stderr",
     "output_type": "stream",
     "text": [
      "0: 480x640 1 person, 180.7ms\n",
      "Speed: 1.0ms preprocess, 180.7ms inference, 0.8ms postprocess per image at shape (1, 3, 480, 640)\n",
      "\n"
     ]
    },
    {
     "name": "stdout",
     "output_type": "stream",
     "text": [
      "Confidence ---> 0.77\n",
      "Class name --> motorbike\n",
      "Confidence ---> 0.75\n",
      "Class name --> motorbike\n",
      "Confidence ---> 0.54\n",
      "Class name --> motorbike\n"
     ]
    },
    {
     "name": "stderr",
     "output_type": "stream",
     "text": [
      "0: 480x640 2 persons, 178.2ms\n",
      "Speed: 0.9ms preprocess, 178.2ms inference, 0.6ms postprocess per image at shape (1, 3, 480, 640)\n",
      "\n",
      "0: 480x640 2 persons, 184.2ms\n",
      "Speed: 1.0ms preprocess, 184.2ms inference, 0.7ms postprocess per image at shape (1, 3, 480, 640)\n",
      "\n"
     ]
    },
    {
     "name": "stdout",
     "output_type": "stream",
     "text": [
      "Confidence ---> 0.76\n",
      "Class name --> motorbike\n",
      "Confidence ---> 0.44\n",
      "Class name --> motorbike\n"
     ]
    },
    {
     "name": "stderr",
     "output_type": "stream",
     "text": [
      "0: 480x640 2 persons, 185.8ms\n",
      "Speed: 1.1ms preprocess, 185.8ms inference, 0.6ms postprocess per image at shape (1, 3, 480, 640)\n",
      "\n"
     ]
    },
    {
     "name": "stdout",
     "output_type": "stream",
     "text": [
      "Confidence ---> 0.76\n",
      "Class name --> motorbike\n",
      "Confidence ---> 0.27\n",
      "Class name --> motorbike\n"
     ]
    },
    {
     "name": "stderr",
     "output_type": "stream",
     "text": [
      "0: 480x640 2 persons, 185.5ms\n",
      "Speed: 1.0ms preprocess, 185.5ms inference, 0.7ms postprocess per image at shape (1, 3, 480, 640)\n",
      "\n"
     ]
    },
    {
     "name": "stdout",
     "output_type": "stream",
     "text": [
      "Confidence ---> 0.76\n",
      "Class name --> motorbike\n",
      "Confidence ---> 0.61\n",
      "Class name --> motorbike\n"
     ]
    },
    {
     "name": "stderr",
     "output_type": "stream",
     "text": [
      "0: 480x640 2 persons, 183.9ms\n",
      "Speed: 0.9ms preprocess, 183.9ms inference, 0.7ms postprocess per image at shape (1, 3, 480, 640)\n",
      "\n"
     ]
    },
    {
     "name": "stdout",
     "output_type": "stream",
     "text": [
      "Confidence ---> 0.75\n",
      "Class name --> motorbike\n",
      "Confidence ---> 0.5\n",
      "Class name --> motorbike\n"
     ]
    },
    {
     "name": "stderr",
     "output_type": "stream",
     "text": [
      "0: 480x640 1 person, 185.5ms\n",
      "Speed: 0.9ms preprocess, 185.5ms inference, 0.7ms postprocess per image at shape (1, 3, 480, 640)\n",
      "\n"
     ]
    },
    {
     "name": "stdout",
     "output_type": "stream",
     "text": [
      "Confidence ---> 0.77\n",
      "Class name --> motorbike\n"
     ]
    },
    {
     "name": "stderr",
     "output_type": "stream",
     "text": [
      "0: 480x640 1 person, 182.3ms\n",
      "Speed: 0.8ms preprocess, 182.3ms inference, 0.7ms postprocess per image at shape (1, 3, 480, 640)\n",
      "\n"
     ]
    },
    {
     "name": "stdout",
     "output_type": "stream",
     "text": [
      "Confidence ---> 0.74\n",
      "Class name --> motorbike\n"
     ]
    },
    {
     "name": "stderr",
     "output_type": "stream",
     "text": [
      "0: 480x640 2 persons, 182.6ms\n",
      "Speed: 0.9ms preprocess, 182.6ms inference, 0.6ms postprocess per image at shape (1, 3, 480, 640)\n",
      "\n"
     ]
    },
    {
     "name": "stdout",
     "output_type": "stream",
     "text": [
      "Confidence ---> 0.75\n",
      "Class name --> motorbike\n",
      "Confidence ---> 0.63\n",
      "Class name --> motorbike\n"
     ]
    },
    {
     "name": "stderr",
     "output_type": "stream",
     "text": [
      "0: 480x640 1 person, 178.3ms\n",
      "Speed: 0.9ms preprocess, 178.3ms inference, 0.8ms postprocess per image at shape (1, 3, 480, 640)\n",
      "\n"
     ]
    },
    {
     "name": "stdout",
     "output_type": "stream",
     "text": [
      "Confidence ---> 0.73\n",
      "Class name --> motorbike\n"
     ]
    },
    {
     "name": "stderr",
     "output_type": "stream",
     "text": [
      "0: 480x640 1 person, 176.6ms\n",
      "Speed: 1.0ms preprocess, 176.6ms inference, 1.1ms postprocess per image at shape (1, 3, 480, 640)\n",
      "\n",
      "0: 480x640 1 person, 176.8ms\n",
      "Speed: 0.9ms preprocess, 176.8ms inference, 0.8ms postprocess per image at shape (1, 3, 480, 640)\n"
     ]
    },
    {
     "name": "stdout",
     "output_type": "stream",
     "text": [
      "Confidence ---> 0.74\n",
      "Class name --> motorbike\n",
      "Confidence ---> 0.77\n",
      "Class name --> motorbike\n"
     ]
    },
    {
     "name": "stderr",
     "output_type": "stream",
     "text": [
      "\n",
      "0: 480x640 1 person, 176.8ms\n",
      "Speed: 0.9ms preprocess, 176.8ms inference, 0.6ms postprocess per image at shape (1, 3, 480, 640)\n",
      "\n"
     ]
    },
    {
     "name": "stdout",
     "output_type": "stream",
     "text": [
      "Confidence ---> 0.73\n",
      "Class name --> motorbike\n"
     ]
    },
    {
     "name": "stderr",
     "output_type": "stream",
     "text": [
      "0: 480x640 1 person, 176.7ms\n",
      "Speed: 1.0ms preprocess, 176.7ms inference, 0.7ms postprocess per image at shape (1, 3, 480, 640)\n",
      "\n"
     ]
    },
    {
     "name": "stdout",
     "output_type": "stream",
     "text": [
      "Confidence ---> 0.72\n",
      "Class name --> motorbike\n",
      "Confidence ---> 0.7\n",
      "Class name --> motorbike\n"
     ]
    },
    {
     "name": "stderr",
     "output_type": "stream",
     "text": [
      "0: 480x640 1 person, 177.4ms\n",
      "Speed: 0.9ms preprocess, 177.4ms inference, 0.7ms postprocess per image at shape (1, 3, 480, 640)\n",
      "\n",
      "0: 480x640 2 persons, 178.1ms\n",
      "Speed: 1.1ms preprocess, 178.1ms inference, 1.8ms postprocess per image at shape (1, 3, 480, 640)\n",
      "\n"
     ]
    },
    {
     "name": "stdout",
     "output_type": "stream",
     "text": [
      "Confidence ---> 0.71\n",
      "Class name --> motorbike\n",
      "Confidence ---> 0.33\n",
      "Class name --> motorbike\n",
      "Confidence ---> 0.67\n",
      "Class name --> motorbike\n"
     ]
    },
    {
     "name": "stderr",
     "output_type": "stream",
     "text": [
      "0: 480x640 1 person, 178.5ms\n",
      "Speed: 1.0ms preprocess, 178.5ms inference, 0.7ms postprocess per image at shape (1, 3, 480, 640)\n",
      "\n",
      "0: 480x640 1 person, 177.5ms\n",
      "Speed: 0.9ms preprocess, 177.5ms inference, 0.6ms postprocess per image at shape (1, 3, 480, 640)\n",
      "\n",
      "0: 480x640 1 person, 177.2ms\n",
      "Speed: 1.0ms preprocess, 177.2ms inference, 0.7ms postprocess per image at shape (1, 3, 480, 640)\n"
     ]
    },
    {
     "name": "stdout",
     "output_type": "stream",
     "text": [
      "Confidence ---> 0.73\n",
      "Class name --> motorbike\n",
      "Confidence ---> 0.72\n",
      "Class name --> motorbike\n"
     ]
    },
    {
     "name": "stderr",
     "output_type": "stream",
     "text": [
      "\n",
      "0: 480x640 1 person, 177.0ms\n",
      "Speed: 0.9ms preprocess, 177.0ms inference, 0.8ms postprocess per image at shape (1, 3, 480, 640)\n",
      "\n"
     ]
    },
    {
     "name": "stdout",
     "output_type": "stream",
     "text": [
      "Confidence ---> 0.74\n",
      "Class name --> motorbike\n"
     ]
    },
    {
     "name": "stderr",
     "output_type": "stream",
     "text": [
      "0: 480x640 1 person, 178.9ms\n",
      "Speed: 0.9ms preprocess, 178.9ms inference, 0.7ms postprocess per image at shape (1, 3, 480, 640)\n",
      "\n"
     ]
    },
    {
     "name": "stdout",
     "output_type": "stream",
     "text": [
      "Confidence ---> 0.77\n",
      "Class name --> motorbike\n"
     ]
    },
    {
     "name": "stderr",
     "output_type": "stream",
     "text": [
      "0: 480x640 1 person, 178.7ms\n",
      "Speed: 1.0ms preprocess, 178.7ms inference, 0.8ms postprocess per image at shape (1, 3, 480, 640)\n",
      "\n"
     ]
    },
    {
     "name": "stdout",
     "output_type": "stream",
     "text": [
      "Confidence ---> 0.71\n",
      "Class name --> motorbike\n",
      "Confidence ---> 0.71\n",
      "Class name --> motorbike\n"
     ]
    },
    {
     "name": "stderr",
     "output_type": "stream",
     "text": [
      "0: 480x640 1 person, 177.0ms\n",
      "Speed: 0.9ms preprocess, 177.0ms inference, 0.6ms postprocess per image at shape (1, 3, 480, 640)\n",
      "\n",
      "0: 480x640 2 persons, 176.2ms\n",
      "Speed: 0.9ms preprocess, 176.2ms inference, 0.6ms postprocess per image at shape (1, 3, 480, 640)\n",
      "\n"
     ]
    },
    {
     "name": "stdout",
     "output_type": "stream",
     "text": [
      "Confidence ---> 0.7\n",
      "Class name --> motorbike\n",
      "Confidence ---> 0.26\n",
      "Class name --> motorbike\n"
     ]
    },
    {
     "name": "stderr",
     "output_type": "stream",
     "text": [
      "0: 480x640 1 person, 177.7ms\n",
      "Speed: 0.8ms preprocess, 177.7ms inference, 0.6ms postprocess per image at shape (1, 3, 480, 640)\n",
      "\n",
      "0: 480x640 1 person, 177.3ms\n",
      "Speed: 0.9ms preprocess, 177.3ms inference, 0.8ms postprocess per image at shape (1, 3, 480, 640)\n"
     ]
    },
    {
     "name": "stdout",
     "output_type": "stream",
     "text": [
      "Confidence ---> 0.75\n",
      "Class name --> motorbike\n",
      "Confidence ---> 0.67\n",
      "Class name --> motorbike\n"
     ]
    },
    {
     "name": "stderr",
     "output_type": "stream",
     "text": [
      "\n",
      "0: 480x640 1 person, 177.1ms\n",
      "Speed: 0.9ms preprocess, 177.1ms inference, 0.8ms postprocess per image at shape (1, 3, 480, 640)\n",
      "\n",
      "0: 480x640 1 person, 176.9ms\n",
      "Speed: 0.9ms preprocess, 176.9ms inference, 0.7ms postprocess per image at shape (1, 3, 480, 640)\n"
     ]
    },
    {
     "name": "stdout",
     "output_type": "stream",
     "text": [
      "Confidence ---> 0.65\n",
      "Class name --> motorbike\n",
      "Confidence ---> 0.74\n",
      "Class name --> motorbike\n"
     ]
    },
    {
     "name": "stderr",
     "output_type": "stream",
     "text": [
      "\n",
      "0: 480x640 1 person, 177.2ms\n",
      "Speed: 1.0ms preprocess, 177.2ms inference, 0.6ms postprocess per image at shape (1, 3, 480, 640)\n",
      "\n"
     ]
    },
    {
     "name": "stdout",
     "output_type": "stream",
     "text": [
      "Confidence ---> 0.78\n",
      "Class name --> motorbike\n"
     ]
    },
    {
     "name": "stderr",
     "output_type": "stream",
     "text": [
      "0: 480x640 1 person, 178.8ms\n",
      "Speed: 1.2ms preprocess, 178.8ms inference, 0.8ms postprocess per image at shape (1, 3, 480, 640)\n",
      "\n"
     ]
    },
    {
     "name": "stdout",
     "output_type": "stream",
     "text": [
      "Confidence ---> 0.79\n",
      "Class name --> motorbike\n"
     ]
    },
    {
     "name": "stderr",
     "output_type": "stream",
     "text": [
      "0: 480x640 1 person, 178.3ms\n",
      "Speed: 0.9ms preprocess, 178.3ms inference, 0.8ms postprocess per image at shape (1, 3, 480, 640)\n",
      "\n"
     ]
    },
    {
     "name": "stdout",
     "output_type": "stream",
     "text": [
      "Confidence ---> 0.82\n",
      "Class name --> motorbike\n",
      "Confidence ---> 0.78\n",
      "Class name --> motorbike\n"
     ]
    },
    {
     "name": "stderr",
     "output_type": "stream",
     "text": [
      "0: 480x640 1 person, 177.0ms\n",
      "Speed: 0.9ms preprocess, 177.0ms inference, 0.7ms postprocess per image at shape (1, 3, 480, 640)\n",
      "\n",
      "0: 480x640 1 person, 176.3ms\n",
      "Speed: 0.9ms preprocess, 176.3ms inference, 0.8ms postprocess per image at shape (1, 3, 480, 640)\n",
      "\n"
     ]
    },
    {
     "name": "stdout",
     "output_type": "stream",
     "text": [
      "Confidence ---> 0.76\n",
      "Class name --> motorbike\n"
     ]
    },
    {
     "name": "stderr",
     "output_type": "stream",
     "text": [
      "0: 480x640 2 persons, 178.5ms\n",
      "Speed: 0.9ms preprocess, 178.5ms inference, 0.6ms postprocess per image at shape (1, 3, 480, 640)\n",
      "\n"
     ]
    },
    {
     "name": "stdout",
     "output_type": "stream",
     "text": [
      "Confidence ---> 0.8\n",
      "Class name --> motorbike\n",
      "Confidence ---> 0.62\n",
      "Class name --> motorbike\n"
     ]
    },
    {
     "name": "stderr",
     "output_type": "stream",
     "text": [
      "0: 480x640 2 persons, 177.5ms\n",
      "Speed: 0.9ms preprocess, 177.5ms inference, 0.7ms postprocess per image at shape (1, 3, 480, 640)\n",
      "\n"
     ]
    },
    {
     "name": "stdout",
     "output_type": "stream",
     "text": [
      "Confidence ---> 0.81\n",
      "Class name --> motorbike\n",
      "Confidence ---> 0.46\n",
      "Class name --> motorbike\n"
     ]
    },
    {
     "name": "stderr",
     "output_type": "stream",
     "text": [
      "0: 480x640 1 person, 178.5ms\n",
      "Speed: 0.9ms preprocess, 178.5ms inference, 0.7ms postprocess per image at shape (1, 3, 480, 640)\n",
      "\n"
     ]
    },
    {
     "name": "stdout",
     "output_type": "stream",
     "text": [
      "Confidence ---> 0.79\n",
      "Class name --> motorbike\n"
     ]
    },
    {
     "name": "stderr",
     "output_type": "stream",
     "text": [
      "0: 480x640 2 persons, 178.4ms\n",
      "Speed: 0.9ms preprocess, 178.4ms inference, 0.7ms postprocess per image at shape (1, 3, 480, 640)\n",
      "\n"
     ]
    },
    {
     "name": "stdout",
     "output_type": "stream",
     "text": [
      "Confidence ---> 0.77\n",
      "Class name --> motorbike\n",
      "Confidence ---> 0.43\n",
      "Class name --> motorbike\n"
     ]
    },
    {
     "name": "stderr",
     "output_type": "stream",
     "text": [
      "0: 480x640 1 person, 179.4ms\n",
      "Speed: 0.9ms preprocess, 179.4ms inference, 0.6ms postprocess per image at shape (1, 3, 480, 640)\n",
      "\n",
      "0: 480x640 2 persons, 177.7ms\n"
     ]
    },
    {
     "name": "stdout",
     "output_type": "stream",
     "text": [
      "Confidence ---> 0.54\n",
      "Class name --> motorbike\n",
      "Confidence ---> 0.61\n",
      "Class name --> motorbike\n",
      "Confidence ---> 0.54\n",
      "Class name --> motorbike\n"
     ]
    },
    {
     "name": "stderr",
     "output_type": "stream",
     "text": [
      "Speed: 0.9ms preprocess, 177.7ms inference, 0.8ms postprocess per image at shape (1, 3, 480, 640)\n",
      "\n",
      "0: 480x640 2 persons, 177.2ms\n",
      "Speed: 0.9ms preprocess, 177.2ms inference, 0.6ms postprocess per image at shape (1, 3, 480, 640)\n",
      "\n",
      "0: 480x640 2 persons, 176.2ms\n"
     ]
    },
    {
     "name": "stdout",
     "output_type": "stream",
     "text": [
      "Confidence ---> 0.32\n",
      "Class name --> motorbike\n",
      "Confidence ---> 0.31\n",
      "Class name --> motorbike\n",
      "Confidence ---> 0.66\n",
      "Class name --> motorbike\n",
      "Confidence ---> 0.39\n",
      "Class name --> motorbike\n"
     ]
    },
    {
     "name": "stderr",
     "output_type": "stream",
     "text": [
      "Speed: 1.0ms preprocess, 176.2ms inference, 0.6ms postprocess per image at shape (1, 3, 480, 640)\n",
      "\n",
      "0: 480x640 2 persons, 177.0ms\n",
      "Speed: 0.9ms preprocess, 177.0ms inference, 0.6ms postprocess per image at shape (1, 3, 480, 640)\n",
      "\n"
     ]
    },
    {
     "name": "stdout",
     "output_type": "stream",
     "text": [
      "Confidence ---> 0.66\n",
      "Class name --> motorbike\n",
      "Confidence ---> 0.54\n",
      "Class name --> motorbike\n"
     ]
    },
    {
     "name": "stderr",
     "output_type": "stream",
     "text": [
      "0: 480x640 2 persons, 179.7ms\n",
      "Speed: 0.9ms preprocess, 179.7ms inference, 0.8ms postprocess per image at shape (1, 3, 480, 640)\n",
      "\n"
     ]
    },
    {
     "name": "stdout",
     "output_type": "stream",
     "text": [
      "Confidence ---> 0.68\n",
      "Class name --> motorbike\n",
      "Confidence ---> 0.51\n",
      "Class name --> motorbike\n"
     ]
    },
    {
     "name": "stderr",
     "output_type": "stream",
     "text": [
      "0: 480x640 2 persons, 177.3ms\n",
      "Speed: 1.0ms preprocess, 177.3ms inference, 0.7ms postprocess per image at shape (1, 3, 480, 640)\n",
      "\n",
      "0: 480x640 2 persons, 177.1ms\n",
      "Speed: 0.9ms preprocess, 177.1ms inference, 0.7ms postprocess per image at shape (1, 3, 480, 640)\n"
     ]
    },
    {
     "name": "stdout",
     "output_type": "stream",
     "text": [
      "Confidence ---> 0.65\n",
      "Class name --> motorbike\n",
      "Confidence ---> 0.55\n",
      "Class name --> motorbike\n",
      "Confidence ---> 0.68\n",
      "Class name --> motorbike\n",
      "Confidence ---> 0.66\n",
      "Class name --> motorbike\n"
     ]
    },
    {
     "name": "stderr",
     "output_type": "stream",
     "text": [
      "\n",
      "0: 480x640 1 ball, 1 person, 176.5ms\n",
      "Speed: 1.0ms preprocess, 176.5ms inference, 0.7ms postprocess per image at shape (1, 3, 480, 640)\n",
      "\n",
      "0: 480x640 1 ball, 1 person, 176.9ms\n",
      "Speed: 0.9ms preprocess, 176.9ms inference, 0.6ms postprocess per image at shape (1, 3, 480, 640)\n"
     ]
    },
    {
     "name": "stdout",
     "output_type": "stream",
     "text": [
      "Confidence ---> 0.77\n",
      "Class name --> motorbike\n",
      "Confidence ---> 0.3\n",
      "Class name --> bicycle\n",
      "Confidence ---> 0.93\n",
      "Class name --> bicycle\n",
      "Confidence ---> 0.72\n",
      "Class name --> motorbike\n"
     ]
    },
    {
     "name": "stderr",
     "output_type": "stream",
     "text": [
      "\n",
      "0: 480x640 1 ball, 1 person, 177.0ms\n",
      "Speed: 0.9ms preprocess, 177.0ms inference, 0.8ms postprocess per image at shape (1, 3, 480, 640)\n",
      "\n"
     ]
    },
    {
     "name": "stdout",
     "output_type": "stream",
     "text": [
      "Confidence ---> 0.9\n",
      "Class name --> bicycle\n",
      "Confidence ---> 0.78\n",
      "Class name --> motorbike\n"
     ]
    },
    {
     "name": "stderr",
     "output_type": "stream",
     "text": [
      "0: 480x640 1 ball, 1 person, 176.6ms\n",
      "Speed: 1.0ms preprocess, 176.6ms inference, 0.7ms postprocess per image at shape (1, 3, 480, 640)\n",
      "\n",
      "0: 480x640 2 balls, 1 person, 178.0ms\n",
      "Speed: 0.9ms preprocess, 178.0ms inference, 0.8ms postprocess per image at shape (1, 3, 480, 640)\n"
     ]
    },
    {
     "name": "stdout",
     "output_type": "stream",
     "text": [
      "Confidence ---> 0.87\n",
      "Class name --> bicycle\n",
      "Confidence ---> 0.75\n",
      "Class name --> motorbike\n",
      "Confidence ---> 0.77\n",
      "Class name --> bicycle\n",
      "Confidence ---> 0.76\n",
      "Class name --> motorbike\n",
      "Confidence ---> 0.31\n",
      "Class name --> bicycle\n"
     ]
    },
    {
     "name": "stderr",
     "output_type": "stream",
     "text": [
      "\n",
      "0: 480x640 1 ball, 1 person, 177.0ms\n",
      "Speed: 0.9ms preprocess, 177.0ms inference, 0.7ms postprocess per image at shape (1, 3, 480, 640)\n",
      "\n"
     ]
    },
    {
     "name": "stdout",
     "output_type": "stream",
     "text": [
      "Confidence ---> 0.82\n",
      "Class name --> bicycle\n",
      "Confidence ---> 0.82\n",
      "Class name --> motorbike\n",
      "Confidence ---> 0.85\n",
      "Class name --> bicycle\n",
      "Confidence ---> 0.78\n",
      "Class name --> motorbike\n"
     ]
    },
    {
     "name": "stderr",
     "output_type": "stream",
     "text": [
      "0: 480x640 1 ball, 1 person, 176.7ms\n",
      "Speed: 0.9ms preprocess, 176.7ms inference, 0.6ms postprocess per image at shape (1, 3, 480, 640)\n",
      "\n",
      "0: 480x640 1 person, 177.1ms\n",
      "Speed: 0.9ms preprocess, 177.1ms inference, 0.6ms postprocess per image at shape (1, 3, 480, 640)\n",
      "\n"
     ]
    },
    {
     "name": "stdout",
     "output_type": "stream",
     "text": [
      "Confidence ---> 0.69\n",
      "Class name --> motorbike\n"
     ]
    },
    {
     "name": "stderr",
     "output_type": "stream",
     "text": [
      "0: 480x640 1 ball, 182.7ms\n",
      "Speed: 0.9ms preprocess, 182.7ms inference, 0.7ms postprocess per image at shape (1, 3, 480, 640)\n",
      "\n"
     ]
    },
    {
     "name": "stdout",
     "output_type": "stream",
     "text": [
      "Confidence ---> 0.81\n",
      "Class name --> bicycle\n"
     ]
    },
    {
     "name": "stderr",
     "output_type": "stream",
     "text": [
      "0: 480x640 1 ball, 1 person, 179.1ms\n",
      "Speed: 1.0ms preprocess, 179.1ms inference, 0.8ms postprocess per image at shape (1, 3, 480, 640)\n",
      "\n"
     ]
    },
    {
     "name": "stdout",
     "output_type": "stream",
     "text": [
      "Confidence ---> 0.87\n",
      "Class name --> bicycle\n",
      "Confidence ---> 0.41\n",
      "Class name --> motorbike\n",
      "Confidence ---> 0.83\n",
      "Class name --> bicycle\n",
      "Confidence ---> 0.65\n",
      "Class name --> motorbike\n",
      "Confidence ---> 0.4\n",
      "Class name --> motorbike\n"
     ]
    },
    {
     "name": "stderr",
     "output_type": "stream",
     "text": [
      "0: 480x640 1 ball, 2 persons, 179.6ms\n",
      "Speed: 0.9ms preprocess, 179.6ms inference, 0.6ms postprocess per image at shape (1, 3, 480, 640)\n",
      "\n",
      "0: 480x640 1 ball, 1 person, 179.4ms\n",
      "Speed: 0.9ms preprocess, 179.4ms inference, 0.7ms postprocess per image at shape (1, 3, 480, 640)\n",
      "\n",
      "0: 480x640 1 ball, 2 persons, 176.7ms\n",
      "Speed: 0.9ms preprocess, 176.7ms inference, 0.8ms postprocess per image at shape (1, 3, 480, 640)\n"
     ]
    },
    {
     "name": "stdout",
     "output_type": "stream",
     "text": [
      "Confidence ---> 0.89\n",
      "Class name --> bicycle\n",
      "Confidence ---> 0.71\n",
      "Class name --> motorbike\n",
      "Confidence ---> 0.9\n",
      "Class name --> bicycle\n",
      "Confidence ---> 0.69\n",
      "Class name --> motorbike\n",
      "Confidence ---> 0.3\n",
      "Class name --> motorbike\n"
     ]
    },
    {
     "name": "stderr",
     "output_type": "stream",
     "text": [
      "\n",
      "0: 480x640 1 ball, 1 person, 176.8ms\n",
      "Speed: 0.9ms preprocess, 176.8ms inference, 0.6ms postprocess per image at shape (1, 3, 480, 640)\n",
      "\n"
     ]
    },
    {
     "name": "stdout",
     "output_type": "stream",
     "text": [
      "Confidence ---> 0.9\n",
      "Class name --> bicycle\n",
      "Confidence ---> 0.62\n",
      "Class name --> motorbike\n"
     ]
    },
    {
     "name": "stderr",
     "output_type": "stream",
     "text": [
      "0: 480x640 1 ball, 1 person, 182.6ms\n",
      "Speed: 0.9ms preprocess, 182.6ms inference, 0.6ms postprocess per image at shape (1, 3, 480, 640)\n",
      "\n"
     ]
    },
    {
     "name": "stdout",
     "output_type": "stream",
     "text": [
      "Confidence ---> 0.9\n",
      "Class name --> bicycle\n",
      "Confidence ---> 0.6\n",
      "Class name --> motorbike\n"
     ]
    },
    {
     "name": "stderr",
     "output_type": "stream",
     "text": [
      "0: 480x640 1 ball, 2 persons, 182.8ms\n",
      "Speed: 0.9ms preprocess, 182.8ms inference, 0.7ms postprocess per image at shape (1, 3, 480, 640)\n",
      "\n"
     ]
    },
    {
     "name": "stdout",
     "output_type": "stream",
     "text": [
      "Confidence ---> 0.87\n",
      "Class name --> bicycle\n",
      "Confidence ---> 0.57\n",
      "Class name --> motorbike\n",
      "Confidence ---> 0.56\n",
      "Class name --> motorbike\n"
     ]
    },
    {
     "name": "stderr",
     "output_type": "stream",
     "text": [
      "0: 480x640 1 ball, 2 persons, 177.9ms\n",
      "Speed: 1.0ms preprocess, 177.9ms inference, 0.8ms postprocess per image at shape (1, 3, 480, 640)\n",
      "\n",
      "0: 480x640 1 ball, 1 person, 177.5ms\n",
      "Speed: 0.9ms preprocess, 177.5ms inference, 0.7ms postprocess per image at shape (1, 3, 480, 640)\n"
     ]
    },
    {
     "name": "stdout",
     "output_type": "stream",
     "text": [
      "Confidence ---> 0.83\n",
      "Class name --> bicycle\n",
      "Confidence ---> 0.68\n",
      "Class name --> motorbike\n",
      "Confidence ---> 0.55\n",
      "Class name --> motorbike\n",
      "Confidence ---> 0.76\n",
      "Class name --> motorbike\n",
      "Confidence ---> 0.42\n",
      "Class name --> bicycle\n"
     ]
    },
    {
     "name": "stderr",
     "output_type": "stream",
     "text": [
      "\n",
      "0: 480x640 1 person, 177.2ms\n",
      "Speed: 1.0ms preprocess, 177.2ms inference, 0.6ms postprocess per image at shape (1, 3, 480, 640)\n",
      "\n"
     ]
    },
    {
     "name": "stdout",
     "output_type": "stream",
     "text": [
      "Confidence ---> 0.77\n",
      "Class name --> motorbike\n",
      "Confidence ---> 0.74\n",
      "Class name --> motorbike\n"
     ]
    },
    {
     "name": "stderr",
     "output_type": "stream",
     "text": [
      "0: 480x640 2 persons, 176.7ms\n",
      "Speed: 0.9ms preprocess, 176.7ms inference, 0.7ms postprocess per image at shape (1, 3, 480, 640)\n",
      "\n",
      "0: 480x640 2 persons, 177.2ms\n",
      "Speed: 0.9ms preprocess, 177.2ms inference, 0.6ms postprocess per image at shape (1, 3, 480, 640)\n"
     ]
    },
    {
     "name": "stdout",
     "output_type": "stream",
     "text": [
      "Confidence ---> 0.43\n",
      "Class name --> motorbike\n",
      "Confidence ---> 0.66\n",
      "Class name --> motorbike\n",
      "Confidence ---> 0.48\n",
      "Class name --> motorbike\n"
     ]
    },
    {
     "name": "stderr",
     "output_type": "stream",
     "text": [
      "\n",
      "0: 480x640 2 persons, 176.6ms\n",
      "Speed: 0.9ms preprocess, 176.6ms inference, 0.7ms postprocess per image at shape (1, 3, 480, 640)\n",
      "\n",
      "0: 480x640 3 persons, 176.8ms\n",
      "Speed: 0.9ms preprocess, 176.8ms inference, 0.6ms postprocess per image at shape (1, 3, 480, 640)\n"
     ]
    },
    {
     "name": "stdout",
     "output_type": "stream",
     "text": [
      "Confidence ---> 0.49\n",
      "Class name --> motorbike\n",
      "Confidence ---> 0.46\n",
      "Class name --> motorbike\n",
      "Confidence ---> 0.55\n",
      "Class name --> motorbike\n",
      "Confidence ---> 0.37\n",
      "Class name --> motorbike\n",
      "Confidence ---> 0.37\n",
      "Class name --> motorbike\n"
     ]
    },
    {
     "name": "stderr",
     "output_type": "stream",
     "text": [
      "\n",
      "0: 480x640 2 persons, 177.5ms\n",
      "Speed: 0.9ms preprocess, 177.5ms inference, 0.6ms postprocess per image at shape (1, 3, 480, 640)\n",
      "\n"
     ]
    },
    {
     "name": "stdout",
     "output_type": "stream",
     "text": [
      "Confidence ---> 0.51\n",
      "Class name --> motorbike\n",
      "Confidence ---> 0.33\n",
      "Class name --> motorbike\n"
     ]
    },
    {
     "name": "stderr",
     "output_type": "stream",
     "text": [
      "0: 480x640 (no detections), 177.4ms\n",
      "Speed: 1.0ms preprocess, 177.4ms inference, 0.4ms postprocess per image at shape (1, 3, 480, 640)\n",
      "\n",
      "0: 480x640 1 person, 176.3ms\n",
      "Speed: 0.9ms preprocess, 176.3ms inference, 0.6ms postprocess per image at shape (1, 3, 480, 640)\n",
      "\n"
     ]
    },
    {
     "name": "stdout",
     "output_type": "stream",
     "text": [
      "Confidence ---> 0.5\n",
      "Class name --> motorbike\n"
     ]
    },
    {
     "name": "stderr",
     "output_type": "stream",
     "text": [
      "0: 480x640 1 person, 178.7ms\n",
      "Speed: 0.9ms preprocess, 178.7ms inference, 0.8ms postprocess per image at shape (1, 3, 480, 640)\n",
      "\n"
     ]
    },
    {
     "name": "stdout",
     "output_type": "stream",
     "text": [
      "Confidence ---> 0.53\n",
      "Class name --> motorbike\n"
     ]
    },
    {
     "name": "stderr",
     "output_type": "stream",
     "text": [
      "0: 480x640 3 persons, 176.7ms\n",
      "Speed: 1.0ms preprocess, 176.7ms inference, 0.7ms postprocess per image at shape (1, 3, 480, 640)\n",
      "\n",
      "0: 480x640 2 persons, 176.9ms\n",
      "Speed: 1.0ms preprocess, 176.9ms inference, 0.8ms postprocess per image at shape (1, 3, 480, 640)\n"
     ]
    },
    {
     "name": "stdout",
     "output_type": "stream",
     "text": [
      "Confidence ---> 0.54\n",
      "Class name --> motorbike\n",
      "Confidence ---> 0.49\n",
      "Class name --> motorbike\n",
      "Confidence ---> 0.35\n",
      "Class name --> motorbike\n",
      "Confidence ---> 0.65\n",
      "Class name --> motorbike\n",
      "Confidence ---> 0.52\n",
      "Class name --> motorbike\n"
     ]
    },
    {
     "name": "stderr",
     "output_type": "stream",
     "text": [
      "\n",
      "0: 480x640 3 persons, 178.1ms\n",
      "Speed: 0.9ms preprocess, 178.1ms inference, 0.7ms postprocess per image at shape (1, 3, 480, 640)\n",
      "\n"
     ]
    },
    {
     "name": "stdout",
     "output_type": "stream",
     "text": [
      "Confidence ---> 0.66\n",
      "Class name --> motorbike\n",
      "Confidence ---> 0.59\n",
      "Class name --> motorbike\n",
      "Confidence ---> 0.38\n",
      "Class name --> motorbike\n",
      "Confidence ---> 0.73\n",
      "Class name --> motorbike\n"
     ]
    },
    {
     "name": "stderr",
     "output_type": "stream",
     "text": [
      "0: 480x640 1 person, 178.6ms\n",
      "Speed: 0.8ms preprocess, 178.6ms inference, 0.7ms postprocess per image at shape (1, 3, 480, 640)\n",
      "\n",
      "0: 480x640 2 persons, 181.1ms\n",
      "Speed: 1.0ms preprocess, 181.1ms inference, 0.8ms postprocess per image at shape (1, 3, 480, 640)\n",
      "\n"
     ]
    },
    {
     "name": "stdout",
     "output_type": "stream",
     "text": [
      "Confidence ---> 0.69\n",
      "Class name --> motorbike\n",
      "Confidence ---> 0.33\n",
      "Class name --> motorbike\n"
     ]
    },
    {
     "name": "stderr",
     "output_type": "stream",
     "text": [
      "0: 480x640 2 persons, 179.9ms\n",
      "Speed: 0.9ms preprocess, 179.9ms inference, 0.7ms postprocess per image at shape (1, 3, 480, 640)\n",
      "\n"
     ]
    },
    {
     "name": "stdout",
     "output_type": "stream",
     "text": [
      "Confidence ---> 0.71\n",
      "Class name --> motorbike\n",
      "Confidence ---> 0.38\n",
      "Class name --> motorbike\n"
     ]
    },
    {
     "name": "stderr",
     "output_type": "stream",
     "text": [
      "0: 480x640 1 person, 183.6ms\n",
      "Speed: 0.9ms preprocess, 183.6ms inference, 0.9ms postprocess per image at shape (1, 3, 480, 640)\n",
      "\n"
     ]
    },
    {
     "name": "stdout",
     "output_type": "stream",
     "text": [
      "Confidence ---> 0.74\n",
      "Class name --> motorbike\n"
     ]
    },
    {
     "name": "stderr",
     "output_type": "stream",
     "text": [
      "0: 480x640 2 persons, 186.4ms\n",
      "Speed: 0.9ms preprocess, 186.4ms inference, 0.7ms postprocess per image at shape (1, 3, 480, 640)\n",
      "\n"
     ]
    },
    {
     "name": "stdout",
     "output_type": "stream",
     "text": [
      "Confidence ---> 0.73\n",
      "Class name --> motorbike\n",
      "Confidence ---> 0.4\n",
      "Class name --> motorbike\n"
     ]
    },
    {
     "name": "stderr",
     "output_type": "stream",
     "text": [
      "0: 480x640 1 person, 184.2ms\n",
      "Speed: 0.9ms preprocess, 184.2ms inference, 0.6ms postprocess per image at shape (1, 3, 480, 640)\n",
      "\n"
     ]
    },
    {
     "name": "stdout",
     "output_type": "stream",
     "text": [
      "Confidence ---> 0.71\n",
      "Class name --> motorbike\n"
     ]
    },
    {
     "name": "stderr",
     "output_type": "stream",
     "text": [
      "0: 480x640 2 persons, 186.8ms\n",
      "Speed: 0.9ms preprocess, 186.8ms inference, 0.6ms postprocess per image at shape (1, 3, 480, 640)\n",
      "\n"
     ]
    },
    {
     "name": "stdout",
     "output_type": "stream",
     "text": [
      "Confidence ---> 0.67\n",
      "Class name --> motorbike\n",
      "Confidence ---> 0.27\n",
      "Class name --> motorbike\n"
     ]
    },
    {
     "name": "stderr",
     "output_type": "stream",
     "text": [
      "0: 480x640 2 persons, 187.2ms\n",
      "Speed: 0.9ms preprocess, 187.2ms inference, 0.8ms postprocess per image at shape (1, 3, 480, 640)\n",
      "\n"
     ]
    },
    {
     "name": "stdout",
     "output_type": "stream",
     "text": [
      "Confidence ---> 0.7\n",
      "Class name --> motorbike\n",
      "Confidence ---> 0.39\n",
      "Class name --> motorbike\n"
     ]
    },
    {
     "name": "stderr",
     "output_type": "stream",
     "text": [
      "0: 480x640 2 persons, 184.3ms\n",
      "Speed: 0.9ms preprocess, 184.3ms inference, 0.7ms postprocess per image at shape (1, 3, 480, 640)\n",
      "\n",
      "0: 480x640 2 persons, 180.2ms\n"
     ]
    },
    {
     "name": "stdout",
     "output_type": "stream",
     "text": [
      "Confidence ---> 0.52\n",
      "Class name --> motorbike\n",
      "Confidence ---> 0.41\n",
      "Class name --> motorbike\n",
      "Confidence ---> 0.71\n",
      "Class name --> motorbike\n",
      "Confidence ---> 0.4\n",
      "Class name --> motorbike\n"
     ]
    },
    {
     "name": "stderr",
     "output_type": "stream",
     "text": [
      "Speed: 0.9ms preprocess, 180.2ms inference, 0.6ms postprocess per image at shape (1, 3, 480, 640)\n",
      "\n",
      "0: 480x640 1 person, 191.9ms\n",
      "Speed: 1.0ms preprocess, 191.9ms inference, 0.7ms postprocess per image at shape (1, 3, 480, 640)\n",
      "\n"
     ]
    },
    {
     "name": "stdout",
     "output_type": "stream",
     "text": [
      "Confidence ---> 0.69\n",
      "Class name --> motorbike\n"
     ]
    },
    {
     "name": "stderr",
     "output_type": "stream",
     "text": [
      "0: 480x640 2 persons, 183.5ms\n",
      "Speed: 0.9ms preprocess, 183.5ms inference, 0.6ms postprocess per image at shape (1, 3, 480, 640)\n",
      "\n"
     ]
    },
    {
     "name": "stdout",
     "output_type": "stream",
     "text": [
      "Confidence ---> 0.64\n",
      "Class name --> motorbike\n",
      "Confidence ---> 0.31\n",
      "Class name --> motorbike\n"
     ]
    },
    {
     "name": "stderr",
     "output_type": "stream",
     "text": [
      "0: 480x640 2 persons, 186.8ms\n",
      "Speed: 1.1ms preprocess, 186.8ms inference, 1.0ms postprocess per image at shape (1, 3, 480, 640)\n",
      "\n"
     ]
    },
    {
     "name": "stdout",
     "output_type": "stream",
     "text": [
      "Confidence ---> 0.66\n",
      "Class name --> motorbike\n",
      "Confidence ---> 0.3\n",
      "Class name --> motorbike\n"
     ]
    },
    {
     "name": "stderr",
     "output_type": "stream",
     "text": [
      "0: 480x640 3 persons, 186.1ms\n",
      "Speed: 1.0ms preprocess, 186.1ms inference, 0.8ms postprocess per image at shape (1, 3, 480, 640)\n",
      "\n"
     ]
    },
    {
     "name": "stdout",
     "output_type": "stream",
     "text": [
      "Confidence ---> 0.63\n",
      "Class name --> motorbike\n",
      "Confidence ---> 0.38\n",
      "Class name --> motorbike\n",
      "Confidence ---> 0.27\n",
      "Class name --> motorbike\n"
     ]
    },
    {
     "name": "stderr",
     "output_type": "stream",
     "text": [
      "0: 480x640 2 persons, 187.1ms\n",
      "Speed: 1.0ms preprocess, 187.1ms inference, 0.8ms postprocess per image at shape (1, 3, 480, 640)\n",
      "\n"
     ]
    },
    {
     "name": "stdout",
     "output_type": "stream",
     "text": [
      "Confidence ---> 0.64\n",
      "Class name --> motorbike\n",
      "Confidence ---> 0.27\n",
      "Class name --> motorbike\n"
     ]
    },
    {
     "name": "stderr",
     "output_type": "stream",
     "text": [
      "0: 480x640 1 person, 183.0ms\n",
      "Speed: 0.9ms preprocess, 183.0ms inference, 0.9ms postprocess per image at shape (1, 3, 480, 640)\n",
      "\n"
     ]
    },
    {
     "name": "stdout",
     "output_type": "stream",
     "text": [
      "Confidence ---> 0.55\n",
      "Class name --> motorbike\n"
     ]
    },
    {
     "name": "stderr",
     "output_type": "stream",
     "text": [
      "0: 480x640 2 persons, 184.4ms\n",
      "Speed: 0.9ms preprocess, 184.4ms inference, 0.7ms postprocess per image at shape (1, 3, 480, 640)\n",
      "\n"
     ]
    },
    {
     "name": "stdout",
     "output_type": "stream",
     "text": [
      "Confidence ---> 0.51\n",
      "Class name --> motorbike\n",
      "Confidence ---> 0.32\n",
      "Class name --> motorbike\n"
     ]
    },
    {
     "name": "stderr",
     "output_type": "stream",
     "text": [
      "0: 480x640 2 persons, 180.0ms\n",
      "Speed: 0.9ms preprocess, 180.0ms inference, 0.6ms postprocess per image at shape (1, 3, 480, 640)\n",
      "\n"
     ]
    },
    {
     "name": "stdout",
     "output_type": "stream",
     "text": [
      "Confidence ---> 0.65\n",
      "Class name --> motorbike\n",
      "Confidence ---> 0.29\n",
      "Class name --> motorbike\n"
     ]
    },
    {
     "name": "stderr",
     "output_type": "stream",
     "text": [
      "0: 480x640 2 persons, 179.4ms\n",
      "Speed: 0.9ms preprocess, 179.4ms inference, 0.8ms postprocess per image at shape (1, 3, 480, 640)\n",
      "\n"
     ]
    },
    {
     "name": "stdout",
     "output_type": "stream",
     "text": [
      "Confidence ---> 0.54\n",
      "Class name --> motorbike\n",
      "Confidence ---> 0.52\n",
      "Class name --> motorbike\n"
     ]
    },
    {
     "name": "stderr",
     "output_type": "stream",
     "text": [
      "0: 480x640 3 persons, 180.0ms\n",
      "Speed: 0.9ms preprocess, 180.0ms inference, 1.8ms postprocess per image at shape (1, 3, 480, 640)\n",
      "\n"
     ]
    },
    {
     "name": "stdout",
     "output_type": "stream",
     "text": [
      "Confidence ---> 0.58\n",
      "Class name --> motorbike\n",
      "Confidence ---> 0.44\n",
      "Class name --> motorbike\n",
      "Confidence ---> 0.3\n",
      "Class name --> motorbike\n"
     ]
    },
    {
     "name": "stderr",
     "output_type": "stream",
     "text": [
      "0: 480x640 2 persons, 182.3ms\n",
      "Speed: 1.0ms preprocess, 182.3ms inference, 0.7ms postprocess per image at shape (1, 3, 480, 640)\n",
      "\n"
     ]
    },
    {
     "name": "stdout",
     "output_type": "stream",
     "text": [
      "Confidence ---> 0.54\n",
      "Class name --> motorbike\n",
      "Confidence ---> 0.52\n",
      "Class name --> motorbike\n"
     ]
    },
    {
     "name": "stderr",
     "output_type": "stream",
     "text": [
      "0: 480x640 4 persons, 181.8ms\n",
      "Speed: 1.1ms preprocess, 181.8ms inference, 0.8ms postprocess per image at shape (1, 3, 480, 640)\n",
      "\n"
     ]
    },
    {
     "name": "stdout",
     "output_type": "stream",
     "text": [
      "Confidence ---> 0.61\n",
      "Class name --> motorbike\n",
      "Confidence ---> 0.43\n",
      "Class name --> motorbike\n",
      "Confidence ---> 0.4\n",
      "Class name --> motorbike\n",
      "Confidence ---> 0.28\n",
      "Class name --> motorbike\n"
     ]
    },
    {
     "name": "stderr",
     "output_type": "stream",
     "text": [
      "0: 480x640 3 persons, 177.3ms\n",
      "Speed: 0.9ms preprocess, 177.3ms inference, 0.6ms postprocess per image at shape (1, 3, 480, 640)\n",
      "\n"
     ]
    },
    {
     "name": "stdout",
     "output_type": "stream",
     "text": [
      "Confidence ---> 0.55\n",
      "Class name --> motorbike\n",
      "Confidence ---> 0.5\n",
      "Class name --> motorbike\n",
      "Confidence ---> 0.42\n",
      "Class name --> motorbike\n",
      "Confidence ---> 0.6\n",
      "Class name --> motorbike\n",
      "Confidence ---> 0.5\n",
      "Class name --> motorbike\n"
     ]
    },
    {
     "name": "stderr",
     "output_type": "stream",
     "text": [
      "0: 480x640 2 persons, 178.3ms\n",
      "Speed: 0.9ms preprocess, 178.3ms inference, 0.7ms postprocess per image at shape (1, 3, 480, 640)\n",
      "\n",
      "0: 480x640 2 persons, 177.2ms\n",
      "Speed: 1.0ms preprocess, 177.2ms inference, 0.7ms postprocess per image at shape (1, 3, 480, 640)\n"
     ]
    },
    {
     "name": "stdout",
     "output_type": "stream",
     "text": [
      "Confidence ---> 0.66\n",
      "Class name --> motorbike\n",
      "Confidence ---> 0.54\n",
      "Class name --> motorbike\n"
     ]
    }
   ],
   "source": [
    "### if you run this code it'll open your webcam and start tracking the pre-trained objects from yolov8\n",
    "\n",
    "from ultralytics import YOLO\n",
    "import cv2\n",
    "import math \n",
    "# start webcam\n",
    "cap = cv2.VideoCapture(0)\n",
    "cap.set(3, 640)\n",
    "cap.set(4, 480)\n",
    "\n",
    "# model\n",
    "model = YOLO(\"yolo-Weights/yolov8n.pt\")\n",
    "\n",
    "# object classes\n",
    "classNames = [\"person\", \"bicycle\", \"car\", \"motorbike\", \"aeroplane\", \"bus\", \"train\", \"truck\", \"boat\",\n",
    "              \"traffic light\", \"fire hydrant\", \"stop sign\", \"parking meter\", \"bench\", \"bird\", \"cat\",\n",
    "              \"dog\", \"horse\", \"sheep\", \"cow\", \"elephant\", \"bear\", \"zebra\", \"giraffe\", \"backpack\", \"umbrella\",\n",
    "              \"handbag\", \"tie\", \"suitcase\", \"frisbee\", \"skis\", \"snowboard\", \"sports ball\", \"kite\", \"baseball bat\",\n",
    "              \"baseball glove\", \"skateboard\", \"surfboard\", \"tennis racket\", \"bottle\", \"wine glass\", \"cup\",\n",
    "              \"fork\", \"knife\", \"spoon\", \"bowl\", \"banana\", \"apple\", \"sandwich\", \"orange\", \"broccoli\",\n",
    "              \"carrot\", \"hot dog\", \"pizza\", \"donut\", \"cake\", \"chair\", \"sofa\", \"pottedplant\", \"bed\",\n",
    "              \"diningtable\", \"toilet\", \"tvmonitor\", \"laptop\", \"mouse\", \"remote\", \"keyboard\", \"cell phone\",\n",
    "              \"microwave\", \"oven\", \"toaster\", \"sink\", \"refrigerator\", \"book\", \"clock\", \"vase\", \"scissors\",\n",
    "              \"teddy bear\", \"hair drier\", \"toothbrush\"]\n",
    "\n",
    "while True:\n",
    "    success, img = cap.read()\n",
    "    results = model(img, stream=True)\n",
    "\n",
    "    # coordinates\n",
    "    for r in results:\n",
    "        boxes = r.boxes\n",
    "\n",
    "        for box in boxes:\n",
    "            # bounding box\n",
    "            x1, y1, x2, y2 = box.xyxy[0]\n",
    "            x1, y1, x2, y2 = int(x1), int(y1), int(x2), int(y2) # convert to int values\n",
    "\n",
    "            # put box in cam\n",
    "            cv2.rectangle(img, (x1, y1), (x2, y2), (255, 0, 255), 3)\n",
    "\n",
    "            # confidence\n",
    "            confidence = math.ceil((box.conf[0]*100))/100\n",
    "            print(\"Confidence --->\",confidence)\n",
    "\n",
    "            # class name\n",
    "            cls = int(box.cls[0])\n",
    "            print(\"Class name -->\", classNames[cls])\n",
    "\n",
    "            # object details\n",
    "            org = [x1, y1]\n",
    "            font = cv2.FONT_HERSHEY_SIMPLEX\n",
    "            fontScale = 1\n",
    "            color = (255, 0, 0)\n",
    "            thickness = 2\n",
    "\n",
    "            cv2.putText(img, classNames[cls], org, font, fontScale, color, thickness)\n",
    "\n",
    "    cv2.imshow('Webcam', img)\n",
    "    if cv2.waitKey(1) == ord('q'):\n",
    "        break\n",
    "\n",
    "cap.release()\n",
    "cv2.destroyAllWindows()\n",
    "for i in range (1,5):\n",
    "    cv2.waitKey(1)"
   ]
  },
  {
   "cell_type": "code",
   "execution_count": 6,
   "id": "a0441e75",
   "metadata": {},
   "outputs": [
    {
     "name": "stderr",
     "output_type": "stream",
     "text": [
      "\n",
      "0: 480x640 (no detections), 256.1ms\n",
      "Speed: 2.9ms preprocess, 256.1ms inference, 0.7ms postprocess per image at shape (1, 3, 480, 640)\n",
      "\n",
      "0: 480x640 1 ball, 1 person, 232.4ms\n",
      "Speed: 1.0ms preprocess, 232.4ms inference, 2.5ms postprocess per image at shape (1, 3, 480, 640)\n",
      "\n"
     ]
    },
    {
     "name": "stdout",
     "output_type": "stream",
     "text": [
      "Confidence ---> 0.86\n",
      "Class name --> car\n",
      "Confidence ---> 0.6\n",
      "Class name --> aeroplane\n"
     ]
    },
    {
     "name": "stderr",
     "output_type": "stream",
     "text": [
      "0: 480x640 2 balls, 2 persons, 213.6ms\n",
      "Speed: 1.2ms preprocess, 213.6ms inference, 1.0ms postprocess per image at shape (1, 3, 480, 640)\n",
      "\n"
     ]
    },
    {
     "name": "stdout",
     "output_type": "stream",
     "text": [
      "Confidence ---> 0.6\n",
      "Class name --> aeroplane\n",
      "Confidence ---> 0.39\n",
      "Class name --> car\n",
      "Confidence ---> 0.28\n",
      "Class name --> car\n",
      "Confidence ---> 0.27\n",
      "Class name --> aeroplane\n"
     ]
    },
    {
     "name": "stderr",
     "output_type": "stream",
     "text": [
      "0: 480x640 1 person, 214.3ms\n",
      "Speed: 1.0ms preprocess, 214.3ms inference, 0.9ms postprocess per image at shape (1, 3, 480, 640)\n",
      "\n"
     ]
    },
    {
     "name": "stdout",
     "output_type": "stream",
     "text": [
      "Confidence ---> 0.81\n",
      "Class name --> aeroplane\n"
     ]
    },
    {
     "name": "stderr",
     "output_type": "stream",
     "text": [
      "0: 480x640 1 person, 215.5ms\n",
      "Speed: 0.9ms preprocess, 215.5ms inference, 0.9ms postprocess per image at shape (1, 3, 480, 640)\n",
      "\n"
     ]
    },
    {
     "name": "stdout",
     "output_type": "stream",
     "text": [
      "Confidence ---> 0.74\n",
      "Class name --> aeroplane\n"
     ]
    },
    {
     "name": "stderr",
     "output_type": "stream",
     "text": [
      "0: 480x640 1 person, 213.0ms\n",
      "Speed: 1.0ms preprocess, 213.0ms inference, 0.7ms postprocess per image at shape (1, 3, 480, 640)\n",
      "\n"
     ]
    },
    {
     "name": "stdout",
     "output_type": "stream",
     "text": [
      "Confidence ---> 0.75\n",
      "Class name --> aeroplane\n"
     ]
    },
    {
     "name": "stderr",
     "output_type": "stream",
     "text": [
      "0: 480x640 1 person, 210.0ms\n",
      "Speed: 1.0ms preprocess, 210.0ms inference, 0.9ms postprocess per image at shape (1, 3, 480, 640)\n",
      "\n"
     ]
    },
    {
     "name": "stdout",
     "output_type": "stream",
     "text": [
      "Confidence ---> 0.66\n",
      "Class name --> aeroplane\n"
     ]
    },
    {
     "name": "stderr",
     "output_type": "stream",
     "text": [
      "0: 480x640 1 person, 212.2ms\n",
      "Speed: 1.1ms preprocess, 212.2ms inference, 0.7ms postprocess per image at shape (1, 3, 480, 640)\n",
      "\n"
     ]
    },
    {
     "name": "stdout",
     "output_type": "stream",
     "text": [
      "Confidence ---> 0.7\n",
      "Class name --> aeroplane\n"
     ]
    },
    {
     "name": "stderr",
     "output_type": "stream",
     "text": [
      "0: 480x640 1 ball, 1 person, 209.2ms\n",
      "Speed: 1.1ms preprocess, 209.2ms inference, 0.8ms postprocess per image at shape (1, 3, 480, 640)\n",
      "\n"
     ]
    },
    {
     "name": "stdout",
     "output_type": "stream",
     "text": [
      "Confidence ---> 0.72\n",
      "Class name --> aeroplane\n",
      "Confidence ---> 0.26\n",
      "Class name --> car\n"
     ]
    },
    {
     "name": "stderr",
     "output_type": "stream",
     "text": [
      "0: 480x640 1 person, 210.9ms\n",
      "Speed: 1.0ms preprocess, 210.9ms inference, 0.7ms postprocess per image at shape (1, 3, 480, 640)\n",
      "\n"
     ]
    },
    {
     "name": "stdout",
     "output_type": "stream",
     "text": [
      "Confidence ---> 0.76\n",
      "Class name --> aeroplane\n"
     ]
    },
    {
     "name": "stderr",
     "output_type": "stream",
     "text": [
      "0: 480x640 1 person, 209.1ms\n",
      "Speed: 1.0ms preprocess, 209.1ms inference, 0.7ms postprocess per image at shape (1, 3, 480, 640)\n",
      "\n"
     ]
    },
    {
     "name": "stdout",
     "output_type": "stream",
     "text": [
      "Confidence ---> 0.8\n",
      "Class name --> aeroplane\n"
     ]
    },
    {
     "name": "stderr",
     "output_type": "stream",
     "text": [
      "0: 480x640 1 person, 208.3ms\n",
      "Speed: 1.0ms preprocess, 208.3ms inference, 0.7ms postprocess per image at shape (1, 3, 480, 640)\n",
      "\n"
     ]
    },
    {
     "name": "stdout",
     "output_type": "stream",
     "text": [
      "Confidence ---> 0.81\n",
      "Class name --> aeroplane\n"
     ]
    },
    {
     "name": "stderr",
     "output_type": "stream",
     "text": [
      "0: 480x640 1 person, 210.9ms\n",
      "Speed: 1.0ms preprocess, 210.9ms inference, 0.9ms postprocess per image at shape (1, 3, 480, 640)\n",
      "\n"
     ]
    },
    {
     "name": "stdout",
     "output_type": "stream",
     "text": [
      "Confidence ---> 0.8\n",
      "Class name --> aeroplane\n"
     ]
    },
    {
     "name": "stderr",
     "output_type": "stream",
     "text": [
      "0: 480x640 1 person, 210.9ms\n",
      "Speed: 1.0ms preprocess, 210.9ms inference, 0.9ms postprocess per image at shape (1, 3, 480, 640)\n",
      "\n"
     ]
    },
    {
     "name": "stdout",
     "output_type": "stream",
     "text": [
      "Confidence ---> 0.79\n",
      "Class name --> aeroplane\n"
     ]
    },
    {
     "name": "stderr",
     "output_type": "stream",
     "text": [
      "0: 480x640 1 person, 210.4ms\n",
      "Speed: 1.0ms preprocess, 210.4ms inference, 0.9ms postprocess per image at shape (1, 3, 480, 640)\n",
      "\n"
     ]
    },
    {
     "name": "stdout",
     "output_type": "stream",
     "text": [
      "Confidence ---> 0.78\n",
      "Class name --> aeroplane\n"
     ]
    },
    {
     "name": "stderr",
     "output_type": "stream",
     "text": [
      "0: 480x640 1 person, 212.7ms\n",
      "Speed: 1.0ms preprocess, 212.7ms inference, 0.9ms postprocess per image at shape (1, 3, 480, 640)\n",
      "\n"
     ]
    },
    {
     "name": "stdout",
     "output_type": "stream",
     "text": [
      "Confidence ---> 0.74\n",
      "Class name --> aeroplane\n"
     ]
    },
    {
     "name": "stderr",
     "output_type": "stream",
     "text": [
      "0: 480x640 1 person, 212.2ms\n",
      "Speed: 1.0ms preprocess, 212.2ms inference, 0.9ms postprocess per image at shape (1, 3, 480, 640)\n",
      "\n"
     ]
    },
    {
     "name": "stdout",
     "output_type": "stream",
     "text": [
      "Confidence ---> 0.74\n",
      "Class name --> aeroplane\n"
     ]
    },
    {
     "name": "stderr",
     "output_type": "stream",
     "text": [
      "0: 480x640 1 person, 211.4ms\n",
      "Speed: 1.2ms preprocess, 211.4ms inference, 0.9ms postprocess per image at shape (1, 3, 480, 640)\n",
      "\n"
     ]
    },
    {
     "name": "stdout",
     "output_type": "stream",
     "text": [
      "Confidence ---> 0.71\n",
      "Class name --> aeroplane\n"
     ]
    },
    {
     "name": "stderr",
     "output_type": "stream",
     "text": [
      "0: 480x640 1 person, 214.4ms\n",
      "Speed: 0.9ms preprocess, 214.4ms inference, 0.9ms postprocess per image at shape (1, 3, 480, 640)\n",
      "\n"
     ]
    },
    {
     "name": "stdout",
     "output_type": "stream",
     "text": [
      "Confidence ---> 0.73\n",
      "Class name --> aeroplane\n"
     ]
    },
    {
     "name": "stderr",
     "output_type": "stream",
     "text": [
      "0: 480x640 1 person, 209.8ms\n",
      "Speed: 1.0ms preprocess, 209.8ms inference, 0.8ms postprocess per image at shape (1, 3, 480, 640)\n",
      "\n"
     ]
    },
    {
     "name": "stdout",
     "output_type": "stream",
     "text": [
      "Confidence ---> 0.7\n",
      "Class name --> aeroplane\n"
     ]
    },
    {
     "name": "stderr",
     "output_type": "stream",
     "text": [
      "0: 480x640 1 person, 209.9ms\n",
      "Speed: 1.1ms preprocess, 209.9ms inference, 0.8ms postprocess per image at shape (1, 3, 480, 640)\n",
      "\n"
     ]
    },
    {
     "name": "stdout",
     "output_type": "stream",
     "text": [
      "Confidence ---> 0.73\n",
      "Class name --> aeroplane\n"
     ]
    },
    {
     "name": "stderr",
     "output_type": "stream",
     "text": [
      "0: 480x640 1 person, 210.8ms\n",
      "Speed: 0.9ms preprocess, 210.8ms inference, 0.8ms postprocess per image at shape (1, 3, 480, 640)\n",
      "\n"
     ]
    },
    {
     "name": "stdout",
     "output_type": "stream",
     "text": [
      "Confidence ---> 0.69\n",
      "Class name --> aeroplane\n"
     ]
    },
    {
     "name": "stderr",
     "output_type": "stream",
     "text": [
      "0: 480x640 1 person, 207.4ms\n",
      "Speed: 1.0ms preprocess, 207.4ms inference, 0.9ms postprocess per image at shape (1, 3, 480, 640)\n",
      "\n"
     ]
    },
    {
     "name": "stdout",
     "output_type": "stream",
     "text": [
      "Confidence ---> 0.73\n",
      "Class name --> aeroplane\n"
     ]
    },
    {
     "name": "stderr",
     "output_type": "stream",
     "text": [
      "0: 480x640 1 person, 208.1ms\n",
      "Speed: 1.0ms preprocess, 208.1ms inference, 0.7ms postprocess per image at shape (1, 3, 480, 640)\n",
      "\n"
     ]
    },
    {
     "name": "stdout",
     "output_type": "stream",
     "text": [
      "Confidence ---> 0.68\n",
      "Class name --> aeroplane\n"
     ]
    },
    {
     "name": "stderr",
     "output_type": "stream",
     "text": [
      "0: 480x640 1 person, 208.3ms\n",
      "Speed: 1.0ms preprocess, 208.3ms inference, 0.9ms postprocess per image at shape (1, 3, 480, 640)\n",
      "\n"
     ]
    },
    {
     "name": "stdout",
     "output_type": "stream",
     "text": [
      "Confidence ---> 0.64\n",
      "Class name --> aeroplane\n"
     ]
    },
    {
     "name": "stderr",
     "output_type": "stream",
     "text": [
      "0: 480x640 2 persons, 208.3ms\n",
      "Speed: 0.9ms preprocess, 208.3ms inference, 0.7ms postprocess per image at shape (1, 3, 480, 640)\n",
      "\n"
     ]
    },
    {
     "name": "stdout",
     "output_type": "stream",
     "text": [
      "Confidence ---> 0.67\n",
      "Class name --> aeroplane\n",
      "Confidence ---> 0.46\n",
      "Class name --> aeroplane\n"
     ]
    },
    {
     "name": "stderr",
     "output_type": "stream",
     "text": [
      "0: 480x640 1 person, 207.7ms\n",
      "Speed: 1.0ms preprocess, 207.7ms inference, 0.8ms postprocess per image at shape (1, 3, 480, 640)\n",
      "\n"
     ]
    },
    {
     "name": "stdout",
     "output_type": "stream",
     "text": [
      "Confidence ---> 0.71\n",
      "Class name --> aeroplane\n"
     ]
    },
    {
     "name": "stderr",
     "output_type": "stream",
     "text": [
      "0: 480x640 1 person, 207.5ms\n",
      "Speed: 1.0ms preprocess, 207.5ms inference, 0.8ms postprocess per image at shape (1, 3, 480, 640)\n",
      "\n"
     ]
    },
    {
     "name": "stdout",
     "output_type": "stream",
     "text": [
      "Confidence ---> 0.66\n",
      "Class name --> aeroplane\n"
     ]
    },
    {
     "name": "stderr",
     "output_type": "stream",
     "text": [
      "0: 480x640 1 person, 207.3ms\n",
      "Speed: 1.0ms preprocess, 207.3ms inference, 0.7ms postprocess per image at shape (1, 3, 480, 640)\n",
      "\n"
     ]
    },
    {
     "name": "stdout",
     "output_type": "stream",
     "text": [
      "Confidence ---> 0.63\n",
      "Class name --> aeroplane\n"
     ]
    },
    {
     "name": "stderr",
     "output_type": "stream",
     "text": [
      "0: 480x640 1 person, 207.7ms\n",
      "Speed: 1.0ms preprocess, 207.7ms inference, 0.8ms postprocess per image at shape (1, 3, 480, 640)\n",
      "\n"
     ]
    },
    {
     "name": "stdout",
     "output_type": "stream",
     "text": [
      "Confidence ---> 0.63\n",
      "Class name --> aeroplane\n"
     ]
    },
    {
     "name": "stderr",
     "output_type": "stream",
     "text": [
      "0: 480x640 1 person, 207.5ms\n",
      "Speed: 0.9ms preprocess, 207.5ms inference, 0.8ms postprocess per image at shape (1, 3, 480, 640)\n",
      "\n"
     ]
    },
    {
     "name": "stdout",
     "output_type": "stream",
     "text": [
      "Confidence ---> 0.58\n",
      "Class name --> aeroplane\n"
     ]
    },
    {
     "name": "stderr",
     "output_type": "stream",
     "text": [
      "0: 480x640 1 person, 208.5ms\n",
      "Speed: 1.0ms preprocess, 208.5ms inference, 0.7ms postprocess per image at shape (1, 3, 480, 640)\n",
      "\n"
     ]
    },
    {
     "name": "stdout",
     "output_type": "stream",
     "text": [
      "Confidence ---> 0.63\n",
      "Class name --> aeroplane\n"
     ]
    },
    {
     "name": "stderr",
     "output_type": "stream",
     "text": [
      "0: 480x640 1 person, 207.5ms\n",
      "Speed: 1.0ms preprocess, 207.5ms inference, 0.9ms postprocess per image at shape (1, 3, 480, 640)\n",
      "\n"
     ]
    },
    {
     "name": "stdout",
     "output_type": "stream",
     "text": [
      "Confidence ---> 0.58\n",
      "Class name --> aeroplane\n"
     ]
    },
    {
     "name": "stderr",
     "output_type": "stream",
     "text": [
      "0: 480x640 2 persons, 208.2ms\n",
      "Speed: 0.9ms preprocess, 208.2ms inference, 0.8ms postprocess per image at shape (1, 3, 480, 640)\n",
      "\n"
     ]
    },
    {
     "name": "stdout",
     "output_type": "stream",
     "text": [
      "Confidence ---> 0.52\n",
      "Class name --> aeroplane\n",
      "Confidence ---> 0.43\n",
      "Class name --> aeroplane\n"
     ]
    },
    {
     "name": "stderr",
     "output_type": "stream",
     "text": [
      "0: 480x640 1 person, 207.7ms\n",
      "Speed: 1.0ms preprocess, 207.7ms inference, 0.8ms postprocess per image at shape (1, 3, 480, 640)\n",
      "\n"
     ]
    },
    {
     "name": "stdout",
     "output_type": "stream",
     "text": [
      "Confidence ---> 0.6\n",
      "Class name --> aeroplane\n"
     ]
    },
    {
     "name": "stderr",
     "output_type": "stream",
     "text": [
      "0: 480x640 1 person, 207.4ms\n",
      "Speed: 1.0ms preprocess, 207.4ms inference, 0.8ms postprocess per image at shape (1, 3, 480, 640)\n",
      "\n"
     ]
    },
    {
     "name": "stdout",
     "output_type": "stream",
     "text": [
      "Confidence ---> 0.7\n",
      "Class name --> aeroplane\n"
     ]
    },
    {
     "name": "stderr",
     "output_type": "stream",
     "text": [
      "0: 480x640 1 person, 207.9ms\n",
      "Speed: 1.0ms preprocess, 207.9ms inference, 0.7ms postprocess per image at shape (1, 3, 480, 640)\n",
      "\n"
     ]
    },
    {
     "name": "stdout",
     "output_type": "stream",
     "text": [
      "Confidence ---> 0.7\n",
      "Class name --> aeroplane\n"
     ]
    },
    {
     "name": "stderr",
     "output_type": "stream",
     "text": [
      "0: 480x640 1 person, 210.5ms\n",
      "Speed: 1.0ms preprocess, 210.5ms inference, 0.7ms postprocess per image at shape (1, 3, 480, 640)\n",
      "\n"
     ]
    },
    {
     "name": "stdout",
     "output_type": "stream",
     "text": [
      "Confidence ---> 0.75\n",
      "Class name --> aeroplane\n"
     ]
    },
    {
     "name": "stderr",
     "output_type": "stream",
     "text": [
      "0: 480x640 1 person, 209.6ms\n",
      "Speed: 1.0ms preprocess, 209.6ms inference, 0.9ms postprocess per image at shape (1, 3, 480, 640)\n",
      "\n"
     ]
    },
    {
     "name": "stdout",
     "output_type": "stream",
     "text": [
      "Confidence ---> 0.72\n",
      "Class name --> aeroplane\n"
     ]
    },
    {
     "name": "stderr",
     "output_type": "stream",
     "text": [
      "0: 480x640 1 person, 207.3ms\n",
      "Speed: 0.9ms preprocess, 207.3ms inference, 0.9ms postprocess per image at shape (1, 3, 480, 640)\n",
      "\n"
     ]
    },
    {
     "name": "stdout",
     "output_type": "stream",
     "text": [
      "Confidence ---> 0.71\n",
      "Class name --> aeroplane\n"
     ]
    },
    {
     "name": "stderr",
     "output_type": "stream",
     "text": [
      "0: 480x640 2 persons, 208.2ms\n",
      "Speed: 0.9ms preprocess, 208.2ms inference, 0.7ms postprocess per image at shape (1, 3, 480, 640)\n",
      "\n"
     ]
    },
    {
     "name": "stdout",
     "output_type": "stream",
     "text": [
      "Confidence ---> 0.62\n",
      "Class name --> aeroplane\n",
      "Confidence ---> 0.54\n",
      "Class name --> aeroplane\n"
     ]
    },
    {
     "name": "stderr",
     "output_type": "stream",
     "text": [
      "0: 480x640 2 persons, 209.4ms\n",
      "Speed: 0.9ms preprocess, 209.4ms inference, 0.7ms postprocess per image at shape (1, 3, 480, 640)\n",
      "\n"
     ]
    },
    {
     "name": "stdout",
     "output_type": "stream",
     "text": [
      "Confidence ---> 0.58\n",
      "Class name --> aeroplane\n",
      "Confidence ---> 0.52\n",
      "Class name --> aeroplane\n"
     ]
    },
    {
     "name": "stderr",
     "output_type": "stream",
     "text": [
      "0: 480x640 2 persons, 210.8ms\n",
      "Speed: 1.0ms preprocess, 210.8ms inference, 0.7ms postprocess per image at shape (1, 3, 480, 640)\n",
      "\n"
     ]
    },
    {
     "name": "stdout",
     "output_type": "stream",
     "text": [
      "Confidence ---> 0.61\n",
      "Class name --> aeroplane\n",
      "Confidence ---> 0.51\n",
      "Class name --> aeroplane\n"
     ]
    },
    {
     "name": "stderr",
     "output_type": "stream",
     "text": [
      "0: 480x640 2 persons, 210.8ms\n",
      "Speed: 1.1ms preprocess, 210.8ms inference, 0.8ms postprocess per image at shape (1, 3, 480, 640)\n",
      "\n"
     ]
    },
    {
     "name": "stdout",
     "output_type": "stream",
     "text": [
      "Confidence ---> 0.66\n",
      "Class name --> aeroplane\n",
      "Confidence ---> 0.52\n",
      "Class name --> aeroplane\n"
     ]
    },
    {
     "name": "stderr",
     "output_type": "stream",
     "text": [
      "0: 480x640 1 person, 210.8ms\n",
      "Speed: 1.0ms preprocess, 210.8ms inference, 0.9ms postprocess per image at shape (1, 3, 480, 640)\n",
      "\n"
     ]
    },
    {
     "name": "stdout",
     "output_type": "stream",
     "text": [
      "Confidence ---> 0.65\n",
      "Class name --> aeroplane\n"
     ]
    },
    {
     "name": "stderr",
     "output_type": "stream",
     "text": [
      "0: 480x640 1 person, 209.2ms\n",
      "Speed: 1.0ms preprocess, 209.2ms inference, 0.8ms postprocess per image at shape (1, 3, 480, 640)\n",
      "\n"
     ]
    },
    {
     "name": "stdout",
     "output_type": "stream",
     "text": [
      "Confidence ---> 0.73\n",
      "Class name --> aeroplane\n"
     ]
    },
    {
     "name": "stderr",
     "output_type": "stream",
     "text": [
      "0: 480x640 2 persons, 227.9ms\n",
      "Speed: 1.1ms preprocess, 227.9ms inference, 1.1ms postprocess per image at shape (1, 3, 480, 640)\n",
      "\n"
     ]
    },
    {
     "name": "stdout",
     "output_type": "stream",
     "text": [
      "Confidence ---> 0.74\n",
      "Class name --> aeroplane\n",
      "Confidence ---> 0.33\n",
      "Class name --> aeroplane\n"
     ]
    },
    {
     "name": "stderr",
     "output_type": "stream",
     "text": [
      "0: 480x640 2 persons, 218.5ms\n",
      "Speed: 1.1ms preprocess, 218.5ms inference, 0.8ms postprocess per image at shape (1, 3, 480, 640)\n",
      "\n"
     ]
    },
    {
     "name": "stdout",
     "output_type": "stream",
     "text": [
      "Confidence ---> 0.78\n",
      "Class name --> aeroplane\n",
      "Confidence ---> 0.66\n",
      "Class name --> aeroplane\n"
     ]
    },
    {
     "name": "stderr",
     "output_type": "stream",
     "text": [
      "0: 480x640 2 persons, 216.3ms\n",
      "Speed: 1.1ms preprocess, 216.3ms inference, 0.9ms postprocess per image at shape (1, 3, 480, 640)\n",
      "\n"
     ]
    },
    {
     "name": "stdout",
     "output_type": "stream",
     "text": [
      "Confidence ---> 0.73\n",
      "Class name --> aeroplane\n",
      "Confidence ---> 0.37\n",
      "Class name --> aeroplane\n"
     ]
    },
    {
     "name": "stderr",
     "output_type": "stream",
     "text": [
      "0: 480x640 1 person, 211.8ms\n",
      "Speed: 0.9ms preprocess, 211.8ms inference, 0.9ms postprocess per image at shape (1, 3, 480, 640)\n",
      "\n"
     ]
    },
    {
     "name": "stdout",
     "output_type": "stream",
     "text": [
      "Confidence ---> 0.73\n",
      "Class name --> aeroplane\n"
     ]
    },
    {
     "name": "stderr",
     "output_type": "stream",
     "text": [
      "0: 480x640 1 person, 226.7ms\n",
      "Speed: 1.1ms preprocess, 226.7ms inference, 1.0ms postprocess per image at shape (1, 3, 480, 640)\n",
      "\n"
     ]
    },
    {
     "name": "stdout",
     "output_type": "stream",
     "text": [
      "Confidence ---> 0.73\n",
      "Class name --> aeroplane\n"
     ]
    },
    {
     "name": "stderr",
     "output_type": "stream",
     "text": [
      "0: 480x640 1 person, 216.7ms\n",
      "Speed: 1.0ms preprocess, 216.7ms inference, 0.8ms postprocess per image at shape (1, 3, 480, 640)\n",
      "\n"
     ]
    },
    {
     "name": "stdout",
     "output_type": "stream",
     "text": [
      "Confidence ---> 0.78\n",
      "Class name --> aeroplane\n"
     ]
    },
    {
     "name": "stderr",
     "output_type": "stream",
     "text": [
      "0: 480x640 1 person, 209.2ms\n",
      "Speed: 1.0ms preprocess, 209.2ms inference, 0.8ms postprocess per image at shape (1, 3, 480, 640)\n",
      "\n"
     ]
    },
    {
     "name": "stdout",
     "output_type": "stream",
     "text": [
      "Confidence ---> 0.8\n",
      "Class name --> aeroplane\n"
     ]
    },
    {
     "name": "stderr",
     "output_type": "stream",
     "text": [
      "0: 480x640 2 persons, 210.4ms\n",
      "Speed: 0.9ms preprocess, 210.4ms inference, 1.0ms postprocess per image at shape (1, 3, 480, 640)\n",
      "\n"
     ]
    },
    {
     "name": "stdout",
     "output_type": "stream",
     "text": [
      "Confidence ---> 0.76\n",
      "Class name --> aeroplane\n",
      "Confidence ---> 0.35\n",
      "Class name --> aeroplane\n"
     ]
    },
    {
     "name": "stderr",
     "output_type": "stream",
     "text": [
      "0: 480x640 2 persons, 214.2ms\n",
      "Speed: 1.0ms preprocess, 214.2ms inference, 0.8ms postprocess per image at shape (1, 3, 480, 640)\n",
      "\n"
     ]
    },
    {
     "name": "stdout",
     "output_type": "stream",
     "text": [
      "Confidence ---> 0.68\n",
      "Class name --> aeroplane\n",
      "Confidence ---> 0.55\n",
      "Class name --> aeroplane\n"
     ]
    },
    {
     "name": "stderr",
     "output_type": "stream",
     "text": [
      "0: 480x640 1 person, 211.5ms\n",
      "Speed: 1.0ms preprocess, 211.5ms inference, 0.8ms postprocess per image at shape (1, 3, 480, 640)\n",
      "\n"
     ]
    },
    {
     "name": "stdout",
     "output_type": "stream",
     "text": [
      "Confidence ---> 0.77\n",
      "Class name --> aeroplane\n"
     ]
    },
    {
     "name": "stderr",
     "output_type": "stream",
     "text": [
      "0: 480x640 1 person, 210.7ms\n",
      "Speed: 1.0ms preprocess, 210.7ms inference, 0.9ms postprocess per image at shape (1, 3, 480, 640)\n",
      "\n"
     ]
    },
    {
     "name": "stdout",
     "output_type": "stream",
     "text": [
      "Confidence ---> 0.75\n",
      "Class name --> aeroplane\n"
     ]
    },
    {
     "name": "stderr",
     "output_type": "stream",
     "text": [
      "0: 480x640 1 person, 214.9ms\n",
      "Speed: 1.1ms preprocess, 214.9ms inference, 0.9ms postprocess per image at shape (1, 3, 480, 640)\n",
      "\n"
     ]
    },
    {
     "name": "stdout",
     "output_type": "stream",
     "text": [
      "Confidence ---> 0.73\n",
      "Class name --> aeroplane\n"
     ]
    },
    {
     "name": "stderr",
     "output_type": "stream",
     "text": [
      "0: 480x640 1 person, 251.5ms\n",
      "Speed: 1.0ms preprocess, 251.5ms inference, 1.3ms postprocess per image at shape (1, 3, 480, 640)\n",
      "\n"
     ]
    },
    {
     "name": "stdout",
     "output_type": "stream",
     "text": [
      "Confidence ---> 0.79\n",
      "Class name --> aeroplane\n"
     ]
    },
    {
     "name": "stderr",
     "output_type": "stream",
     "text": [
      "0: 480x640 1 person, 219.1ms\n",
      "Speed: 1.6ms preprocess, 219.1ms inference, 0.7ms postprocess per image at shape (1, 3, 480, 640)\n",
      "\n"
     ]
    },
    {
     "name": "stdout",
     "output_type": "stream",
     "text": [
      "Confidence ---> 0.82\n",
      "Class name --> aeroplane\n"
     ]
    },
    {
     "name": "stderr",
     "output_type": "stream",
     "text": [
      "0: 480x640 1 person, 214.0ms\n",
      "Speed: 1.0ms preprocess, 214.0ms inference, 0.8ms postprocess per image at shape (1, 3, 480, 640)\n",
      "\n"
     ]
    },
    {
     "name": "stdout",
     "output_type": "stream",
     "text": [
      "Confidence ---> 0.82\n",
      "Class name --> aeroplane\n"
     ]
    },
    {
     "name": "stderr",
     "output_type": "stream",
     "text": [
      "0: 480x640 1 person, 209.9ms\n",
      "Speed: 1.0ms preprocess, 209.9ms inference, 0.9ms postprocess per image at shape (1, 3, 480, 640)\n",
      "\n"
     ]
    },
    {
     "name": "stdout",
     "output_type": "stream",
     "text": [
      "Confidence ---> 0.8\n",
      "Class name --> aeroplane\n"
     ]
    },
    {
     "name": "stderr",
     "output_type": "stream",
     "text": [
      "0: 480x640 1 person, 214.6ms\n",
      "Speed: 1.0ms preprocess, 214.6ms inference, 0.9ms postprocess per image at shape (1, 3, 480, 640)\n",
      "\n"
     ]
    },
    {
     "name": "stdout",
     "output_type": "stream",
     "text": [
      "Confidence ---> 0.78\n",
      "Class name --> aeroplane\n"
     ]
    },
    {
     "name": "stderr",
     "output_type": "stream",
     "text": [
      "0: 480x640 1 person, 213.5ms\n",
      "Speed: 0.9ms preprocess, 213.5ms inference, 0.8ms postprocess per image at shape (1, 3, 480, 640)\n",
      "\n"
     ]
    },
    {
     "name": "stdout",
     "output_type": "stream",
     "text": [
      "Confidence ---> 0.74\n",
      "Class name --> aeroplane\n"
     ]
    },
    {
     "name": "stderr",
     "output_type": "stream",
     "text": [
      "0: 480x640 2 persons, 211.3ms\n",
      "Speed: 1.0ms preprocess, 211.3ms inference, 1.4ms postprocess per image at shape (1, 3, 480, 640)\n",
      "\n"
     ]
    },
    {
     "name": "stdout",
     "output_type": "stream",
     "text": [
      "Confidence ---> 0.67\n",
      "Class name --> aeroplane\n",
      "Confidence ---> 0.39\n",
      "Class name --> aeroplane\n"
     ]
    },
    {
     "name": "stderr",
     "output_type": "stream",
     "text": [
      "0: 480x640 1 person, 215.1ms\n",
      "Speed: 1.0ms preprocess, 215.1ms inference, 0.9ms postprocess per image at shape (1, 3, 480, 640)\n",
      "\n"
     ]
    },
    {
     "name": "stdout",
     "output_type": "stream",
     "text": [
      "Confidence ---> 0.68\n",
      "Class name --> aeroplane\n"
     ]
    },
    {
     "name": "stderr",
     "output_type": "stream",
     "text": [
      "0: 480x640 1 person, 209.4ms\n",
      "Speed: 1.0ms preprocess, 209.4ms inference, 0.8ms postprocess per image at shape (1, 3, 480, 640)\n",
      "\n"
     ]
    },
    {
     "name": "stdout",
     "output_type": "stream",
     "text": [
      "Confidence ---> 0.69\n",
      "Class name --> aeroplane\n"
     ]
    },
    {
     "name": "stderr",
     "output_type": "stream",
     "text": [
      "0: 480x640 1 person, 210.9ms\n",
      "Speed: 1.0ms preprocess, 210.9ms inference, 0.7ms postprocess per image at shape (1, 3, 480, 640)\n",
      "\n"
     ]
    },
    {
     "name": "stdout",
     "output_type": "stream",
     "text": [
      "Confidence ---> 0.75\n",
      "Class name --> aeroplane\n"
     ]
    },
    {
     "name": "stderr",
     "output_type": "stream",
     "text": [
      "0: 480x640 2 persons, 208.1ms\n",
      "Speed: 1.0ms preprocess, 208.1ms inference, 0.9ms postprocess per image at shape (1, 3, 480, 640)\n",
      "\n"
     ]
    },
    {
     "name": "stdout",
     "output_type": "stream",
     "text": [
      "Confidence ---> 0.75\n",
      "Class name --> aeroplane\n",
      "Confidence ---> 0.43\n",
      "Class name --> aeroplane\n"
     ]
    },
    {
     "name": "stderr",
     "output_type": "stream",
     "text": [
      "0: 480x640 1 person, 208.0ms\n",
      "Speed: 1.0ms preprocess, 208.0ms inference, 0.8ms postprocess per image at shape (1, 3, 480, 640)\n",
      "\n"
     ]
    },
    {
     "name": "stdout",
     "output_type": "stream",
     "text": [
      "Confidence ---> 0.7\n",
      "Class name --> aeroplane\n"
     ]
    },
    {
     "name": "stderr",
     "output_type": "stream",
     "text": [
      "0: 480x640 1 person, 208.3ms\n",
      "Speed: 0.9ms preprocess, 208.3ms inference, 0.8ms postprocess per image at shape (1, 3, 480, 640)\n",
      "\n"
     ]
    },
    {
     "name": "stdout",
     "output_type": "stream",
     "text": [
      "Confidence ---> 0.65\n",
      "Class name --> aeroplane\n"
     ]
    },
    {
     "name": "stderr",
     "output_type": "stream",
     "text": [
      "0: 480x640 1 person, 207.8ms\n",
      "Speed: 1.0ms preprocess, 207.8ms inference, 0.8ms postprocess per image at shape (1, 3, 480, 640)\n",
      "\n"
     ]
    },
    {
     "name": "stdout",
     "output_type": "stream",
     "text": [
      "Confidence ---> 0.6\n",
      "Class name --> aeroplane\n"
     ]
    },
    {
     "name": "stderr",
     "output_type": "stream",
     "text": [
      "0: 480x640 1 ball, 1 person, 209.7ms\n",
      "Speed: 1.0ms preprocess, 209.7ms inference, 0.8ms postprocess per image at shape (1, 3, 480, 640)\n",
      "\n"
     ]
    },
    {
     "name": "stdout",
     "output_type": "stream",
     "text": [
      "Confidence ---> 0.67\n",
      "Class name --> aeroplane\n",
      "Confidence ---> 0.45\n",
      "Class name --> car\n"
     ]
    },
    {
     "name": "stderr",
     "output_type": "stream",
     "text": [
      "0: 480x640 2 persons, 210.5ms\n",
      "Speed: 1.0ms preprocess, 210.5ms inference, 0.9ms postprocess per image at shape (1, 3, 480, 640)\n",
      "\n"
     ]
    },
    {
     "name": "stdout",
     "output_type": "stream",
     "text": [
      "Confidence ---> 0.65\n",
      "Class name --> aeroplane\n",
      "Confidence ---> 0.31\n",
      "Class name --> aeroplane\n"
     ]
    },
    {
     "name": "stderr",
     "output_type": "stream",
     "text": [
      "0: 480x640 1 person, 208.5ms\n",
      "Speed: 1.0ms preprocess, 208.5ms inference, 0.9ms postprocess per image at shape (1, 3, 480, 640)\n",
      "\n"
     ]
    },
    {
     "name": "stdout",
     "output_type": "stream",
     "text": [
      "Confidence ---> 0.68\n",
      "Class name --> aeroplane\n"
     ]
    },
    {
     "name": "stderr",
     "output_type": "stream",
     "text": [
      "0: 480x640 1 person, 210.1ms\n",
      "Speed: 1.0ms preprocess, 210.1ms inference, 0.8ms postprocess per image at shape (1, 3, 480, 640)\n",
      "\n"
     ]
    },
    {
     "name": "stdout",
     "output_type": "stream",
     "text": [
      "Confidence ---> 0.74\n",
      "Class name --> aeroplane\n"
     ]
    },
    {
     "name": "stderr",
     "output_type": "stream",
     "text": [
      "0: 480x640 1 person, 216.5ms\n",
      "Speed: 1.0ms preprocess, 216.5ms inference, 0.9ms postprocess per image at shape (1, 3, 480, 640)\n",
      "\n"
     ]
    },
    {
     "name": "stdout",
     "output_type": "stream",
     "text": [
      "Confidence ---> 0.77\n",
      "Class name --> aeroplane\n"
     ]
    },
    {
     "name": "stderr",
     "output_type": "stream",
     "text": [
      "0: 480x640 1 person, 208.3ms\n",
      "Speed: 1.0ms preprocess, 208.3ms inference, 0.9ms postprocess per image at shape (1, 3, 480, 640)\n",
      "\n"
     ]
    },
    {
     "name": "stdout",
     "output_type": "stream",
     "text": [
      "Confidence ---> 0.82\n",
      "Class name --> aeroplane\n"
     ]
    },
    {
     "name": "stderr",
     "output_type": "stream",
     "text": [
      "0: 480x640 1 person, 218.1ms\n",
      "Speed: 1.0ms preprocess, 218.1ms inference, 0.8ms postprocess per image at shape (1, 3, 480, 640)\n",
      "\n"
     ]
    },
    {
     "name": "stdout",
     "output_type": "stream",
     "text": [
      "Confidence ---> 0.82\n",
      "Class name --> aeroplane\n"
     ]
    },
    {
     "name": "stderr",
     "output_type": "stream",
     "text": [
      "0: 480x640 1 person, 211.2ms\n",
      "Speed: 0.9ms preprocess, 211.2ms inference, 0.7ms postprocess per image at shape (1, 3, 480, 640)\n",
      "\n"
     ]
    },
    {
     "name": "stdout",
     "output_type": "stream",
     "text": [
      "Confidence ---> 0.73\n",
      "Class name --> aeroplane\n"
     ]
    },
    {
     "name": "stderr",
     "output_type": "stream",
     "text": [
      "0: 480x640 1 person, 207.6ms\n",
      "Speed: 1.0ms preprocess, 207.6ms inference, 0.8ms postprocess per image at shape (1, 3, 480, 640)\n",
      "\n"
     ]
    },
    {
     "name": "stdout",
     "output_type": "stream",
     "text": [
      "Confidence ---> 0.78\n",
      "Class name --> aeroplane\n"
     ]
    },
    {
     "name": "stderr",
     "output_type": "stream",
     "text": [
      "0: 480x640 1 person, 209.4ms\n",
      "Speed: 0.9ms preprocess, 209.4ms inference, 0.9ms postprocess per image at shape (1, 3, 480, 640)\n",
      "\n"
     ]
    },
    {
     "name": "stdout",
     "output_type": "stream",
     "text": [
      "Confidence ---> 0.71\n",
      "Class name --> aeroplane\n"
     ]
    },
    {
     "name": "stderr",
     "output_type": "stream",
     "text": [
      "0: 480x640 1 person, 209.4ms\n",
      "Speed: 1.0ms preprocess, 209.4ms inference, 1.0ms postprocess per image at shape (1, 3, 480, 640)\n",
      "\n"
     ]
    },
    {
     "name": "stdout",
     "output_type": "stream",
     "text": [
      "Confidence ---> 0.76\n",
      "Class name --> aeroplane\n"
     ]
    },
    {
     "name": "stderr",
     "output_type": "stream",
     "text": [
      "0: 480x640 1 person, 209.6ms\n",
      "Speed: 1.0ms preprocess, 209.6ms inference, 0.7ms postprocess per image at shape (1, 3, 480, 640)\n",
      "\n"
     ]
    },
    {
     "name": "stdout",
     "output_type": "stream",
     "text": [
      "Confidence ---> 0.68\n",
      "Class name --> aeroplane\n"
     ]
    },
    {
     "name": "stderr",
     "output_type": "stream",
     "text": [
      "0: 480x640 1 person, 210.5ms\n",
      "Speed: 1.0ms preprocess, 210.5ms inference, 0.8ms postprocess per image at shape (1, 3, 480, 640)\n"
     ]
    },
    {
     "name": "stdout",
     "output_type": "stream",
     "text": [
      "Confidence ---> 0.7\n",
      "Class name --> aeroplane\n"
     ]
    }
   ],
   "source": [
    "# same code as above but model was trained on custom dataset (classes are different, also the model is no longer good at identi the other stuff)\n",
    "\n",
    "from ultralytics import YOLO\n",
    "import cv2\n",
    "import math \n",
    "# start webcam\n",
    "cap = cv2.VideoCapture(0)\n",
    "cap.set(3, 640)\n",
    "cap.set(4, 480)\n",
    "\n",
    "# model\n",
    "model = YOLO(\"/Users/paulyoo/Desktop/Coding/Python/DoesDarrenShootLessThan70-/trainon10kdataset/weights/best.pt\")\n",
    "\n",
    "# object classes\n",
    "classNames = [ \n",
    "# basketball classes\n",
    "              \" Basketball-courts \" , \" ball \" , \" made \" , \" person \" , \" rim \" , \" shoot \"\n",
    "              ]\n",
    "\n",
    "\n",
    "while True:\n",
    "    success, img = cap.read()\n",
    "    results = model(img, stream=True)\n",
    "\n",
    "    # coordinates\n",
    "    for r in results:\n",
    "        boxes = r.boxes\n",
    "\n",
    "        for box in boxes:\n",
    "            # bounding box\n",
    "            x1, y1, x2, y2 = box.xyxy[0]\n",
    "            x1, y1, x2, y2 = int(x1), int(y1), int(x2), int(y2) # convert to int values\n",
    "\n",
    "            # put box in cam\n",
    "            cv2.rectangle(img, (x1, y1), (x2, y2), (255, 0, 255), 3)\n",
    "\n",
    "            # confidence\n",
    "            confidence = math.ceil((box.conf[0]*100))/100\n",
    "            print(\"Confidence --->\",confidence)\n",
    "\n",
    "            # class name\n",
    "            cls = int(box.cls[0])\n",
    "            print(\"Class name -->\", classNames[cls])\n",
    "\n",
    "            # object details\n",
    "            org = [x1, y1]\n",
    "            font = cv2.FONT_HERSHEY_SIMPLEX\n",
    "            fontScale = 1\n",
    "            color = (255, 0, 0)\n",
    "            thickness = 2\n",
    "\n",
    "            cv2.putText(img, classNames[cls], org, font, fontScale, color, thickness)\n",
    "\n",
    "    cv2.imshow('Webcam', img)\n",
    "    if cv2.waitKey(1) == ord('q'):\n",
    "        break\n",
    "\n",
    "cap.release()\n",
    "cv2.destroyAllWindows()\n",
    "for i in range (1,5):\n",
    "    cv2.waitKey(1)"
   ]
  },
  {
   "cell_type": "code",
   "execution_count": null,
   "id": "658adcd6",
   "metadata": {},
   "outputs": [],
   "source": []
  }
 ],
 "metadata": {
  "kernelspec": {
   "display_name": "Python 3 (ipykernel)",
   "language": "python",
   "name": "python3"
  },
  "language_info": {
   "codemirror_mode": {
    "name": "ipython",
    "version": 3
   },
   "file_extension": ".py",
   "mimetype": "text/x-python",
   "name": "python",
   "nbconvert_exporter": "python",
   "pygments_lexer": "ipython3",
   "version": "3.11.4"
  }
 },
 "nbformat": 4,
 "nbformat_minor": 5
}
