{
 "cells": [
  {
   "cell_type": "code",
   "execution_count": 1,
   "id": "7cca13a9",
   "metadata": {},
   "outputs": [
    {
     "name": "stdout",
     "output_type": "stream",
     "text": [
      "Defaulting to user installation because normal site-packages is not writeable\n",
      "Requirement already satisfied: ultralytics in /Users/samfields/Library/Python/3.9/lib/python/site-packages (8.0.203)\n",
      "Requirement already satisfied: scipy>=1.4.1 in /Users/samfields/Library/Python/3.9/lib/python/site-packages (from ultralytics) (1.11.3)\n",
      "Requirement already satisfied: py-cpuinfo in /Users/samfields/Library/Python/3.9/lib/python/site-packages (from ultralytics) (9.0.0)\n",
      "Requirement already satisfied: torch>=1.8.0 in /Users/samfields/Library/Python/3.9/lib/python/site-packages (from ultralytics) (2.1.0)\n",
      "Requirement already satisfied: opencv-python>=4.6.0 in /Users/samfields/Library/Python/3.9/lib/python/site-packages (from ultralytics) (4.8.1.78)\n",
      "Requirement already satisfied: pandas>=1.1.4 in /Users/samfields/Library/Python/3.9/lib/python/site-packages (from ultralytics) (1.5.3)\n",
      "Requirement already satisfied: tqdm>=4.64.0 in /Users/samfields/Library/Python/3.9/lib/python/site-packages (from ultralytics) (4.66.1)\n",
      "Requirement already satisfied: torchvision>=0.9.0 in /Users/samfields/Library/Python/3.9/lib/python/site-packages (from ultralytics) (0.16.0)\n",
      "Requirement already satisfied: matplotlib>=3.3.0 in /Users/samfields/Library/Python/3.9/lib/python/site-packages (from ultralytics) (3.8.0)\n",
      "Requirement already satisfied: psutil in /Users/samfields/Library/Python/3.9/lib/python/site-packages (from ultralytics) (5.9.4)\n",
      "Requirement already satisfied: thop>=0.1.1 in /Users/samfields/Library/Python/3.9/lib/python/site-packages (from ultralytics) (0.1.1.post2209072238)\n",
      "Requirement already satisfied: pillow>=7.1.2 in /Users/samfields/Library/Python/3.9/lib/python/site-packages (from ultralytics) (10.1.0)\n",
      "Requirement already satisfied: numpy>=1.22.2 in /Users/samfields/Library/Python/3.9/lib/python/site-packages (from ultralytics) (1.24.2)\n",
      "Requirement already satisfied: pyyaml>=5.3.1 in /Users/samfields/Library/Python/3.9/lib/python/site-packages (from ultralytics) (6.0)\n",
      "Requirement already satisfied: requests>=2.23.0 in /Users/samfields/Library/Python/3.9/lib/python/site-packages (from ultralytics) (2.31.0)\n",
      "Requirement already satisfied: seaborn>=0.11.0 in /Users/samfields/Library/Python/3.9/lib/python/site-packages (from ultralytics) (0.13.0)\n",
      "Requirement already satisfied: contourpy>=1.0.1 in /Users/samfields/Library/Python/3.9/lib/python/site-packages (from matplotlib>=3.3.0->ultralytics) (1.1.1)\n",
      "Requirement already satisfied: cycler>=0.10 in /Users/samfields/Library/Python/3.9/lib/python/site-packages (from matplotlib>=3.3.0->ultralytics) (0.10.0)\n",
      "Requirement already satisfied: kiwisolver>=1.0.1 in /Users/samfields/Library/Python/3.9/lib/python/site-packages (from matplotlib>=3.3.0->ultralytics) (1.4.5)\n",
      "Requirement already satisfied: python-dateutil>=2.7 in /Users/samfields/Library/Python/3.9/lib/python/site-packages (from matplotlib>=3.3.0->ultralytics) (2.8.2)\n",
      "Requirement already satisfied: packaging>=20.0 in /Users/samfields/Library/Python/3.9/lib/python/site-packages (from matplotlib>=3.3.0->ultralytics) (23.0)\n",
      "Requirement already satisfied: pyparsing>=2.3.1 in /Users/samfields/Library/Python/3.9/lib/python/site-packages (from matplotlib>=3.3.0->ultralytics) (2.4.7)\n",
      "Requirement already satisfied: importlib-resources>=3.2.0 in /Users/samfields/Library/Python/3.9/lib/python/site-packages (from matplotlib>=3.3.0->ultralytics) (6.1.0)\n",
      "Requirement already satisfied: fonttools>=4.22.0 in /Users/samfields/Library/Python/3.9/lib/python/site-packages (from matplotlib>=3.3.0->ultralytics) (4.43.1)\n",
      "Requirement already satisfied: pytz>=2020.1 in /Users/samfields/Library/Python/3.9/lib/python/site-packages (from pandas>=1.1.4->ultralytics) (2022.7.1)\n",
      "Requirement already satisfied: idna<4,>=2.5 in /Users/samfields/Library/Python/3.9/lib/python/site-packages (from requests>=2.23.0->ultralytics) (2.10)\n",
      "Requirement already satisfied: certifi>=2017.4.17 in /Users/samfields/Library/Python/3.9/lib/python/site-packages (from requests>=2.23.0->ultralytics) (2022.12.7)\n",
      "Requirement already satisfied: urllib3<3,>=1.21.1 in /Users/samfields/Library/Python/3.9/lib/python/site-packages (from requests>=2.23.0->ultralytics) (2.0.7)\n",
      "Requirement already satisfied: charset-normalizer<4,>=2 in /Users/samfields/Library/Python/3.9/lib/python/site-packages (from requests>=2.23.0->ultralytics) (3.3.1)\n",
      "Requirement already satisfied: jinja2 in /Users/samfields/Library/Python/3.9/lib/python/site-packages (from torch>=1.8.0->ultralytics) (3.1.2)\n",
      "Requirement already satisfied: networkx in /Users/samfields/Library/Python/3.9/lib/python/site-packages (from torch>=1.8.0->ultralytics) (3.2.1)\n",
      "Requirement already satisfied: typing-extensions in /Users/samfields/Library/Python/3.9/lib/python/site-packages (from torch>=1.8.0->ultralytics) (4.8.0)\n",
      "Requirement already satisfied: sympy in /Users/samfields/Library/Python/3.9/lib/python/site-packages (from torch>=1.8.0->ultralytics) (1.12)\n",
      "Requirement already satisfied: filelock in /Users/samfields/Library/Python/3.9/lib/python/site-packages (from torch>=1.8.0->ultralytics) (3.13.1)\n",
      "Requirement already satisfied: fsspec in /Users/samfields/Library/Python/3.9/lib/python/site-packages (from torch>=1.8.0->ultralytics) (2023.10.0)\n",
      "Requirement already satisfied: six in /Library/Developer/CommandLineTools/Library/Frameworks/Python3.framework/Versions/3.9/lib/python3.9/site-packages (from cycler>=0.10->matplotlib>=3.3.0->ultralytics) (1.15.0)\n",
      "Requirement already satisfied: zipp>=3.1.0 in /Users/samfields/Library/Python/3.9/lib/python/site-packages (from importlib-resources>=3.2.0->matplotlib>=3.3.0->ultralytics) (3.13.0)\n",
      "Requirement already satisfied: MarkupSafe>=2.0 in /Users/samfields/Library/Python/3.9/lib/python/site-packages (from jinja2->torch>=1.8.0->ultralytics) (2.1.2)\n",
      "Requirement already satisfied: mpmath>=0.19 in /Users/samfields/Library/Python/3.9/lib/python/site-packages (from sympy->torch>=1.8.0->ultralytics) (1.3.0)\n",
      "\n",
      "\u001b[1m[\u001b[0m\u001b[34;49mnotice\u001b[0m\u001b[1;39;49m]\u001b[0m\u001b[39;49m A new release of pip is available: \u001b[0m\u001b[31;49m23.0\u001b[0m\u001b[39;49m -> \u001b[0m\u001b[32;49m23.3.1\u001b[0m\n",
      "\u001b[1m[\u001b[0m\u001b[34;49mnotice\u001b[0m\u001b[1;39;49m]\u001b[0m\u001b[39;49m To update, run: \u001b[0m\u001b[32;49m/Library/Developer/CommandLineTools/usr/bin/python3 -m pip install --upgrade pip\u001b[0m\n",
      "Defaulting to user installation because normal site-packages is not writeable\n",
      "Requirement already satisfied: lap in /Users/samfields/Library/Python/3.9/lib/python/site-packages (0.4.0)\n",
      "\n",
      "\u001b[1m[\u001b[0m\u001b[34;49mnotice\u001b[0m\u001b[1;39;49m]\u001b[0m\u001b[39;49m A new release of pip is available: \u001b[0m\u001b[31;49m23.0\u001b[0m\u001b[39;49m -> \u001b[0m\u001b[32;49m23.3.1\u001b[0m\n",
      "\u001b[1m[\u001b[0m\u001b[34;49mnotice\u001b[0m\u001b[1;39;49m]\u001b[0m\u001b[39;49m To update, run: \u001b[0m\u001b[32;49m/Library/Developer/CommandLineTools/usr/bin/python3 -m pip install --upgrade pip\u001b[0m\n",
      "Defaulting to user installation because normal site-packages is not writeable\n",
      "Requirement already satisfied: yt-dlp in /Users/samfields/Library/Python/3.9/lib/python/site-packages (2023.10.13)\n",
      "Requirement already satisfied: websockets in /Users/samfields/Library/Python/3.9/lib/python/site-packages (from yt-dlp) (12.0)\n",
      "Requirement already satisfied: brotli in /Users/samfields/Library/Python/3.9/lib/python/site-packages (from yt-dlp) (1.1.0)\n",
      "Requirement already satisfied: certifi in /Users/samfields/Library/Python/3.9/lib/python/site-packages (from yt-dlp) (2022.12.7)\n",
      "Requirement already satisfied: mutagen in /Users/samfields/Library/Python/3.9/lib/python/site-packages (from yt-dlp) (1.47.0)\n",
      "Requirement already satisfied: pycryptodomex in /Users/samfields/Library/Python/3.9/lib/python/site-packages (from yt-dlp) (3.19.0)\n",
      "\n",
      "\u001b[1m[\u001b[0m\u001b[34;49mnotice\u001b[0m\u001b[1;39;49m]\u001b[0m\u001b[39;49m A new release of pip is available: \u001b[0m\u001b[31;49m23.0\u001b[0m\u001b[39;49m -> \u001b[0m\u001b[32;49m23.3.1\u001b[0m\n",
      "\u001b[1m[\u001b[0m\u001b[34;49mnotice\u001b[0m\u001b[1;39;49m]\u001b[0m\u001b[39;49m To update, run: \u001b[0m\u001b[32;49m/Library/Developer/CommandLineTools/usr/bin/python3 -m pip install --upgrade pip\u001b[0m\n",
      "Defaulting to user installation because normal site-packages is not writeable\n",
      "Requirement already satisfied: roboflow in /Users/samfields/Library/Python/3.9/lib/python/site-packages (1.1.7)\n",
      "Requirement already satisfied: tqdm>=4.41.0 in /Users/samfields/Library/Python/3.9/lib/python/site-packages (from roboflow) (4.66.1)\n",
      "Requirement already satisfied: python-dotenv in /Users/samfields/Library/Python/3.9/lib/python/site-packages (from roboflow) (1.0.0)\n",
      "Requirement already satisfied: requests-toolbelt in /Users/samfields/Library/Python/3.9/lib/python/site-packages (from roboflow) (1.0.0)\n",
      "Requirement already satisfied: idna==2.10 in /Users/samfields/Library/Python/3.9/lib/python/site-packages (from roboflow) (2.10)\n",
      "Requirement already satisfied: cycler==0.10.0 in /Users/samfields/Library/Python/3.9/lib/python/site-packages (from roboflow) (0.10.0)\n",
      "Requirement already satisfied: numpy>=1.18.5 in /Users/samfields/Library/Python/3.9/lib/python/site-packages (from roboflow) (1.24.2)\n",
      "Requirement already satisfied: Pillow>=7.1.2 in /Users/samfields/Library/Python/3.9/lib/python/site-packages (from roboflow) (10.1.0)\n",
      "Requirement already satisfied: pyparsing==2.4.7 in /Users/samfields/Library/Python/3.9/lib/python/site-packages (from roboflow) (2.4.7)\n",
      "Requirement already satisfied: opencv-python-headless==4.8.0.74 in /Users/samfields/Library/Python/3.9/lib/python/site-packages (from roboflow) (4.8.0.74)\n",
      "Requirement already satisfied: certifi==2022.12.7 in /Users/samfields/Library/Python/3.9/lib/python/site-packages (from roboflow) (2022.12.7)\n",
      "Requirement already satisfied: supervision in /Users/samfields/Library/Python/3.9/lib/python/site-packages (from roboflow) (0.16.0)\n",
      "Requirement already satisfied: six in /Library/Developer/CommandLineTools/Library/Frameworks/Python3.framework/Versions/3.9/lib/python3.9/site-packages (from roboflow) (1.15.0)\n",
      "Requirement already satisfied: python-dateutil in /Users/samfields/Library/Python/3.9/lib/python/site-packages (from roboflow) (2.8.2)\n",
      "Requirement already satisfied: matplotlib in /Users/samfields/Library/Python/3.9/lib/python/site-packages (from roboflow) (3.8.0)\n",
      "Requirement already satisfied: requests in /Users/samfields/Library/Python/3.9/lib/python/site-packages (from roboflow) (2.31.0)\n",
      "Requirement already satisfied: urllib3>=1.26.6 in /Users/samfields/Library/Python/3.9/lib/python/site-packages (from roboflow) (2.0.7)\n",
      "Requirement already satisfied: kiwisolver>=1.3.1 in /Users/samfields/Library/Python/3.9/lib/python/site-packages (from roboflow) (1.4.5)\n",
      "Requirement already satisfied: PyYAML>=5.3.1 in /Users/samfields/Library/Python/3.9/lib/python/site-packages (from roboflow) (6.0)\n",
      "Requirement already satisfied: chardet==4.0.0 in /Users/samfields/Library/Python/3.9/lib/python/site-packages (from roboflow) (4.0.0)\n"
     ]
    },
    {
     "name": "stdout",
     "output_type": "stream",
     "text": [
      "Requirement already satisfied: importlib-resources>=3.2.0 in /Users/samfields/Library/Python/3.9/lib/python/site-packages (from matplotlib->roboflow) (6.1.0)\n",
      "Requirement already satisfied: fonttools>=4.22.0 in /Users/samfields/Library/Python/3.9/lib/python/site-packages (from matplotlib->roboflow) (4.43.1)\n",
      "Requirement already satisfied: contourpy>=1.0.1 in /Users/samfields/Library/Python/3.9/lib/python/site-packages (from matplotlib->roboflow) (1.1.1)\n",
      "Requirement already satisfied: packaging>=20.0 in /Users/samfields/Library/Python/3.9/lib/python/site-packages (from matplotlib->roboflow) (23.0)\n",
      "Requirement already satisfied: charset-normalizer<4,>=2 in /Users/samfields/Library/Python/3.9/lib/python/site-packages (from requests->roboflow) (3.3.1)\n",
      "Requirement already satisfied: scipy<2.0.0,>=1.9.0 in /Users/samfields/Library/Python/3.9/lib/python/site-packages (from supervision->roboflow) (1.11.3)\n",
      "Requirement already satisfied: zipp>=3.1.0 in /Users/samfields/Library/Python/3.9/lib/python/site-packages (from importlib-resources>=3.2.0->matplotlib->roboflow) (3.13.0)\n",
      "\n",
      "\u001b[1m[\u001b[0m\u001b[34;49mnotice\u001b[0m\u001b[1;39;49m]\u001b[0m\u001b[39;49m A new release of pip is available: \u001b[0m\u001b[31;49m23.0\u001b[0m\u001b[39;49m -> \u001b[0m\u001b[32;49m23.3.1\u001b[0m\n",
      "\u001b[1m[\u001b[0m\u001b[34;49mnotice\u001b[0m\u001b[1;39;49m]\u001b[0m\u001b[39;49m To update, run: \u001b[0m\u001b[32;49m/Library/Developer/CommandLineTools/usr/bin/python3 -m pip install --upgrade pip\u001b[0m\n"
     ]
    }
   ],
   "source": [
    "# todo put these into a requirements.txt doc\n",
    "!pip3 install ultralytics\n",
    "!pip3 install lap\n",
    "!pip3 install yt-dlp\n",
    "!pip3 install roboflow"
   ]
  },
  {
   "cell_type": "code",
   "execution_count": 2,
   "id": "a997c1a0",
   "metadata": {},
   "outputs": [
    {
     "name": "stderr",
     "output_type": "stream",
     "text": [
      "/Users/samfields/Library/Python/3.9/lib/python/site-packages/urllib3/__init__.py:34: NotOpenSSLWarning: urllib3 v2.0 only supports OpenSSL 1.1.1+, currently the 'ssl' module is compiled with 'LibreSSL 2.8.3'. See: https://github.com/urllib3/urllib3/issues/3020\n",
      "  warnings.warn(\n"
     ]
    },
    {
     "name": "stdout",
     "output_type": "stream",
     "text": [
      "loading Roboflow workspace...\n",
      "loading Roboflow project...\n"
     ]
    }
   ],
   "source": [
    "# https://universe.roboflow.com/basketball-j7q33/basketball-labeling/model/3\n",
    "# Install public basketball labeled dataset\n",
    "import config # contains your private ROBO_API_KEY\n",
    "from roboflow import Roboflow\n",
    "rf = Roboflow(api_key=config.ROBO_API_KEY)\n",
    "project = rf.workspace(\"basketball-j7q33\").project(\"basketball-labeling\")\n",
    "# dataset = project.version(4).download(\"yolov8\") # creates new folder with the dataset information\n",
    "model = project.version(4).model"
   ]
  },
  {
   "cell_type": "code",
   "execution_count": 8,
   "id": "30ac0e4b",
   "metadata": {},
   "outputs": [],
   "source": [
    "img='../data/Basketball-Labeling-4/train/images/Screen-Shot-2022-08-22-at-10-17-13-AM-1_png.rf.c6e3d38a89b4f4e137a9261ceab644df.jpg'"
   ]
  },
  {
   "cell_type": "code",
   "execution_count": 9,
   "id": "b22e4acd",
   "metadata": {},
   "outputs": [
    {
     "name": "stdout",
     "output_type": "stream",
     "text": [
      "{'predictions': [], 'image': {'width': '416', 'height': '416'}}\n"
     ]
    }
   ],
   "source": [
    "print(model.predict(img, confidence=40, overlap=30).json())"
   ]
  },
  {
   "cell_type": "code",
   "execution_count": 10,
   "id": "1266a5de",
   "metadata": {},
   "outputs": [],
   "source": [
    "model.predict(img, confidence=40, overlap=30).save(\"prediction.jpg\")"
   ]
  },
  {
   "cell_type": "code",
   "execution_count": 11,
   "id": "4fd054b2",
   "metadata": {},
   "outputs": [],
   "source": [
    "# todo look into what this is supposed to be doing, then try to apply it to video format"
   ]
  },
  {
   "cell_type": "code",
   "execution_count": 1,
   "id": "3a1cd262",
   "metadata": {},
   "outputs": [
    {
     "name": "stderr",
     "output_type": "stream",
     "text": [
      "/Users/samfields/Library/Python/3.9/lib/python/site-packages/urllib3/__init__.py:34: NotOpenSSLWarning: urllib3 v2.0 only supports OpenSSL 1.1.1+, currently the 'ssl' module is compiled with 'LibreSSL 2.8.3'. See: https://github.com/urllib3/urllib3/issues/3020\n",
      "  warnings.warn(\n"
     ]
    }
   ],
   "source": [
    "from ultralytics import YOLO"
   ]
  },
  {
   "cell_type": "code",
   "execution_count": 10,
   "id": "d5af5e17",
   "metadata": {
    "scrolled": true
   },
   "outputs": [
    {
     "ename": "AttributeError",
     "evalue": "'ObjectDetectionModel' object has no attribute 'track'",
     "output_type": "error",
     "traceback": [
      "\u001b[0;31m---------------------------------------------------------------------------\u001b[0m",
      "\u001b[0;31mAttributeError\u001b[0m                            Traceback (most recent call last)",
      "Cell \u001b[0;32mIn[10], line 3\u001b[0m\n\u001b[1;32m      1\u001b[0m \u001b[38;5;66;03m# Configure the tracking parameters and run the tracker\u001b[39;00m\n\u001b[1;32m      2\u001b[0m \u001b[38;5;66;03m# model = YOLO('yolov8n.pt')\u001b[39;00m\n\u001b[0;32m----> 3\u001b[0m results \u001b[38;5;241m=\u001b[39m \u001b[43mmodel\u001b[49m\u001b[38;5;241;43m.\u001b[39;49m\u001b[43mtrack\u001b[49m(source\u001b[38;5;241m=\u001b[39m\u001b[38;5;124m\"\u001b[39m\u001b[38;5;124mhttps://youtu.be/sSq36WWNgHw?si=ztGg4FQYqA7s6Ygn\u001b[39m\u001b[38;5;124m\"\u001b[39m, conf\u001b[38;5;241m=\u001b[39m\u001b[38;5;241m0.3\u001b[39m, iou\u001b[38;5;241m=\u001b[39m\u001b[38;5;241m0.5\u001b[39m, show\u001b[38;5;241m=\u001b[39m\u001b[38;5;28;01mTrue\u001b[39;00m)\n",
      "\u001b[0;31mAttributeError\u001b[0m: 'ObjectDetectionModel' object has no attribute 'track'"
     ]
    }
   ],
   "source": [
    "# Configure the tracking parameters and run the tracker\n",
    "# model = YOLO('yolov8n.pt')\n",
    "results = model.track(source=\"https://youtu.be/sSq36WWNgHw?si=ztGg4FQYqA7s6Ygn\", conf=0.3, iou=0.5, show=True)"
   ]
  },
  {
   "cell_type": "code",
   "execution_count": null,
   "id": "60d05b21",
   "metadata": {},
   "outputs": [],
   "source": []
  }
 ],
 "metadata": {
  "kernelspec": {
   "display_name": "Python 3 (ipykernel)",
   "language": "python",
   "name": "python3"
  },
  "language_info": {
   "codemirror_mode": {
    "name": "ipython",
    "version": 3
   },
   "file_extension": ".py",
   "mimetype": "text/x-python",
   "name": "python",
   "nbconvert_exporter": "python",
   "pygments_lexer": "ipython3",
   "version": "3.9.6"
  }
 },
 "nbformat": 4,
 "nbformat_minor": 5
}
