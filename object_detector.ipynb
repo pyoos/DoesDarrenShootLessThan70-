{
 "cells": [
  {
   "cell_type": "markdown",
   "id": "b4444c0a",
   "metadata": {},
   "source": [
    "# This is the backend via Flask & Pillow for a potential online website that would connect to your computer's webcam and track objects in real time\n",
    "# Needs to be modified, currently this can only take in a image and annotate objects in uploaded image."
   ]
  },
  {
   "cell_type": "code",
   "execution_count": null,
   "id": "1d0b269a",
   "metadata": {},
   "outputs": [],
   "source": [
    "pip3 install flask\n",
    "pip3 install waitress\n",
    "pip3 install pillow"
   ]
  },
  {
   "cell_type": "code",
   "execution_count": null,
   "id": "c5ebc3ab",
   "metadata": {},
   "outputs": [],
   "source": [
    "from ultralytics import YOLO\n",
    "from flask import request, Response, Flask\n",
    "from waitress import serve\n",
    "from PIL import Image\n",
    "import json\n",
    "\n",
    "app = Flask(__name__)\n",
    "\n",
    "@app.route(\"/\")\n",
    "def root():\n",
    "    \"\"\"\n",
    "    Site main page handler function.\n",
    "    :return: Content of index.html file\n",
    "    \"\"\"\n",
    "    with open(\"index.html\") as file:\n",
    "        return file.read()\n",
    "\n",
    "\n",
    "@app.route(\"/detect\", methods=[\"POST\"])\n",
    "def detect():\n",
    "    \"\"\"\n",
    "        Handler of /detect POST endpoint\n",
    "        Receives uploaded file with a name \"image_file\", \n",
    "        passes it through YOLOv8 object detection \n",
    "        network and returns an array of bounding boxes.\n",
    "        :return: a JSON array of objects bounding \n",
    "        boxes in format \n",
    "        [[x1,y1,x2,y2,object_type,probability],..]\n",
    "    \"\"\"\n",
    "    buf = request.files[\"image_file\"]\n",
    "    boxes = detect_objects_on_image(Image.open(buf.stream))\n",
    "    return Response(\n",
    "      json.dumps(boxes),  \n",
    "      mimetype='application/json'\n",
    "    )\n",
    "\n",
    "\n",
    "def detect_objects_on_image(buf):\n",
    "    \"\"\"\n",
    "    Function receives an image,\n",
    "    passes it through YOLOv8 neural network\n",
    "    and returns an array of detected objects\n",
    "    and their bounding boxes\n",
    "    :param buf: Input image file stream\n",
    "    :return: Array of bounding boxes in format \n",
    "    [[x1,y1,x2,y2,object_type,probability],..]\n",
    "    \"\"\"\n",
    "    model = YOLO(\"best.pt\")\n",
    "    results = model.predict(buf)\n",
    "    result = results[0]\n",
    "    output = []\n",
    "    for box in result.boxes:\n",
    "        x1, y1, x2, y2 = [\n",
    "          round(x) for x in box.xyxy[0].tolist()\n",
    "        ]\n",
    "        class_id = box.cls[0].item()\n",
    "        prob = round(box.conf[0].item(), 2)\n",
    "        output.append([\n",
    "          x1, y1, x2, y2, result.names[class_id], prob\n",
    "        ])\n",
    "    return output\n",
    "\n",
    "serve(app, host='0.0.0.0', port=8080)"
   ]
  }
 ],
 "metadata": {
  "kernelspec": {
   "display_name": "Python 3 (ipykernel)",
   "language": "python",
   "name": "python3"
  },
  "language_info": {
   "codemirror_mode": {
    "name": "ipython",
    "version": 3
   },
   "file_extension": ".py",
   "mimetype": "text/x-python",
   "name": "python",
   "nbconvert_exporter": "python",
   "pygments_lexer": "ipython3",
   "version": "3.11.4"
  }
 },
 "nbformat": 4,
 "nbformat_minor": 5
}
