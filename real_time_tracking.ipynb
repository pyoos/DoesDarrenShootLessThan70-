{
 "cells": [
  {
   "cell_type": "code",
   "execution_count": 1,
   "id": "a1a609f8",
   "metadata": {},
   "outputs": [
    {
     "name": "stdout",
     "output_type": "stream",
     "text": [
      "Requirement already satisfied: opencv-python in /Users/paulyoo/anaconda3/lib/python3.11/site-packages (4.8.0.76)\r\n",
      "Requirement already satisfied: numpy>=1.21.2 in /Users/paulyoo/anaconda3/lib/python3.11/site-packages (from opencv-python) (1.24.3)\r\n"
     ]
    }
   ],
   "source": [
    "!pip install opencv-python\n",
    "!pip3 install ultralytics\n",
    "!pip3 install lapx\n",
    "!pip3 install yt-dlp\n",
    "!pip3 install roboflow"
   ]
  },
  {
   "cell_type": "markdown",
   "id": "bc0f72e4",
   "metadata": {},
   "source": [
    "# Real Time Video Capture Using Webcam"
   ]
  },
  {
   "cell_type": "code",
   "execution_count": 3,
   "id": "378035d2",
   "metadata": {},
   "outputs": [],
   "source": [
    "import cv2\n",
    "\n",
    "\n",
    "# real time video capture using webcam\n",
    "# press (q) to exit\n",
    "\n",
    "cap = cv2.VideoCapture(0)\n",
    "cap.set(3, 640)\n",
    "cap.set(4, 480)\n",
    "\n",
    "while True:\n",
    "    ret, img= cap.read()\n",
    "    cv2.imshow('Webcam', img)\n",
    "\n",
    "    if cv2.waitKey(1) == ord('q'):\n",
    "        break\n",
    "\n",
    "        \n",
    "        \n",
    "cap.release()\n",
    "cv2.destroyAllWindows()\n",
    "for i in range (1,5):\n",
    "    cv2.waitKey(1)\n",
    "# this part above is necessary to remove window, just destroyAllWindows() breaks\n",
    "\n"
   ]
  },
  {
   "cell_type": "markdown",
   "id": "dbafbee6",
   "metadata": {},
   "source": [
    "# Yolov8 Implementation"
   ]
  },
  {
   "cell_type": "code",
   "execution_count": null,
   "id": "596d372f",
   "metadata": {},
   "outputs": [],
   "source": [
    "from ultralytics import YOLO\n",
    "from roboflow import Roboflow\n",
    "rf = Roboflow(api_key='XXXX')\n",
    "project = rf.workspace(\"basketball-j7q33\").project(\"basketball-labeling\")\n",
    "\n",
    "# dataset = project.version(4).download(\"yolov8\") # creates new folder with the dataset information\n",
    "model = project.version(4).model\n",
    "\n",
    "#Classification\tDetection\tSegmentation\tKind\n",
    "#yolov8n-cls.pt\tyolov8n.pt\tyolov8n-seg.pt\tNano\n",
    "#yolov8s-cls.pt\tyolov8s.pt\tyolov8s-seg.pt\tSmall\n",
    "#yolov8m-cls.pt\tyolov8m.pt\tyolov8m-seg.pt\tMedium\n",
    "#yolov8l-cls.pt\tyolov8l.pt\tyolov8l-seg.pt\tLarge\n",
    "#yolov8x-cls.pt\tyolov8x.pt\tyolov8x-seg.pt\tHuge\n",
    "\n",
    "model = YOLO(\"yolov8m.pt\")\n",
    "\n",
    "#train\n",
    "#predict\n",
    "#export\n",
    "\n",
    "\n"
   ]
  },
  {
   "cell_type": "code",
   "execution_count": 4,
   "id": "975a1333",
   "metadata": {
    "scrolled": true
   },
   "outputs": [
    {
     "name": "stdout",
     "output_type": "stream",
     "text": [
      "Requirement already satisfied: roboflow in /Users/paulyoo/anaconda3/lib/python3.11/site-packages (1.1.7)\n",
      "Requirement already satisfied: certifi==2022.12.7 in /Users/paulyoo/anaconda3/lib/python3.11/site-packages (from roboflow) (2022.12.7)\n",
      "Requirement already satisfied: chardet==4.0.0 in /Users/paulyoo/anaconda3/lib/python3.11/site-packages (from roboflow) (4.0.0)\n",
      "Requirement already satisfied: cycler==0.10.0 in /Users/paulyoo/anaconda3/lib/python3.11/site-packages (from roboflow) (0.10.0)\n",
      "Requirement already satisfied: idna==2.10 in /Users/paulyoo/anaconda3/lib/python3.11/site-packages (from roboflow) (2.10)\n",
      "Requirement already satisfied: kiwisolver>=1.3.1 in /Users/paulyoo/anaconda3/lib/python3.11/site-packages (from roboflow) (1.4.4)\n",
      "Requirement already satisfied: matplotlib in /Users/paulyoo/anaconda3/lib/python3.11/site-packages (from roboflow) (3.7.1)\n",
      "Requirement already satisfied: numpy>=1.18.5 in /Users/paulyoo/anaconda3/lib/python3.11/site-packages (from roboflow) (1.24.3)\n",
      "Requirement already satisfied: opencv-python-headless==4.8.0.74 in /Users/paulyoo/anaconda3/lib/python3.11/site-packages (from roboflow) (4.8.0.74)\n",
      "Requirement already satisfied: Pillow>=7.1.2 in /Users/paulyoo/anaconda3/lib/python3.11/site-packages (from roboflow) (9.4.0)\n",
      "Requirement already satisfied: pyparsing==2.4.7 in /Users/paulyoo/anaconda3/lib/python3.11/site-packages (from roboflow) (2.4.7)\n",
      "Requirement already satisfied: python-dateutil in /Users/paulyoo/anaconda3/lib/python3.11/site-packages (from roboflow) (2.8.2)\n",
      "Requirement already satisfied: python-dotenv in /Users/paulyoo/anaconda3/lib/python3.11/site-packages (from roboflow) (1.0.0)\n",
      "Requirement already satisfied: requests in /Users/paulyoo/anaconda3/lib/python3.11/site-packages (from roboflow) (2.31.0)\n",
      "Requirement already satisfied: six in /Users/paulyoo/anaconda3/lib/python3.11/site-packages (from roboflow) (1.16.0)\n",
      "Requirement already satisfied: supervision in /Users/paulyoo/anaconda3/lib/python3.11/site-packages (from roboflow) (0.16.0)\n",
      "Requirement already satisfied: urllib3>=1.26.6 in /Users/paulyoo/anaconda3/lib/python3.11/site-packages (from roboflow) (1.26.16)\n",
      "Requirement already satisfied: tqdm>=4.41.0 in /Users/paulyoo/anaconda3/lib/python3.11/site-packages (from roboflow) (4.65.0)\n",
      "Requirement already satisfied: PyYAML>=5.3.1 in /Users/paulyoo/anaconda3/lib/python3.11/site-packages (from roboflow) (6.0)\n",
      "Requirement already satisfied: requests-toolbelt in /Users/paulyoo/anaconda3/lib/python3.11/site-packages (from roboflow) (1.0.0)\n",
      "Requirement already satisfied: contourpy>=1.0.1 in /Users/paulyoo/anaconda3/lib/python3.11/site-packages (from matplotlib->roboflow) (1.0.5)\n",
      "Requirement already satisfied: fonttools>=4.22.0 in /Users/paulyoo/anaconda3/lib/python3.11/site-packages (from matplotlib->roboflow) (4.25.0)\n",
      "Requirement already satisfied: packaging>=20.0 in /Users/paulyoo/anaconda3/lib/python3.11/site-packages (from matplotlib->roboflow) (23.0)\n",
      "Requirement already satisfied: charset-normalizer<4,>=2 in /Users/paulyoo/anaconda3/lib/python3.11/site-packages (from requests->roboflow) (2.0.4)\n",
      "Requirement already satisfied: scipy<2.0.0,>=1.9.0 in /Users/paulyoo/anaconda3/lib/python3.11/site-packages (from supervision->roboflow) (1.10.1)\n",
      "loading Roboflow workspace...\n",
      "loading Roboflow project...\n",
      "Dependency ultralytics==8.0.134 is required but found version=8.0.203, to fix: `pip install ultralytics==8.0.134`\n"
     ]
    },
    {
     "name": "stderr",
     "output_type": "stream",
     "text": [
      "Downloading Dataset Version Zip in Player_detect-1 to yolov8:: 100%|█| 559407/55"
     ]
    },
    {
     "name": "stdout",
     "output_type": "stream",
     "text": [
      "\n"
     ]
    },
    {
     "name": "stderr",
     "output_type": "stream",
     "text": [
      "\n",
      "Extracting Dataset Version Zip to Player_detect-1 in yolov8:: 100%|█| 19254/1925\n"
     ]
    }
   ],
   "source": [
    "!pip install roboflow\n",
    "\n",
    "# download dataset from roboflow\n",
    "from roboflow import Roboflow\n",
    "rf = Roboflow(api_key=\"XXXX\")\n",
    "project = rf.workspace(\"test-datset\").project(\"player_detect-0spfb\")\n",
    "dataset = project.version(1).download(\"yolov8\")\n",
    "\n"
   ]
  },
  {
   "cell_type": "code",
   "execution_count": null,
   "id": "7f8f54cb",
   "metadata": {},
   "outputs": [
    {
     "name": "stdout",
     "output_type": "stream",
     "text": [
      "Ultralytics YOLOv8.0.207 🚀 Python-3.11.4 torch-2.1.0 CPU (Apple M1 Pro)\n",
      "\u001b[34m\u001b[1mengine/trainer: \u001b[0mtask=detect, mode=train, model=yolov8n.pt, data=/Users/paulyoo/Desktop/Coding/Python/DoesDarrenShootLessThan70-/Player_detect-1/data.yaml, epochs=25, patience=50, batch=-1, imgsz=640, save=True, save_period=-1, cache=False, device=None, workers=8, project=None, name=train14, exist_ok=False, pretrained=True, optimizer=auto, verbose=True, seed=0, deterministic=True, single_cls=False, rect=False, cos_lr=False, close_mosaic=10, resume=False, amp=True, fraction=1.0, profile=False, freeze=None, overlap_mask=True, mask_ratio=4, dropout=0.0, val=True, split=val, save_json=False, save_hybrid=False, conf=None, iou=0.7, max_det=300, half=False, dnn=False, plots=True, source=None, show=False, save_txt=False, save_conf=False, save_crop=False, show_labels=True, show_conf=True, vid_stride=1, stream_buffer=False, line_width=None, visualize=False, augment=False, agnostic_nms=False, classes=None, retina_masks=False, boxes=True, format=torchscript, keras=False, optimize=False, int8=False, dynamic=False, simplify=False, opset=None, workspace=4, nms=False, lr0=0.01, lrf=0.01, momentum=0.937, weight_decay=0.0005, warmup_epochs=3.0, warmup_momentum=0.8, warmup_bias_lr=0.1, box=7.5, cls=0.5, dfl=1.5, pose=12.0, kobj=1.0, label_smoothing=0.0, nbs=64, hsv_h=0.015, hsv_s=0.7, hsv_v=0.4, degrees=0.0, translate=0.1, scale=0.5, shear=0.0, perspective=0.0, flipud=0.0, fliplr=0.5, mosaic=1.0, mixup=0.0, copy_paste=0.0, cfg=None, tracker=botsort.yaml, save_dir=/Users/paulyoo/runs/detect/train14\n",
      "Overriding model.yaml nc=80 with nc=6\n",
      "\n",
      "                   from  n    params  module                                       arguments                     \n",
      "  0                  -1  1       464  ultralytics.nn.modules.conv.Conv             [3, 16, 3, 2]                 \n",
      "  1                  -1  1      4672  ultralytics.nn.modules.conv.Conv             [16, 32, 3, 2]                \n",
      "  2                  -1  1      7360  ultralytics.nn.modules.block.C2f             [32, 32, 1, True]             \n",
      "  3                  -1  1     18560  ultralytics.nn.modules.conv.Conv             [32, 64, 3, 2]                \n",
      "  4                  -1  2     49664  ultralytics.nn.modules.block.C2f             [64, 64, 2, True]             \n",
      "  5                  -1  1     73984  ultralytics.nn.modules.conv.Conv             [64, 128, 3, 2]               \n",
      "  6                  -1  2    197632  ultralytics.nn.modules.block.C2f             [128, 128, 2, True]           \n",
      "  7                  -1  1    295424  ultralytics.nn.modules.conv.Conv             [128, 256, 3, 2]              \n",
      "  8                  -1  1    460288  ultralytics.nn.modules.block.C2f             [256, 256, 1, True]           \n",
      "  9                  -1  1    164608  ultralytics.nn.modules.block.SPPF            [256, 256, 5]                 \n",
      " 10                  -1  1         0  torch.nn.modules.upsampling.Upsample         [None, 2, 'nearest']          \n",
      " 11             [-1, 6]  1         0  ultralytics.nn.modules.conv.Concat           [1]                           \n",
      " 12                  -1  1    148224  ultralytics.nn.modules.block.C2f             [384, 128, 1]                 \n",
      " 13                  -1  1         0  torch.nn.modules.upsampling.Upsample         [None, 2, 'nearest']          \n",
      " 14             [-1, 4]  1         0  ultralytics.nn.modules.conv.Concat           [1]                           \n",
      " 15                  -1  1     37248  ultralytics.nn.modules.block.C2f             [192, 64, 1]                  \n",
      " 16                  -1  1     36992  ultralytics.nn.modules.conv.Conv             [64, 64, 3, 2]                \n",
      " 17            [-1, 12]  1         0  ultralytics.nn.modules.conv.Concat           [1]                           \n",
      " 18                  -1  1    123648  ultralytics.nn.modules.block.C2f             [192, 128, 1]                 \n",
      " 19                  -1  1    147712  ultralytics.nn.modules.conv.Conv             [128, 128, 3, 2]              \n",
      " 20             [-1, 9]  1         0  ultralytics.nn.modules.conv.Concat           [1]                           \n",
      " 21                  -1  1    493056  ultralytics.nn.modules.block.C2f             [384, 256, 1]                 \n",
      " 22        [15, 18, 21]  1    752482  ultralytics.nn.modules.head.Detect           [6, [64, 128, 256]]           \n",
      "[W NNPACK.cpp:64] Could not initialize NNPACK! Reason: Unsupported hardware.\n",
      "Model summary: 225 layers, 3012018 parameters, 3012002 gradients, 8.2 GFLOPs\n",
      "\n",
      "Transferred 319/355 items from pretrained weights\n",
      "Freezing layer 'model.22.dfl.conv.weight'\n",
      "\u001b[34m\u001b[1mAutoBatch: \u001b[0mComputing optimal batch size for imgsz=640\n",
      "\u001b[34m\u001b[1mAutoBatch: \u001b[0mCUDA not detected, using default CPU batch-size 16\n",
      "\u001b[34m\u001b[1mtrain: \u001b[0mScanning /Users/paulyoo/Desktop/Coding/Python/DoesDarrenShootLessThan70-/\u001b[0m\n",
      "WARNING ⚠️ Box and segment counts should be equal, but got len(segments) = 152, len(boxes) = 33891. To resolve this only boxes will be used and all segments will be removed. To avoid this please supply either a detect or segment dataset, not a detect-segment mixed dataset.\n",
      "\u001b[34m\u001b[1mval: \u001b[0mScanning /Users/paulyoo/Desktop/Coding/Python/DoesDarrenShootLessThan70-/Pl\u001b[0m\n",
      "WARNING ⚠️ Box and segment counts should be equal, but got len(segments) = 15, len(boxes) = 3345. To resolve this only boxes will be used and all segments will be removed. To avoid this please supply either a detect or segment dataset, not a detect-segment mixed dataset.\n",
      "Plotting labels to /Users/paulyoo/runs/detect/train14/labels.jpg... \n",
      "\u001b[34m\u001b[1moptimizer:\u001b[0m 'optimizer=auto' found, ignoring 'lr0=0.01' and 'momentum=0.937' and determining best 'optimizer', 'lr0' and 'momentum' automatically... \n",
      "\u001b[34m\u001b[1moptimizer:\u001b[0m AdamW(lr=0.001, momentum=0.9) with parameter groups 57 weight(decay=0.0), 64 weight(decay=0.0005), 63 bias(decay=0.0)\n",
      "Image sizes 640 train, 640 val\n",
      "Using 0 dataloader workers\n",
      "Logging results to \u001b[1m/Users/paulyoo/runs/detect/train14\u001b[0m\n",
      "Starting training for 25 epochs...\n",
      "\n",
      "      Epoch    GPU_mem   box_loss   cls_loss   dfl_loss  Instances       Size\n",
      "       1/25         0G      1.483      3.876      1.418        143        640:  "
     ]
    }
   ],
   "source": [
    "# train model on custom dataset\n",
    "# notes: need to try different model sizes (ref above for model sizing chart)\n",
    "\n",
    "\n",
    "!yolo task=detect mode=train model=yolov8n.pt data=/Users/paulyoo/Desktop/Coding/Python/DoesDarrenShootLessThan70-/Player_detect-1/data.yaml batch=-1 epochs=25 imgsz=640"
   ]
  },
  {
   "cell_type": "markdown",
   "id": "4dcbc9a2",
   "metadata": {},
   "source": [
    "# Yolov8 Class Implementation into Real Time Video Capture"
   ]
  },
  {
   "cell_type": "code",
   "execution_count": 1,
   "id": "0b722845",
   "metadata": {},
   "outputs": [
    {
     "name": "stderr",
     "output_type": "stream",
     "text": [
      "\n",
      "[W NNPACK.cpp:64] Could not initialize NNPACK! Reason: Unsupported hardware.\n",
      "0: 480x640 (no detections), 467.7ms\n",
      "Speed: 6.0ms preprocess, 467.7ms inference, 11.7ms postprocess per image at shape (1, 3, 480, 640)\n",
      "\n",
      "0: 480x640 1 person, 1 chair, 243.4ms\n",
      "Speed: 1.2ms preprocess, 243.4ms inference, 7.2ms postprocess per image at shape (1, 3, 480, 640)\n"
     ]
    },
    {
     "name": "stdout",
     "output_type": "stream",
     "text": [
      "Confidence ---> 0.93\n",
      "Class name --> person\n",
      "Confidence ---> 0.34\n",
      "Class name --> chair\n"
     ]
    },
    {
     "name": "stderr",
     "output_type": "stream",
     "text": [
      "\n",
      "0: 480x640 1 person, 240.7ms\n",
      "Speed: 2.9ms preprocess, 240.7ms inference, 1.2ms postprocess per image at shape (1, 3, 480, 640)\n",
      "\n"
     ]
    },
    {
     "name": "stdout",
     "output_type": "stream",
     "text": [
      "Confidence ---> 0.91\n",
      "Class name --> person\n"
     ]
    },
    {
     "name": "stderr",
     "output_type": "stream",
     "text": [
      "0: 480x640 1 person, 232.9ms\n",
      "Speed: 1.0ms preprocess, 232.9ms inference, 0.9ms postprocess per image at shape (1, 3, 480, 640)\n",
      "\n"
     ]
    },
    {
     "name": "stdout",
     "output_type": "stream",
     "text": [
      "Confidence ---> 0.91\n",
      "Class name --> person\n"
     ]
    },
    {
     "name": "stderr",
     "output_type": "stream",
     "text": [
      "0: 480x640 1 person, 1 chair, 230.7ms\n",
      "Speed: 1.0ms preprocess, 230.7ms inference, 1.0ms postprocess per image at shape (1, 3, 480, 640)\n",
      "\n"
     ]
    },
    {
     "name": "stdout",
     "output_type": "stream",
     "text": [
      "Confidence ---> 0.91\n",
      "Class name --> person\n",
      "Confidence ---> 0.28\n",
      "Class name --> chair\n"
     ]
    },
    {
     "name": "stderr",
     "output_type": "stream",
     "text": [
      "0: 480x640 1 person, 1 chair, 232.2ms\n",
      "Speed: 1.0ms preprocess, 232.2ms inference, 0.9ms postprocess per image at shape (1, 3, 480, 640)\n",
      "\n"
     ]
    },
    {
     "name": "stdout",
     "output_type": "stream",
     "text": [
      "Confidence ---> 0.91\n",
      "Class name --> person\n",
      "Confidence ---> 0.34\n",
      "Class name --> chair\n"
     ]
    },
    {
     "name": "stderr",
     "output_type": "stream",
     "text": [
      "0: 480x640 1 person, 1 chair, 230.4ms\n",
      "Speed: 1.1ms preprocess, 230.4ms inference, 0.9ms postprocess per image at shape (1, 3, 480, 640)\n",
      "\n"
     ]
    },
    {
     "name": "stdout",
     "output_type": "stream",
     "text": [
      "Confidence ---> 0.92\n",
      "Class name --> person\n",
      "Confidence ---> 0.35\n",
      "Class name --> chair\n"
     ]
    },
    {
     "name": "stderr",
     "output_type": "stream",
     "text": [
      "0: 480x640 1 person, 1 chair, 227.4ms\n",
      "Speed: 1.0ms preprocess, 227.4ms inference, 0.9ms postprocess per image at shape (1, 3, 480, 640)\n",
      "\n"
     ]
    },
    {
     "name": "stdout",
     "output_type": "stream",
     "text": [
      "Confidence ---> 0.92\n",
      "Class name --> person\n",
      "Confidence ---> 0.3\n",
      "Class name --> chair\n"
     ]
    },
    {
     "name": "stderr",
     "output_type": "stream",
     "text": [
      "0: 480x640 1 person, 1 chair, 226.8ms\n",
      "Speed: 1.0ms preprocess, 226.8ms inference, 0.9ms postprocess per image at shape (1, 3, 480, 640)\n",
      "\n"
     ]
    },
    {
     "name": "stdout",
     "output_type": "stream",
     "text": [
      "Confidence ---> 0.92\n",
      "Class name --> person\n",
      "Confidence ---> 0.38\n",
      "Class name --> chair\n"
     ]
    },
    {
     "name": "stderr",
     "output_type": "stream",
     "text": [
      "0: 480x640 1 person, 225.7ms\n",
      "Speed: 1.0ms preprocess, 225.7ms inference, 0.9ms postprocess per image at shape (1, 3, 480, 640)\n",
      "\n"
     ]
    },
    {
     "name": "stdout",
     "output_type": "stream",
     "text": [
      "Confidence ---> 0.91\n",
      "Class name --> person\n"
     ]
    },
    {
     "name": "stderr",
     "output_type": "stream",
     "text": [
      "0: 480x640 1 person, 1 chair, 227.6ms\n",
      "Speed: 0.9ms preprocess, 227.6ms inference, 0.9ms postprocess per image at shape (1, 3, 480, 640)\n",
      "\n"
     ]
    },
    {
     "name": "stdout",
     "output_type": "stream",
     "text": [
      "Confidence ---> 0.91\n",
      "Class name --> person\n",
      "Confidence ---> 0.27\n",
      "Class name --> chair\n"
     ]
    },
    {
     "name": "stderr",
     "output_type": "stream",
     "text": [
      "0: 480x640 1 person, 1 chair, 228.5ms\n",
      "Speed: 1.0ms preprocess, 228.5ms inference, 0.9ms postprocess per image at shape (1, 3, 480, 640)\n",
      "\n"
     ]
    },
    {
     "name": "stdout",
     "output_type": "stream",
     "text": [
      "Confidence ---> 0.93\n",
      "Class name --> person\n",
      "Confidence ---> 0.29\n",
      "Class name --> chair\n"
     ]
    },
    {
     "name": "stderr",
     "output_type": "stream",
     "text": [
      "0: 480x640 1 person, 1 chair, 1 sink, 225.5ms\n",
      "Speed: 1.0ms preprocess, 225.5ms inference, 0.9ms postprocess per image at shape (1, 3, 480, 640)\n",
      "\n"
     ]
    },
    {
     "name": "stdout",
     "output_type": "stream",
     "text": [
      "Confidence ---> 0.93\n",
      "Class name --> person\n",
      "Confidence ---> 0.39\n",
      "Class name --> chair\n",
      "Confidence ---> 0.27\n",
      "Class name --> sink\n"
     ]
    },
    {
     "name": "stderr",
     "output_type": "stream",
     "text": [
      "0: 480x640 1 person, 1 chair, 1 sink, 227.4ms\n",
      "Speed: 1.0ms preprocess, 227.4ms inference, 0.8ms postprocess per image at shape (1, 3, 480, 640)\n",
      "\n"
     ]
    },
    {
     "name": "stdout",
     "output_type": "stream",
     "text": [
      "Confidence ---> 0.94\n",
      "Class name --> person\n",
      "Confidence ---> 0.29\n",
      "Class name --> sink\n",
      "Confidence ---> 0.26\n",
      "Class name --> chair\n"
     ]
    },
    {
     "name": "stderr",
     "output_type": "stream",
     "text": [
      "0: 480x640 1 person, 1 chair, 227.1ms\n",
      "Speed: 1.0ms preprocess, 227.1ms inference, 1.0ms postprocess per image at shape (1, 3, 480, 640)\n",
      "\n"
     ]
    },
    {
     "name": "stdout",
     "output_type": "stream",
     "text": [
      "Confidence ---> 0.94\n",
      "Class name --> person\n",
      "Confidence ---> 0.35\n",
      "Class name --> chair\n"
     ]
    },
    {
     "name": "stderr",
     "output_type": "stream",
     "text": [
      "0: 480x640 1 person, 1 chair, 1 sink, 226.1ms\n",
      "Speed: 1.0ms preprocess, 226.1ms inference, 0.9ms postprocess per image at shape (1, 3, 480, 640)\n",
      "\n"
     ]
    },
    {
     "name": "stdout",
     "output_type": "stream",
     "text": [
      "Confidence ---> 0.93\n",
      "Class name --> person\n",
      "Confidence ---> 0.29\n",
      "Class name --> sink\n",
      "Confidence ---> 0.28\n",
      "Class name --> chair\n"
     ]
    },
    {
     "name": "stderr",
     "output_type": "stream",
     "text": [
      "0: 480x640 1 person, 1 chair, 225.1ms\n",
      "Speed: 1.0ms preprocess, 225.1ms inference, 0.9ms postprocess per image at shape (1, 3, 480, 640)\n",
      "\n"
     ]
    },
    {
     "name": "stdout",
     "output_type": "stream",
     "text": [
      "Confidence ---> 0.93\n",
      "Class name --> person\n",
      "Confidence ---> 0.31\n",
      "Class name --> chair\n"
     ]
    },
    {
     "name": "stderr",
     "output_type": "stream",
     "text": [
      "0: 480x640 1 person, 1 bowl, 1 chair, 225.9ms\n",
      "Speed: 1.0ms preprocess, 225.9ms inference, 0.9ms postprocess per image at shape (1, 3, 480, 640)\n",
      "\n"
     ]
    },
    {
     "name": "stdout",
     "output_type": "stream",
     "text": [
      "Confidence ---> 0.93\n",
      "Class name --> person\n",
      "Confidence ---> 0.34\n",
      "Class name --> bowl\n",
      "Confidence ---> 0.34\n",
      "Class name --> chair\n"
     ]
    },
    {
     "name": "stderr",
     "output_type": "stream",
     "text": [
      "0: 480x640 1 person, 1 cup, 1 bowl, 1 chair, 225.0ms\n",
      "Speed: 1.0ms preprocess, 225.0ms inference, 0.9ms postprocess per image at shape (1, 3, 480, 640)\n",
      "\n"
     ]
    },
    {
     "name": "stdout",
     "output_type": "stream",
     "text": [
      "Confidence ---> 0.93\n",
      "Class name --> person\n",
      "Confidence ---> 0.34\n",
      "Class name --> bowl\n",
      "Confidence ---> 0.31\n",
      "Class name --> chair\n",
      "Confidence ---> 0.29\n",
      "Class name --> cup\n"
     ]
    },
    {
     "name": "stderr",
     "output_type": "stream",
     "text": [
      "0: 480x640 1 person, 1 cup, 1 bowl, 1 chair, 225.8ms\n",
      "Speed: 1.0ms preprocess, 225.8ms inference, 0.8ms postprocess per image at shape (1, 3, 480, 640)\n",
      "\n"
     ]
    },
    {
     "name": "stdout",
     "output_type": "stream",
     "text": [
      "Confidence ---> 0.93\n",
      "Class name --> person\n",
      "Confidence ---> 0.43\n",
      "Class name --> bowl\n",
      "Confidence ---> 0.39\n",
      "Class name --> chair\n",
      "Confidence ---> 0.27\n",
      "Class name --> cup\n"
     ]
    },
    {
     "name": "stderr",
     "output_type": "stream",
     "text": [
      "0: 480x640 1 person, 1 bowl, 1 chair, 224.0ms\n",
      "Speed: 0.9ms preprocess, 224.0ms inference, 0.8ms postprocess per image at shape (1, 3, 480, 640)\n",
      "\n"
     ]
    },
    {
     "name": "stdout",
     "output_type": "stream",
     "text": [
      "Confidence ---> 0.93\n",
      "Class name --> person\n",
      "Confidence ---> 0.43\n",
      "Class name --> bowl\n",
      "Confidence ---> 0.32\n",
      "Class name --> chair\n"
     ]
    },
    {
     "name": "stderr",
     "output_type": "stream",
     "text": [
      "0: 480x640 1 person, 1 bowl, 1 chair, 224.5ms\n",
      "Speed: 1.0ms preprocess, 224.5ms inference, 0.9ms postprocess per image at shape (1, 3, 480, 640)\n",
      "\n"
     ]
    },
    {
     "name": "stdout",
     "output_type": "stream",
     "text": [
      "Confidence ---> 0.94\n",
      "Class name --> person\n",
      "Confidence ---> 0.34\n",
      "Class name --> bowl\n",
      "Confidence ---> 0.3\n",
      "Class name --> chair\n"
     ]
    },
    {
     "name": "stderr",
     "output_type": "stream",
     "text": [
      "0: 480x640 1 person, 1 chair, 223.4ms\n",
      "Speed: 1.0ms preprocess, 223.4ms inference, 0.9ms postprocess per image at shape (1, 3, 480, 640)\n",
      "\n"
     ]
    },
    {
     "name": "stdout",
     "output_type": "stream",
     "text": [
      "Confidence ---> 0.94\n",
      "Class name --> person\n",
      "Confidence ---> 0.37\n",
      "Class name --> chair\n"
     ]
    },
    {
     "name": "stderr",
     "output_type": "stream",
     "text": [
      "0: 480x640 1 person, 1 bowl, 1 chair, 224.5ms\n",
      "Speed: 1.0ms preprocess, 224.5ms inference, 0.8ms postprocess per image at shape (1, 3, 480, 640)\n",
      "\n"
     ]
    },
    {
     "name": "stdout",
     "output_type": "stream",
     "text": [
      "Confidence ---> 0.93\n",
      "Class name --> person\n",
      "Confidence ---> 0.43\n",
      "Class name --> bowl\n",
      "Confidence ---> 0.37\n",
      "Class name --> chair\n"
     ]
    },
    {
     "name": "stderr",
     "output_type": "stream",
     "text": [
      "0: 480x640 1 person, 1 bowl, 1 chair, 224.8ms\n",
      "Speed: 1.0ms preprocess, 224.8ms inference, 0.9ms postprocess per image at shape (1, 3, 480, 640)\n",
      "\n"
     ]
    },
    {
     "name": "stdout",
     "output_type": "stream",
     "text": [
      "Confidence ---> 0.93\n",
      "Class name --> person\n",
      "Confidence ---> 0.41\n",
      "Class name --> chair\n",
      "Confidence ---> 0.36\n",
      "Class name --> bowl\n"
     ]
    },
    {
     "name": "stderr",
     "output_type": "stream",
     "text": [
      "0: 480x640 1 person, 1 cup, 1 bowl, 1 chair, 224.9ms\n",
      "Speed: 1.0ms preprocess, 224.9ms inference, 0.9ms postprocess per image at shape (1, 3, 480, 640)\n",
      "\n"
     ]
    },
    {
     "name": "stdout",
     "output_type": "stream",
     "text": [
      "Confidence ---> 0.93\n",
      "Class name --> person\n",
      "Confidence ---> 0.48\n",
      "Class name --> chair\n",
      "Confidence ---> 0.38\n",
      "Class name --> bowl\n",
      "Confidence ---> 0.26\n",
      "Class name --> cup\n"
     ]
    },
    {
     "name": "stderr",
     "output_type": "stream",
     "text": [
      "0: 480x640 1 person, 1 bowl, 1 chair, 224.9ms\n",
      "Speed: 1.0ms preprocess, 224.9ms inference, 0.9ms postprocess per image at shape (1, 3, 480, 640)\n",
      "\n"
     ]
    },
    {
     "name": "stdout",
     "output_type": "stream",
     "text": [
      "Confidence ---> 0.92\n",
      "Class name --> person\n",
      "Confidence ---> 0.41\n",
      "Class name --> bowl\n",
      "Confidence ---> 0.4\n",
      "Class name --> chair\n"
     ]
    },
    {
     "name": "stderr",
     "output_type": "stream",
     "text": [
      "0: 480x640 1 person, 1 bowl, 1 chair, 229.2ms\n",
      "Speed: 0.9ms preprocess, 229.2ms inference, 1.1ms postprocess per image at shape (1, 3, 480, 640)\n",
      "\n"
     ]
    },
    {
     "name": "stdout",
     "output_type": "stream",
     "text": [
      "Confidence ---> 0.92\n",
      "Class name --> person\n",
      "Confidence ---> 0.45\n",
      "Class name --> bowl\n",
      "Confidence ---> 0.35\n",
      "Class name --> chair\n"
     ]
    },
    {
     "name": "stderr",
     "output_type": "stream",
     "text": [
      "0: 480x640 1 person, 1 cup, 1 bowl, 1 chair, 230.2ms\n",
      "Speed: 1.1ms preprocess, 230.2ms inference, 0.9ms postprocess per image at shape (1, 3, 480, 640)\n",
      "\n"
     ]
    },
    {
     "name": "stdout",
     "output_type": "stream",
     "text": [
      "Confidence ---> 0.92\n",
      "Class name --> person\n",
      "Confidence ---> 0.35\n",
      "Class name --> bowl\n",
      "Confidence ---> 0.3\n",
      "Class name --> chair\n",
      "Confidence ---> 0.3\n",
      "Class name --> cup\n"
     ]
    },
    {
     "name": "stderr",
     "output_type": "stream",
     "text": [
      "0: 480x640 1 person, 1 bowl, 1 chair, 233.4ms\n",
      "Speed: 0.9ms preprocess, 233.4ms inference, 1.1ms postprocess per image at shape (1, 3, 480, 640)\n",
      "\n"
     ]
    },
    {
     "name": "stdout",
     "output_type": "stream",
     "text": [
      "Confidence ---> 0.93\n",
      "Class name --> person\n",
      "Confidence ---> 0.41\n",
      "Class name --> chair\n",
      "Confidence ---> 0.32\n",
      "Class name --> bowl\n"
     ]
    },
    {
     "name": "stderr",
     "output_type": "stream",
     "text": [
      "0: 480x640 1 person, 1 bowl, 1 chair, 227.8ms\n",
      "Speed: 1.0ms preprocess, 227.8ms inference, 0.8ms postprocess per image at shape (1, 3, 480, 640)\n",
      "\n"
     ]
    },
    {
     "name": "stdout",
     "output_type": "stream",
     "text": [
      "Confidence ---> 0.93\n",
      "Class name --> person\n",
      "Confidence ---> 0.48\n",
      "Class name --> chair\n",
      "Confidence ---> 0.27\n",
      "Class name --> bowl\n"
     ]
    },
    {
     "name": "stderr",
     "output_type": "stream",
     "text": [
      "0: 480x640 1 person, 1 cup, 1 bowl, 1 chair, 227.5ms\n",
      "Speed: 1.0ms preprocess, 227.5ms inference, 0.8ms postprocess per image at shape (1, 3, 480, 640)\n",
      "\n"
     ]
    },
    {
     "name": "stdout",
     "output_type": "stream",
     "text": [
      "Confidence ---> 0.94\n",
      "Class name --> person\n",
      "Confidence ---> 0.4\n",
      "Class name --> bowl\n",
      "Confidence ---> 0.39\n",
      "Class name --> chair\n",
      "Confidence ---> 0.31\n",
      "Class name --> cup\n"
     ]
    },
    {
     "name": "stderr",
     "output_type": "stream",
     "text": [
      "0: 480x640 1 person, 1 chair, 225.4ms\n",
      "Speed: 1.0ms preprocess, 225.4ms inference, 0.9ms postprocess per image at shape (1, 3, 480, 640)\n",
      "\n"
     ]
    },
    {
     "name": "stdout",
     "output_type": "stream",
     "text": [
      "Confidence ---> 0.93\n",
      "Class name --> person\n",
      "Confidence ---> 0.37\n",
      "Class name --> chair\n"
     ]
    },
    {
     "name": "stderr",
     "output_type": "stream",
     "text": [
      "0: 480x640 1 person, 1 chair, 1 sink, 224.1ms\n",
      "Speed: 1.0ms preprocess, 224.1ms inference, 0.9ms postprocess per image at shape (1, 3, 480, 640)\n",
      "\n"
     ]
    },
    {
     "name": "stdout",
     "output_type": "stream",
     "text": [
      "Confidence ---> 0.92\n",
      "Class name --> person\n",
      "Confidence ---> 0.44\n",
      "Class name --> chair\n",
      "Confidence ---> 0.37\n",
      "Class name --> sink\n"
     ]
    },
    {
     "name": "stderr",
     "output_type": "stream",
     "text": [
      "0: 480x640 1 person, 1 chair, 1 sink, 225.0ms\n",
      "Speed: 1.0ms preprocess, 225.0ms inference, 0.9ms postprocess per image at shape (1, 3, 480, 640)\n",
      "\n"
     ]
    },
    {
     "name": "stdout",
     "output_type": "stream",
     "text": [
      "Confidence ---> 0.91\n",
      "Class name --> person\n",
      "Confidence ---> 0.37\n",
      "Class name --> chair\n",
      "Confidence ---> 0.36\n",
      "Class name --> sink\n"
     ]
    },
    {
     "name": "stderr",
     "output_type": "stream",
     "text": [
      "0: 480x640 1 person, 224.7ms\n",
      "Speed: 1.0ms preprocess, 224.7ms inference, 0.9ms postprocess per image at shape (1, 3, 480, 640)\n",
      "\n"
     ]
    },
    {
     "name": "stdout",
     "output_type": "stream",
     "text": [
      "Confidence ---> 0.94\n",
      "Class name --> person\n"
     ]
    },
    {
     "name": "stderr",
     "output_type": "stream",
     "text": [
      "0: 480x640 1 person, 1 cell phone, 225.7ms\n",
      "Speed: 1.0ms preprocess, 225.7ms inference, 0.9ms postprocess per image at shape (1, 3, 480, 640)\n",
      "\n"
     ]
    },
    {
     "name": "stdout",
     "output_type": "stream",
     "text": [
      "Confidence ---> 0.93\n",
      "Class name --> person\n",
      "Confidence ---> 0.26\n",
      "Class name --> cell phone\n"
     ]
    },
    {
     "name": "stderr",
     "output_type": "stream",
     "text": [
      "0: 480x640 1 person, 1 remote, 1 cell phone, 224.2ms\n",
      "Speed: 1.0ms preprocess, 224.2ms inference, 0.9ms postprocess per image at shape (1, 3, 480, 640)\n",
      "\n"
     ]
    },
    {
     "name": "stdout",
     "output_type": "stream",
     "text": [
      "Confidence ---> 0.94\n",
      "Class name --> person\n",
      "Confidence ---> 0.4\n",
      "Class name --> remote\n",
      "Confidence ---> 0.31\n",
      "Class name --> cell phone\n"
     ]
    },
    {
     "name": "stderr",
     "output_type": "stream",
     "text": [
      "0: 480x640 1 person, 224.2ms\n",
      "Speed: 1.0ms preprocess, 224.2ms inference, 0.8ms postprocess per image at shape (1, 3, 480, 640)\n",
      "\n"
     ]
    },
    {
     "name": "stdout",
     "output_type": "stream",
     "text": [
      "Confidence ---> 0.93\n",
      "Class name --> person\n"
     ]
    },
    {
     "name": "stderr",
     "output_type": "stream",
     "text": [
      "0: 480x640 1 person, 1 cell phone, 224.3ms\n",
      "Speed: 0.9ms preprocess, 224.3ms inference, 0.9ms postprocess per image at shape (1, 3, 480, 640)\n",
      "\n"
     ]
    },
    {
     "name": "stdout",
     "output_type": "stream",
     "text": [
      "Confidence ---> 0.92\n",
      "Class name --> person\n",
      "Confidence ---> 0.6\n",
      "Class name --> cell phone\n"
     ]
    },
    {
     "name": "stderr",
     "output_type": "stream",
     "text": [
      "0: 480x640 2 persons, 1 remote, 1 cell phone, 223.4ms\n",
      "Speed: 1.0ms preprocess, 223.4ms inference, 0.9ms postprocess per image at shape (1, 3, 480, 640)\n",
      "\n"
     ]
    },
    {
     "name": "stdout",
     "output_type": "stream",
     "text": [
      "Confidence ---> 0.9\n",
      "Class name --> person\n",
      "Confidence ---> 0.46\n",
      "Class name --> cell phone\n",
      "Confidence ---> 0.38\n",
      "Class name --> person\n",
      "Confidence ---> 0.32\n",
      "Class name --> remote\n"
     ]
    },
    {
     "name": "stderr",
     "output_type": "stream",
     "text": [
      "0: 480x640 1 person, 1 cell phone, 226.6ms\n",
      "Speed: 1.0ms preprocess, 226.6ms inference, 0.9ms postprocess per image at shape (1, 3, 480, 640)\n",
      "\n"
     ]
    },
    {
     "name": "stdout",
     "output_type": "stream",
     "text": [
      "Confidence ---> 0.88\n",
      "Class name --> person\n",
      "Confidence ---> 0.65\n",
      "Class name --> cell phone\n"
     ]
    },
    {
     "name": "stderr",
     "output_type": "stream",
     "text": [
      "0: 480x640 1 person, 1 remote, 1 cell phone, 236.6ms\n",
      "Speed: 1.9ms preprocess, 236.6ms inference, 0.9ms postprocess per image at shape (1, 3, 480, 640)\n",
      "\n"
     ]
    },
    {
     "name": "stdout",
     "output_type": "stream",
     "text": [
      "Confidence ---> 0.88\n",
      "Class name --> person\n",
      "Confidence ---> 0.67\n",
      "Class name --> cell phone\n",
      "Confidence ---> 0.44\n",
      "Class name --> remote\n"
     ]
    },
    {
     "name": "stderr",
     "output_type": "stream",
     "text": [
      "0: 480x640 1 person, 1 remote, 1 cell phone, 226.5ms\n",
      "Speed: 1.0ms preprocess, 226.5ms inference, 0.9ms postprocess per image at shape (1, 3, 480, 640)\n",
      "\n"
     ]
    },
    {
     "name": "stdout",
     "output_type": "stream",
     "text": [
      "Confidence ---> 0.9\n",
      "Class name --> person\n",
      "Confidence ---> 0.61\n",
      "Class name --> cell phone\n",
      "Confidence ---> 0.31\n",
      "Class name --> remote\n"
     ]
    },
    {
     "name": "stderr",
     "output_type": "stream",
     "text": [
      "0: 480x640 2 persons, 1 remote, 1 cell phone, 224.0ms\n",
      "Speed: 1.0ms preprocess, 224.0ms inference, 1.0ms postprocess per image at shape (1, 3, 480, 640)\n",
      "\n"
     ]
    },
    {
     "name": "stdout",
     "output_type": "stream",
     "text": [
      "Confidence ---> 0.91\n",
      "Class name --> person\n",
      "Confidence ---> 0.56\n",
      "Class name --> cell phone\n",
      "Confidence ---> 0.31\n",
      "Class name --> remote\n",
      "Confidence ---> 0.27\n",
      "Class name --> person\n"
     ]
    },
    {
     "name": "stderr",
     "output_type": "stream",
     "text": [
      "0: 480x640 1 person, 1 remote, 1 cell phone, 224.7ms\n",
      "Speed: 1.0ms preprocess, 224.7ms inference, 0.9ms postprocess per image at shape (1, 3, 480, 640)\n",
      "\n"
     ]
    },
    {
     "name": "stdout",
     "output_type": "stream",
     "text": [
      "Confidence ---> 0.91\n",
      "Class name --> person\n",
      "Confidence ---> 0.58\n",
      "Class name --> cell phone\n",
      "Confidence ---> 0.44\n",
      "Class name --> remote\n"
     ]
    },
    {
     "name": "stderr",
     "output_type": "stream",
     "text": [
      "0: 480x640 2 persons, 1 cell phone, 224.7ms\n",
      "Speed: 1.0ms preprocess, 224.7ms inference, 0.9ms postprocess per image at shape (1, 3, 480, 640)\n",
      "\n"
     ]
    },
    {
     "name": "stdout",
     "output_type": "stream",
     "text": [
      "Confidence ---> 0.91\n",
      "Class name --> person\n",
      "Confidence ---> 0.63\n",
      "Class name --> cell phone\n",
      "Confidence ---> 0.41\n",
      "Class name --> person\n"
     ]
    },
    {
     "name": "stderr",
     "output_type": "stream",
     "text": [
      "0: 480x640 1 person, 1 cell phone, 223.5ms\n",
      "Speed: 1.0ms preprocess, 223.5ms inference, 1.0ms postprocess per image at shape (1, 3, 480, 640)\n",
      "\n"
     ]
    },
    {
     "name": "stdout",
     "output_type": "stream",
     "text": [
      "Confidence ---> 0.93\n",
      "Class name --> person\n",
      "Confidence ---> 0.27\n",
      "Class name --> cell phone\n"
     ]
    },
    {
     "name": "stderr",
     "output_type": "stream",
     "text": [
      "0: 480x640 1 person, 1 chair, 1 remote, 1 cell phone, 224.8ms\n",
      "Speed: 1.0ms preprocess, 224.8ms inference, 0.9ms postprocess per image at shape (1, 3, 480, 640)\n",
      "\n"
     ]
    },
    {
     "name": "stdout",
     "output_type": "stream",
     "text": [
      "Confidence ---> 0.94\n",
      "Class name --> person\n",
      "Confidence ---> 0.59\n",
      "Class name --> remote\n",
      "Confidence ---> 0.36\n",
      "Class name --> cell phone\n",
      "Confidence ---> 0.32\n",
      "Class name --> chair\n"
     ]
    },
    {
     "name": "stderr",
     "output_type": "stream",
     "text": [
      "0: 480x640 1 person, 1 remote, 1 cell phone, 223.8ms\n",
      "Speed: 1.0ms preprocess, 223.8ms inference, 0.9ms postprocess per image at shape (1, 3, 480, 640)\n",
      "\n"
     ]
    },
    {
     "name": "stdout",
     "output_type": "stream",
     "text": [
      "Confidence ---> 0.94\n",
      "Class name --> person\n",
      "Confidence ---> 0.51\n",
      "Class name --> remote\n",
      "Confidence ---> 0.38\n",
      "Class name --> cell phone\n"
     ]
    },
    {
     "name": "stderr",
     "output_type": "stream",
     "text": [
      "0: 480x640 1 person, 1 chair, 225.0ms\n",
      "Speed: 1.2ms preprocess, 225.0ms inference, 0.7ms postprocess per image at shape (1, 3, 480, 640)\n",
      "\n"
     ]
    },
    {
     "name": "stdout",
     "output_type": "stream",
     "text": [
      "Confidence ---> 0.93\n",
      "Class name --> person\n",
      "Confidence ---> 0.35\n",
      "Class name --> chair\n"
     ]
    },
    {
     "name": "stderr",
     "output_type": "stream",
     "text": [
      "0: 480x640 1 person, 1 chair, 225.9ms\n",
      "Speed: 1.0ms preprocess, 225.9ms inference, 0.9ms postprocess per image at shape (1, 3, 480, 640)\n",
      "\n"
     ]
    },
    {
     "name": "stdout",
     "output_type": "stream",
     "text": [
      "Confidence ---> 0.94\n",
      "Class name --> person\n",
      "Confidence ---> 0.35\n",
      "Class name --> chair\n"
     ]
    },
    {
     "name": "stderr",
     "output_type": "stream",
     "text": [
      "0: 480x640 1 person, 1 chair, 226.3ms\n",
      "Speed: 1.0ms preprocess, 226.3ms inference, 0.8ms postprocess per image at shape (1, 3, 480, 640)\n",
      "\n"
     ]
    },
    {
     "name": "stdout",
     "output_type": "stream",
     "text": [
      "Confidence ---> 0.93\n",
      "Class name --> person\n",
      "Confidence ---> 0.3\n",
      "Class name --> chair\n"
     ]
    },
    {
     "name": "stderr",
     "output_type": "stream",
     "text": [
      "0: 480x640 1 person, 1 chair, 1 sink, 226.2ms\n",
      "Speed: 1.0ms preprocess, 226.2ms inference, 0.8ms postprocess per image at shape (1, 3, 480, 640)\n",
      "\n"
     ]
    },
    {
     "name": "stdout",
     "output_type": "stream",
     "text": [
      "Confidence ---> 0.92\n",
      "Class name --> person\n",
      "Confidence ---> 0.47\n",
      "Class name --> chair\n",
      "Confidence ---> 0.34\n",
      "Class name --> sink\n"
     ]
    },
    {
     "name": "stderr",
     "output_type": "stream",
     "text": [
      "0: 480x640 1 person, 1 chair, 226.1ms\n",
      "Speed: 0.9ms preprocess, 226.1ms inference, 1.0ms postprocess per image at shape (1, 3, 480, 640)\n",
      "\n"
     ]
    },
    {
     "name": "stdout",
     "output_type": "stream",
     "text": [
      "Confidence ---> 0.88\n",
      "Class name --> person\n",
      "Confidence ---> 0.34\n",
      "Class name --> chair\n"
     ]
    },
    {
     "name": "stderr",
     "output_type": "stream",
     "text": [
      "0: 480x640 1 person, 1 chair, 226.8ms\n",
      "Speed: 1.0ms preprocess, 226.8ms inference, 0.8ms postprocess per image at shape (1, 3, 480, 640)\n",
      "\n"
     ]
    },
    {
     "name": "stdout",
     "output_type": "stream",
     "text": [
      "Confidence ---> 0.91\n",
      "Class name --> person\n",
      "Confidence ---> 0.38\n",
      "Class name --> chair\n"
     ]
    },
    {
     "name": "stderr",
     "output_type": "stream",
     "text": [
      "0: 480x640 1 person, 1 chair, 1 sink, 228.8ms\n",
      "Speed: 0.9ms preprocess, 228.8ms inference, 1.1ms postprocess per image at shape (1, 3, 480, 640)\n",
      "\n"
     ]
    },
    {
     "name": "stdout",
     "output_type": "stream",
     "text": [
      "Confidence ---> 0.87\n",
      "Class name --> person\n",
      "Confidence ---> 0.45\n",
      "Class name --> chair\n",
      "Confidence ---> 0.43\n",
      "Class name --> sink\n"
     ]
    },
    {
     "name": "stderr",
     "output_type": "stream",
     "text": [
      "0: 480x640 1 person, 1 chair, 1 sink, 227.5ms\n",
      "Speed: 0.9ms preprocess, 227.5ms inference, 0.8ms postprocess per image at shape (1, 3, 480, 640)\n",
      "\n"
     ]
    },
    {
     "name": "stdout",
     "output_type": "stream",
     "text": [
      "Confidence ---> 0.91\n",
      "Class name --> person\n",
      "Confidence ---> 0.48\n",
      "Class name --> sink\n",
      "Confidence ---> 0.37\n",
      "Class name --> chair\n"
     ]
    },
    {
     "name": "stderr",
     "output_type": "stream",
     "text": [
      "0: 480x640 2 persons, 1 chair, 226.6ms\n",
      "Speed: 1.0ms preprocess, 226.6ms inference, 0.9ms postprocess per image at shape (1, 3, 480, 640)\n",
      "\n"
     ]
    },
    {
     "name": "stdout",
     "output_type": "stream",
     "text": [
      "Confidence ---> 0.83\n",
      "Class name --> person\n",
      "Confidence ---> 0.49\n",
      "Class name --> person\n",
      "Confidence ---> 0.32\n",
      "Class name --> chair\n"
     ]
    },
    {
     "name": "stderr",
     "output_type": "stream",
     "text": [
      "0: 480x640 1 person, 1 chair, 224.0ms\n",
      "Speed: 1.1ms preprocess, 224.0ms inference, 1.1ms postprocess per image at shape (1, 3, 480, 640)\n",
      "\n"
     ]
    },
    {
     "name": "stdout",
     "output_type": "stream",
     "text": [
      "Confidence ---> 0.94\n",
      "Class name --> person\n",
      "Confidence ---> 0.27\n",
      "Class name --> chair\n"
     ]
    },
    {
     "name": "stderr",
     "output_type": "stream",
     "text": [
      "0: 480x640 1 person, 1 chair, 223.8ms\n",
      "Speed: 1.0ms preprocess, 223.8ms inference, 0.9ms postprocess per image at shape (1, 3, 480, 640)\n",
      "\n"
     ]
    },
    {
     "name": "stdout",
     "output_type": "stream",
     "text": [
      "Confidence ---> 0.94\n",
      "Class name --> person\n",
      "Confidence ---> 0.45\n",
      "Class name --> chair\n"
     ]
    },
    {
     "name": "stderr",
     "output_type": "stream",
     "text": [
      "0: 480x640 1 person, 224.2ms\n",
      "Speed: 1.0ms preprocess, 224.2ms inference, 0.8ms postprocess per image at shape (1, 3, 480, 640)\n",
      "\n"
     ]
    },
    {
     "name": "stdout",
     "output_type": "stream",
     "text": [
      "Confidence ---> 0.94\n",
      "Class name --> person\n"
     ]
    },
    {
     "name": "stderr",
     "output_type": "stream",
     "text": [
      "0: 480x640 1 person, 1 chair, 223.8ms\n",
      "Speed: 1.0ms preprocess, 223.8ms inference, 0.9ms postprocess per image at shape (1, 3, 480, 640)\n",
      "\n"
     ]
    },
    {
     "name": "stdout",
     "output_type": "stream",
     "text": [
      "Confidence ---> 0.93\n",
      "Class name --> person\n",
      "Confidence ---> 0.29\n",
      "Class name --> chair\n"
     ]
    },
    {
     "name": "stderr",
     "output_type": "stream",
     "text": [
      "0: 480x640 1 person, 1 chair, 225.7ms\n",
      "Speed: 1.0ms preprocess, 225.7ms inference, 0.8ms postprocess per image at shape (1, 3, 480, 640)\n",
      "\n"
     ]
    },
    {
     "name": "stdout",
     "output_type": "stream",
     "text": [
      "Confidence ---> 0.95\n",
      "Class name --> person\n",
      "Confidence ---> 0.28\n",
      "Class name --> chair\n"
     ]
    },
    {
     "name": "stderr",
     "output_type": "stream",
     "text": [
      "0: 480x640 1 person, 1 chair, 223.6ms\n",
      "Speed: 1.0ms preprocess, 223.6ms inference, 0.8ms postprocess per image at shape (1, 3, 480, 640)\n",
      "\n"
     ]
    },
    {
     "name": "stdout",
     "output_type": "stream",
     "text": [
      "Confidence ---> 0.94\n",
      "Class name --> person\n",
      "Confidence ---> 0.35\n",
      "Class name --> chair\n"
     ]
    },
    {
     "name": "stderr",
     "output_type": "stream",
     "text": [
      "0: 480x640 1 person, 1 chair, 224.1ms\n",
      "Speed: 1.0ms preprocess, 224.1ms inference, 0.9ms postprocess per image at shape (1, 3, 480, 640)\n",
      "\n"
     ]
    },
    {
     "name": "stdout",
     "output_type": "stream",
     "text": [
      "Confidence ---> 0.93\n",
      "Class name --> person\n",
      "Confidence ---> 0.32\n",
      "Class name --> chair\n"
     ]
    },
    {
     "name": "stderr",
     "output_type": "stream",
     "text": [
      "0: 480x640 1 person, 1 chair, 223.6ms\n",
      "Speed: 0.9ms preprocess, 223.6ms inference, 0.8ms postprocess per image at shape (1, 3, 480, 640)\n",
      "\n"
     ]
    },
    {
     "name": "stdout",
     "output_type": "stream",
     "text": [
      "Confidence ---> 0.93\n",
      "Class name --> person\n",
      "Confidence ---> 0.33\n",
      "Class name --> chair\n"
     ]
    },
    {
     "name": "stderr",
     "output_type": "stream",
     "text": [
      "0: 480x640 1 person, 223.9ms\n",
      "Speed: 1.0ms preprocess, 223.9ms inference, 0.8ms postprocess per image at shape (1, 3, 480, 640)\n",
      "\n"
     ]
    },
    {
     "name": "stdout",
     "output_type": "stream",
     "text": [
      "Confidence ---> 0.93\n",
      "Class name --> person\n"
     ]
    },
    {
     "name": "stderr",
     "output_type": "stream",
     "text": [
      "0: 480x640 1 person, 1 chair, 224.0ms\n",
      "Speed: 1.0ms preprocess, 224.0ms inference, 0.8ms postprocess per image at shape (1, 3, 480, 640)\n",
      "\n"
     ]
    },
    {
     "name": "stdout",
     "output_type": "stream",
     "text": [
      "Confidence ---> 0.93\n",
      "Class name --> person\n",
      "Confidence ---> 0.3\n",
      "Class name --> chair\n"
     ]
    },
    {
     "name": "stderr",
     "output_type": "stream",
     "text": [
      "0: 480x640 1 person, 1 chair, 223.9ms\n",
      "Speed: 1.0ms preprocess, 223.9ms inference, 0.8ms postprocess per image at shape (1, 3, 480, 640)\n",
      "\n"
     ]
    },
    {
     "name": "stdout",
     "output_type": "stream",
     "text": [
      "Confidence ---> 0.93\n",
      "Class name --> person\n",
      "Confidence ---> 0.32\n",
      "Class name --> chair\n"
     ]
    },
    {
     "name": "stderr",
     "output_type": "stream",
     "text": [
      "0: 480x640 1 person, 1 chair, 223.6ms\n",
      "Speed: 1.0ms preprocess, 223.6ms inference, 0.8ms postprocess per image at shape (1, 3, 480, 640)\n",
      "\n"
     ]
    },
    {
     "name": "stdout",
     "output_type": "stream",
     "text": [
      "Confidence ---> 0.9\n",
      "Class name --> person\n",
      "Confidence ---> 0.31\n",
      "Class name --> chair\n"
     ]
    },
    {
     "name": "stderr",
     "output_type": "stream",
     "text": [
      "0: 480x640 1 person, 1 chair, 223.8ms\n",
      "Speed: 1.0ms preprocess, 223.8ms inference, 0.8ms postprocess per image at shape (1, 3, 480, 640)\n",
      "\n"
     ]
    },
    {
     "name": "stdout",
     "output_type": "stream",
     "text": [
      "Confidence ---> 0.91\n",
      "Class name --> person\n",
      "Confidence ---> 0.38\n",
      "Class name --> chair\n"
     ]
    },
    {
     "name": "stderr",
     "output_type": "stream",
     "text": [
      "0: 480x640 1 person, 1 chair, 223.2ms\n",
      "Speed: 1.0ms preprocess, 223.2ms inference, 0.8ms postprocess per image at shape (1, 3, 480, 640)\n",
      "\n"
     ]
    },
    {
     "name": "stdout",
     "output_type": "stream",
     "text": [
      "Confidence ---> 0.91\n",
      "Class name --> person\n",
      "Confidence ---> 0.41\n",
      "Class name --> chair\n"
     ]
    },
    {
     "name": "stderr",
     "output_type": "stream",
     "text": [
      "0: 480x640 1 person, 1 chair, 223.2ms\n",
      "Speed: 1.0ms preprocess, 223.2ms inference, 0.8ms postprocess per image at shape (1, 3, 480, 640)\n",
      "\n"
     ]
    },
    {
     "name": "stdout",
     "output_type": "stream",
     "text": [
      "Confidence ---> 0.92\n",
      "Class name --> person\n",
      "Confidence ---> 0.32\n",
      "Class name --> chair\n"
     ]
    },
    {
     "name": "stderr",
     "output_type": "stream",
     "text": [
      "0: 480x640 1 person, 1 chair, 223.4ms\n",
      "Speed: 1.0ms preprocess, 223.4ms inference, 0.9ms postprocess per image at shape (1, 3, 480, 640)\n",
      "\n"
     ]
    },
    {
     "name": "stdout",
     "output_type": "stream",
     "text": [
      "Confidence ---> 0.91\n",
      "Class name --> person\n",
      "Confidence ---> 0.36\n",
      "Class name --> chair\n"
     ]
    },
    {
     "name": "stderr",
     "output_type": "stream",
     "text": [
      "0: 480x640 1 person, 1 chair, 223.8ms\n",
      "Speed: 1.0ms preprocess, 223.8ms inference, 0.8ms postprocess per image at shape (1, 3, 480, 640)\n",
      "\n"
     ]
    },
    {
     "name": "stdout",
     "output_type": "stream",
     "text": [
      "Confidence ---> 0.92\n",
      "Class name --> person\n",
      "Confidence ---> 0.36\n",
      "Class name --> chair\n"
     ]
    },
    {
     "name": "stderr",
     "output_type": "stream",
     "text": [
      "0: 480x640 1 person, 1 chair, 223.8ms\n",
      "Speed: 1.0ms preprocess, 223.8ms inference, 0.9ms postprocess per image at shape (1, 3, 480, 640)\n",
      "\n"
     ]
    },
    {
     "name": "stdout",
     "output_type": "stream",
     "text": [
      "Confidence ---> 0.91\n",
      "Class name --> person\n",
      "Confidence ---> 0.34\n",
      "Class name --> chair\n"
     ]
    },
    {
     "name": "stderr",
     "output_type": "stream",
     "text": [
      "0: 480x640 1 person, 1 chair, 223.8ms\n",
      "Speed: 1.0ms preprocess, 223.8ms inference, 0.9ms postprocess per image at shape (1, 3, 480, 640)\n",
      "\n"
     ]
    },
    {
     "name": "stdout",
     "output_type": "stream",
     "text": [
      "Confidence ---> 0.92\n",
      "Class name --> person\n",
      "Confidence ---> 0.29\n",
      "Class name --> chair\n"
     ]
    },
    {
     "name": "stderr",
     "output_type": "stream",
     "text": [
      "0: 480x640 1 person, 1 chair, 224.2ms\n",
      "Speed: 1.0ms preprocess, 224.2ms inference, 0.8ms postprocess per image at shape (1, 3, 480, 640)\n",
      "\n"
     ]
    },
    {
     "name": "stdout",
     "output_type": "stream",
     "text": [
      "Confidence ---> 0.9\n",
      "Class name --> person\n",
      "Confidence ---> 0.3\n",
      "Class name --> chair\n"
     ]
    },
    {
     "name": "stderr",
     "output_type": "stream",
     "text": [
      "0: 480x640 1 person, 1 chair, 224.0ms\n",
      "Speed: 1.0ms preprocess, 224.0ms inference, 0.9ms postprocess per image at shape (1, 3, 480, 640)\n",
      "\n"
     ]
    },
    {
     "name": "stdout",
     "output_type": "stream",
     "text": [
      "Confidence ---> 0.92\n",
      "Class name --> person\n",
      "Confidence ---> 0.37\n",
      "Class name --> chair\n"
     ]
    },
    {
     "name": "stderr",
     "output_type": "stream",
     "text": [
      "0: 480x640 1 person, 1 chair, 1 sink, 224.1ms\n",
      "Speed: 1.0ms preprocess, 224.1ms inference, 0.9ms postprocess per image at shape (1, 3, 480, 640)\n",
      "\n"
     ]
    },
    {
     "name": "stdout",
     "output_type": "stream",
     "text": [
      "Confidence ---> 0.91\n",
      "Class name --> person\n",
      "Confidence ---> 0.43\n",
      "Class name --> sink\n",
      "Confidence ---> 0.42\n",
      "Class name --> chair\n"
     ]
    },
    {
     "name": "stderr",
     "output_type": "stream",
     "text": [
      "0: 480x640 2 persons, 1 chair, 1 sink, 224.0ms\n",
      "Speed: 1.0ms preprocess, 224.0ms inference, 0.9ms postprocess per image at shape (1, 3, 480, 640)\n",
      "\n"
     ]
    },
    {
     "name": "stdout",
     "output_type": "stream",
     "text": [
      "Confidence ---> 0.86\n",
      "Class name --> person\n",
      "Confidence ---> 0.54\n",
      "Class name --> person\n",
      "Confidence ---> 0.37\n",
      "Class name --> sink\n",
      "Confidence ---> 0.36\n",
      "Class name --> chair\n"
     ]
    },
    {
     "name": "stderr",
     "output_type": "stream",
     "text": [
      "0: 480x640 1 person, 1 chair, 1 sink, 224.5ms\n",
      "Speed: 1.0ms preprocess, 224.5ms inference, 0.9ms postprocess per image at shape (1, 3, 480, 640)\n",
      "\n"
     ]
    },
    {
     "name": "stdout",
     "output_type": "stream",
     "text": [
      "Confidence ---> 0.9\n",
      "Class name --> person\n",
      "Confidence ---> 0.42\n",
      "Class name --> sink\n",
      "Confidence ---> 0.42\n",
      "Class name --> chair\n"
     ]
    },
    {
     "name": "stderr",
     "output_type": "stream",
     "text": [
      "0: 480x640 1 person, 1 chair, 223.8ms\n",
      "Speed: 1.0ms preprocess, 223.8ms inference, 0.9ms postprocess per image at shape (1, 3, 480, 640)\n",
      "\n"
     ]
    },
    {
     "name": "stdout",
     "output_type": "stream",
     "text": [
      "Confidence ---> 0.9\n",
      "Class name --> person\n",
      "Confidence ---> 0.43\n",
      "Class name --> chair\n"
     ]
    },
    {
     "name": "stderr",
     "output_type": "stream",
     "text": [
      "0: 480x640 1 person, 1 chair, 223.9ms\n",
      "Speed: 1.0ms preprocess, 223.9ms inference, 0.8ms postprocess per image at shape (1, 3, 480, 640)\n",
      "\n"
     ]
    },
    {
     "name": "stdout",
     "output_type": "stream",
     "text": [
      "Confidence ---> 0.87\n",
      "Class name --> person\n",
      "Confidence ---> 0.34\n",
      "Class name --> chair\n"
     ]
    },
    {
     "name": "stderr",
     "output_type": "stream",
     "text": [
      "0: 480x640 2 persons, 227.2ms\n",
      "Speed: 1.3ms preprocess, 227.2ms inference, 0.9ms postprocess per image at shape (1, 3, 480, 640)\n",
      "\n"
     ]
    },
    {
     "name": "stdout",
     "output_type": "stream",
     "text": [
      "Confidence ---> 0.68\n",
      "Class name --> person\n",
      "Confidence ---> 0.26\n",
      "Class name --> person\n"
     ]
    },
    {
     "name": "stderr",
     "output_type": "stream",
     "text": [
      "0: 480x640 2 persons, 226.2ms\n",
      "Speed: 1.0ms preprocess, 226.2ms inference, 0.8ms postprocess per image at shape (1, 3, 480, 640)\n",
      "\n"
     ]
    },
    {
     "name": "stdout",
     "output_type": "stream",
     "text": [
      "Confidence ---> 0.77\n",
      "Class name --> person\n",
      "Confidence ---> 0.5\n",
      "Class name --> person\n"
     ]
    },
    {
     "name": "stderr",
     "output_type": "stream",
     "text": [
      "0: 480x640 2 persons, 225.4ms\n",
      "Speed: 0.9ms preprocess, 225.4ms inference, 0.8ms postprocess per image at shape (1, 3, 480, 640)\n",
      "\n"
     ]
    },
    {
     "name": "stdout",
     "output_type": "stream",
     "text": [
      "Confidence ---> 0.82\n",
      "Class name --> person\n",
      "Confidence ---> 0.32\n",
      "Class name --> person\n"
     ]
    },
    {
     "name": "stderr",
     "output_type": "stream",
     "text": [
      "0: 480x640 1 person, 1 chair, 226.7ms\n",
      "Speed: 1.0ms preprocess, 226.7ms inference, 0.9ms postprocess per image at shape (1, 3, 480, 640)\n",
      "\n"
     ]
    },
    {
     "name": "stdout",
     "output_type": "stream",
     "text": [
      "Confidence ---> 0.86\n",
      "Class name --> person\n",
      "Confidence ---> 0.29\n",
      "Class name --> chair\n"
     ]
    },
    {
     "name": "stderr",
     "output_type": "stream",
     "text": [
      "0: 480x640 1 person, 226.1ms\n",
      "Speed: 1.0ms preprocess, 226.1ms inference, 0.9ms postprocess per image at shape (1, 3, 480, 640)\n",
      "\n"
     ]
    },
    {
     "name": "stdout",
     "output_type": "stream",
     "text": [
      "Confidence ---> 0.87\n",
      "Class name --> person\n"
     ]
    },
    {
     "name": "stderr",
     "output_type": "stream",
     "text": [
      "0: 480x640 1 person, 225.2ms\n",
      "Speed: 1.0ms preprocess, 225.2ms inference, 0.9ms postprocess per image at shape (1, 3, 480, 640)\n",
      "\n"
     ]
    },
    {
     "name": "stdout",
     "output_type": "stream",
     "text": [
      "Confidence ---> 0.88\n",
      "Class name --> person\n"
     ]
    },
    {
     "name": "stderr",
     "output_type": "stream",
     "text": [
      "0: 480x640 2 persons, 224.0ms\n",
      "Speed: 1.0ms preprocess, 224.0ms inference, 0.9ms postprocess per image at shape (1, 3, 480, 640)\n",
      "\n"
     ]
    },
    {
     "name": "stdout",
     "output_type": "stream",
     "text": [
      "Confidence ---> 0.79\n",
      "Class name --> person\n",
      "Confidence ---> 0.28\n",
      "Class name --> person\n"
     ]
    },
    {
     "name": "stderr",
     "output_type": "stream",
     "text": [
      "0: 480x640 1 person, 1 cup, 226.3ms\n",
      "Speed: 1.0ms preprocess, 226.3ms inference, 1.0ms postprocess per image at shape (1, 3, 480, 640)\n",
      "\n"
     ]
    },
    {
     "name": "stdout",
     "output_type": "stream",
     "text": [
      "Confidence ---> 0.87\n",
      "Class name --> person\n",
      "Confidence ---> 0.28\n",
      "Class name --> cup\n"
     ]
    },
    {
     "name": "stderr",
     "output_type": "stream",
     "text": [
      "0: 480x640 1 person, 1 cup, 228.0ms\n",
      "Speed: 1.0ms preprocess, 228.0ms inference, 0.8ms postprocess per image at shape (1, 3, 480, 640)\n",
      "\n"
     ]
    },
    {
     "name": "stdout",
     "output_type": "stream",
     "text": [
      "Confidence ---> 0.9\n",
      "Class name --> person\n",
      "Confidence ---> 0.29\n",
      "Class name --> cup\n"
     ]
    },
    {
     "name": "stderr",
     "output_type": "stream",
     "text": [
      "0: 480x640 1 person, 1 cup, 229.2ms\n",
      "Speed: 1.0ms preprocess, 229.2ms inference, 0.9ms postprocess per image at shape (1, 3, 480, 640)\n",
      "\n"
     ]
    },
    {
     "name": "stdout",
     "output_type": "stream",
     "text": [
      "Confidence ---> 0.86\n",
      "Class name --> person\n",
      "Confidence ---> 0.27\n",
      "Class name --> cup\n"
     ]
    },
    {
     "name": "stderr",
     "output_type": "stream",
     "text": [
      "0: 480x640 1 person, 1 chair, 1 sink, 232.2ms\n",
      "Speed: 1.0ms preprocess, 232.2ms inference, 1.1ms postprocess per image at shape (1, 3, 480, 640)\n",
      "\n"
     ]
    },
    {
     "name": "stdout",
     "output_type": "stream",
     "text": [
      "Confidence ---> 0.85\n",
      "Class name --> person\n",
      "Confidence ---> 0.36\n",
      "Class name --> chair\n",
      "Confidence ---> 0.31\n",
      "Class name --> sink\n"
     ]
    },
    {
     "name": "stderr",
     "output_type": "stream",
     "text": [
      "0: 480x640 1 person, 1 chair, 233.5ms\n",
      "Speed: 1.0ms preprocess, 233.5ms inference, 1.0ms postprocess per image at shape (1, 3, 480, 640)\n",
      "\n"
     ]
    },
    {
     "name": "stdout",
     "output_type": "stream",
     "text": [
      "Confidence ---> 0.86\n",
      "Class name --> person\n",
      "Confidence ---> 0.31\n",
      "Class name --> chair\n"
     ]
    },
    {
     "name": "stderr",
     "output_type": "stream",
     "text": [
      "0: 480x640 1 person, 1 chair, 1 sink, 228.3ms\n",
      "Speed: 1.0ms preprocess, 228.3ms inference, 0.9ms postprocess per image at shape (1, 3, 480, 640)\n",
      "\n"
     ]
    },
    {
     "name": "stdout",
     "output_type": "stream",
     "text": [
      "Confidence ---> 0.85\n",
      "Class name --> person\n",
      "Confidence ---> 0.27\n",
      "Class name --> chair\n",
      "Confidence ---> 0.27\n",
      "Class name --> sink\n"
     ]
    },
    {
     "name": "stderr",
     "output_type": "stream",
     "text": [
      "0: 480x640 1 person, 1 chair, 228.6ms\n",
      "Speed: 1.0ms preprocess, 228.6ms inference, 0.9ms postprocess per image at shape (1, 3, 480, 640)\n",
      "\n"
     ]
    },
    {
     "name": "stdout",
     "output_type": "stream",
     "text": [
      "Confidence ---> 0.86\n",
      "Class name --> person\n",
      "Confidence ---> 0.26\n",
      "Class name --> chair\n"
     ]
    },
    {
     "name": "stderr",
     "output_type": "stream",
     "text": [
      "0: 480x640 1 person, 1 chair, 232.7ms\n",
      "Speed: 0.9ms preprocess, 232.7ms inference, 0.9ms postprocess per image at shape (1, 3, 480, 640)\n",
      "\n"
     ]
    },
    {
     "name": "stdout",
     "output_type": "stream",
     "text": [
      "Confidence ---> 0.86\n",
      "Class name --> person\n",
      "Confidence ---> 0.27\n",
      "Class name --> chair\n"
     ]
    },
    {
     "name": "stderr",
     "output_type": "stream",
     "text": [
      "0: 480x640 1 person, 1 chair, 229.8ms\n",
      "Speed: 1.1ms preprocess, 229.8ms inference, 0.9ms postprocess per image at shape (1, 3, 480, 640)\n",
      "\n"
     ]
    },
    {
     "name": "stdout",
     "output_type": "stream",
     "text": [
      "Confidence ---> 0.85\n",
      "Class name --> person\n",
      "Confidence ---> 0.28\n",
      "Class name --> chair\n"
     ]
    },
    {
     "name": "stderr",
     "output_type": "stream",
     "text": [
      "0: 480x640 1 person, 1 chair, 235.3ms\n",
      "Speed: 1.0ms preprocess, 235.3ms inference, 0.9ms postprocess per image at shape (1, 3, 480, 640)\n",
      "\n"
     ]
    },
    {
     "name": "stdout",
     "output_type": "stream",
     "text": [
      "Confidence ---> 0.88\n",
      "Class name --> person\n",
      "Confidence ---> 0.37\n",
      "Class name --> chair\n"
     ]
    },
    {
     "name": "stderr",
     "output_type": "stream",
     "text": [
      "0: 480x640 1 person, 1 chair, 233.7ms\n",
      "Speed: 1.2ms preprocess, 233.7ms inference, 1.0ms postprocess per image at shape (1, 3, 480, 640)\n",
      "\n"
     ]
    },
    {
     "name": "stdout",
     "output_type": "stream",
     "text": [
      "Confidence ---> 0.87\n",
      "Class name --> person\n",
      "Confidence ---> 0.28\n",
      "Class name --> chair\n"
     ]
    },
    {
     "name": "stderr",
     "output_type": "stream",
     "text": [
      "0: 480x640 1 person, 1 chair, 230.8ms\n",
      "Speed: 1.0ms preprocess, 230.8ms inference, 0.9ms postprocess per image at shape (1, 3, 480, 640)\n",
      "\n"
     ]
    },
    {
     "name": "stdout",
     "output_type": "stream",
     "text": [
      "Confidence ---> 0.83\n",
      "Class name --> person\n",
      "Confidence ---> 0.26\n",
      "Class name --> chair\n"
     ]
    },
    {
     "name": "stderr",
     "output_type": "stream",
     "text": [
      "0: 480x640 1 person, 1 chair, 235.2ms\n",
      "Speed: 1.1ms preprocess, 235.2ms inference, 1.0ms postprocess per image at shape (1, 3, 480, 640)\n",
      "\n"
     ]
    },
    {
     "name": "stdout",
     "output_type": "stream",
     "text": [
      "Confidence ---> 0.87\n",
      "Class name --> person\n",
      "Confidence ---> 0.32\n",
      "Class name --> chair\n"
     ]
    },
    {
     "name": "stderr",
     "output_type": "stream",
     "text": [
      "0: 480x640 1 person, 1 chair, 233.9ms\n",
      "Speed: 1.4ms preprocess, 233.9ms inference, 1.0ms postprocess per image at shape (1, 3, 480, 640)\n",
      "\n"
     ]
    },
    {
     "name": "stdout",
     "output_type": "stream",
     "text": [
      "Confidence ---> 0.88\n",
      "Class name --> person\n",
      "Confidence ---> 0.39\n",
      "Class name --> chair\n"
     ]
    },
    {
     "name": "stderr",
     "output_type": "stream",
     "text": [
      "0: 480x640 1 person, 1 chair, 237.8ms\n",
      "Speed: 1.0ms preprocess, 237.8ms inference, 0.9ms postprocess per image at shape (1, 3, 480, 640)\n",
      "\n"
     ]
    },
    {
     "name": "stdout",
     "output_type": "stream",
     "text": [
      "Confidence ---> 0.88\n",
      "Class name --> person\n",
      "Confidence ---> 0.42\n",
      "Class name --> chair\n"
     ]
    },
    {
     "name": "stderr",
     "output_type": "stream",
     "text": [
      "0: 480x640 1 person, 1 chair, 229.5ms\n",
      "Speed: 1.0ms preprocess, 229.5ms inference, 1.1ms postprocess per image at shape (1, 3, 480, 640)\n",
      "\n"
     ]
    },
    {
     "name": "stdout",
     "output_type": "stream",
     "text": [
      "Confidence ---> 0.88\n",
      "Class name --> person\n",
      "Confidence ---> 0.34\n",
      "Class name --> chair\n"
     ]
    },
    {
     "name": "stderr",
     "output_type": "stream",
     "text": [
      "0: 480x640 1 person, 1 chair, 230.6ms\n",
      "Speed: 1.0ms preprocess, 230.6ms inference, 0.9ms postprocess per image at shape (1, 3, 480, 640)\n",
      "\n"
     ]
    },
    {
     "name": "stdout",
     "output_type": "stream",
     "text": [
      "Confidence ---> 0.87\n",
      "Class name --> person\n",
      "Confidence ---> 0.39\n",
      "Class name --> chair\n"
     ]
    },
    {
     "name": "stderr",
     "output_type": "stream",
     "text": [
      "0: 480x640 1 person, 1 chair, 226.5ms\n",
      "Speed: 1.0ms preprocess, 226.5ms inference, 0.9ms postprocess per image at shape (1, 3, 480, 640)\n",
      "\n"
     ]
    },
    {
     "name": "stdout",
     "output_type": "stream",
     "text": [
      "Confidence ---> 0.88\n",
      "Class name --> person\n",
      "Confidence ---> 0.34\n",
      "Class name --> chair\n"
     ]
    },
    {
     "name": "stderr",
     "output_type": "stream",
     "text": [
      "0: 480x640 1 person, 1 chair, 229.3ms\n",
      "Speed: 1.0ms preprocess, 229.3ms inference, 1.0ms postprocess per image at shape (1, 3, 480, 640)\n",
      "\n"
     ]
    },
    {
     "name": "stdout",
     "output_type": "stream",
     "text": [
      "Confidence ---> 0.87\n",
      "Class name --> person\n",
      "Confidence ---> 0.34\n",
      "Class name --> chair\n"
     ]
    },
    {
     "name": "stderr",
     "output_type": "stream",
     "text": [
      "0: 480x640 1 person, 1 chair, 232.3ms\n",
      "Speed: 1.0ms preprocess, 232.3ms inference, 1.0ms postprocess per image at shape (1, 3, 480, 640)\n",
      "\n"
     ]
    },
    {
     "name": "stdout",
     "output_type": "stream",
     "text": [
      "Confidence ---> 0.87\n",
      "Class name --> person\n",
      "Confidence ---> 0.43\n",
      "Class name --> chair\n"
     ]
    },
    {
     "name": "stderr",
     "output_type": "stream",
     "text": [
      "0: 480x640 1 person, 1 chair, 240.1ms\n",
      "Speed: 1.1ms preprocess, 240.1ms inference, 0.8ms postprocess per image at shape (1, 3, 480, 640)\n",
      "\n"
     ]
    },
    {
     "name": "stdout",
     "output_type": "stream",
     "text": [
      "Confidence ---> 0.88\n",
      "Class name --> person\n",
      "Confidence ---> 0.38\n",
      "Class name --> chair\n"
     ]
    },
    {
     "name": "stderr",
     "output_type": "stream",
     "text": [
      "0: 480x640 1 person, 1 chair, 229.4ms\n",
      "Speed: 0.9ms preprocess, 229.4ms inference, 0.9ms postprocess per image at shape (1, 3, 480, 640)\n",
      "\n"
     ]
    },
    {
     "name": "stdout",
     "output_type": "stream",
     "text": [
      "Confidence ---> 0.87\n",
      "Class name --> person\n",
      "Confidence ---> 0.37\n",
      "Class name --> chair\n"
     ]
    },
    {
     "name": "stderr",
     "output_type": "stream",
     "text": [
      "0: 480x640 1 person, 1 chair, 231.0ms\n",
      "Speed: 1.2ms preprocess, 231.0ms inference, 0.9ms postprocess per image at shape (1, 3, 480, 640)\n",
      "\n"
     ]
    },
    {
     "name": "stdout",
     "output_type": "stream",
     "text": [
      "Confidence ---> 0.87\n",
      "Class name --> person\n",
      "Confidence ---> 0.38\n",
      "Class name --> chair\n"
     ]
    },
    {
     "name": "stderr",
     "output_type": "stream",
     "text": [
      "0: 480x640 1 person, 1 chair, 233.0ms\n",
      "Speed: 1.1ms preprocess, 233.0ms inference, 1.0ms postprocess per image at shape (1, 3, 480, 640)\n",
      "\n"
     ]
    },
    {
     "name": "stdout",
     "output_type": "stream",
     "text": [
      "Confidence ---> 0.88\n",
      "Class name --> person\n",
      "Confidence ---> 0.34\n",
      "Class name --> chair\n"
     ]
    },
    {
     "name": "stderr",
     "output_type": "stream",
     "text": [
      "0: 480x640 1 person, 1 chair, 245.0ms\n",
      "Speed: 1.1ms preprocess, 245.0ms inference, 0.8ms postprocess per image at shape (1, 3, 480, 640)\n"
     ]
    },
    {
     "name": "stdout",
     "output_type": "stream",
     "text": [
      "Confidence ---> 0.89\n",
      "Class name --> person\n",
      "Confidence ---> 0.39\n",
      "Class name --> chair\n"
     ]
    }
   ],
   "source": [
    "from ultralytics import YOLO\n",
    "import cv2\n",
    "import math \n",
    "# start webcam\n",
    "cap = cv2.VideoCapture(0)\n",
    "cap.set(3, 640)\n",
    "cap.set(4, 480)\n",
    "\n",
    "# model\n",
    "model = YOLO(\"yolo-Weights/yolov8n.pt\")\n",
    "\n",
    "# object classes\n",
    "classNames = [\"person\", \"bicycle\", \"car\", \"motorbike\", \"aeroplane\", \"bus\", \"train\", \"truck\", \"boat\",\n",
    "              \"traffic light\", \"fire hydrant\", \"stop sign\", \"parking meter\", \"bench\", \"bird\", \"cat\",\n",
    "              \"dog\", \"horse\", \"sheep\", \"cow\", \"elephant\", \"bear\", \"zebra\", \"giraffe\", \"backpack\", \"umbrella\",\n",
    "              \"handbag\", \"tie\", \"suitcase\", \"frisbee\", \"skis\", \"snowboard\", \"sports ball\", \"kite\", \"baseball bat\",\n",
    "              \"baseball glove\", \"skateboard\", \"surfboard\", \"tennis racket\", \"bottle\", \"wine glass\", \"cup\",\n",
    "              \"fork\", \"knife\", \"spoon\", \"bowl\", \"banana\", \"apple\", \"sandwich\", \"orange\", \"broccoli\",\n",
    "              \"carrot\", \"hot dog\", \"pizza\", \"donut\", \"cake\", \"chair\", \"sofa\", \"pottedplant\", \"bed\",\n",
    "              \"diningtable\", \"toilet\", \"tvmonitor\", \"laptop\", \"mouse\", \"remote\", \"keyboard\", \"cell phone\",\n",
    "              \"microwave\", \"oven\", \"toaster\", \"sink\", \"refrigerator\", \"book\", \"clock\", \"vase\", \"scissors\",\n",
    "              \"teddy bear\", \"hair drier\", \"toothbrush\" ,\n",
    "              # basketball classes\n",
    "              \" Basketball-courts \" , \" ball \" , \" made \" , \" person \" , \" rim \" , \" shoot \"\n",
    "              ]\n",
    "\n",
    "\n",
    "while True:\n",
    "    success, img = cap.read()\n",
    "    results = model(img, stream=True)\n",
    "\n",
    "    # coordinates\n",
    "    for r in results:\n",
    "        boxes = r.boxes\n",
    "\n",
    "        for box in boxes:\n",
    "            # bounding box\n",
    "            x1, y1, x2, y2 = box.xyxy[0]\n",
    "            x1, y1, x2, y2 = int(x1), int(y1), int(x2), int(y2) # convert to int values\n",
    "\n",
    "            # put box in cam\n",
    "            cv2.rectangle(img, (x1, y1), (x2, y2), (255, 0, 255), 3)\n",
    "\n",
    "            # confidence\n",
    "            confidence = math.ceil((box.conf[0]*100))/100\n",
    "            print(\"Confidence --->\",confidence)\n",
    "\n",
    "            # class name\n",
    "            cls = int(box.cls[0])\n",
    "            print(\"Class name -->\", classNames[cls])\n",
    "\n",
    "            # object details\n",
    "            org = [x1, y1]\n",
    "            font = cv2.FONT_HERSHEY_SIMPLEX\n",
    "            fontScale = 1\n",
    "            color = (255, 0, 0)\n",
    "            thickness = 2\n",
    "\n",
    "            cv2.putText(img, classNames[cls], org, font, fontScale, color, thickness)\n",
    "\n",
    "    cv2.imshow('Webcam', img)\n",
    "    if cv2.waitKey(1) == ord('q'):\n",
    "        break\n",
    "\n",
    "cap.release()\n",
    "cv2.destroyAllWindows()\n",
    "for i in range (1,5):\n",
    "    cv2.waitKey(1)"
   ]
  },
  {
   "cell_type": "code",
   "execution_count": null,
   "id": "3374d073",
   "metadata": {},
   "outputs": [],
   "source": []
  }
 ],
 "metadata": {
  "kernelspec": {
   "display_name": "Python 3 (ipykernel)",
   "language": "python",
   "name": "python3"
  },
  "language_info": {
   "codemirror_mode": {
    "name": "ipython",
    "version": 3
   },
   "file_extension": ".py",
   "mimetype": "text/x-python",
   "name": "python",
   "nbconvert_exporter": "python",
   "pygments_lexer": "ipython3",
   "version": "3.11.4"
  }
 },
 "nbformat": 4,
 "nbformat_minor": 5
}
